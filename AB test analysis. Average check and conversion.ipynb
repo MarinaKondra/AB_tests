{
 "cells": [
  {
   "cell_type": "markdown",
   "metadata": {},
   "source": [
    "# Принятие решений в бизнесе на основе данных. Анализ A/B-теста\n",
    "\n",
    "**Цель исследования** - проанализировать результаты  A/B-теста.\n",
    "\n",
    "**Задачи исследования** - для выполнения поставленной цели все данные загружены и предобработаны для анализа. Затем построены и проанализированы полученные графики и рассчитана статистическая значимость.\n",
    "\n",
    "**Исходные данные:**\n",
    "\n",
    " -   результаты A/B-теста, которые описаны в файлах /datasets/orders.csv и /datasets/visitors.csv. \n",
    "\n",
    " \n",
    "Таким образом, исследование пройдено в пять этапов:\n",
    " 1. Обзор данных.\n",
    " 2. Анализ кумулятивных метрик и построение графиков.\n",
    " 3. Выявление и анализ выбросов.\n",
    " 4. Статистическая значимость различий сырых и очищенных от выбросов данных."
   ]
  },
  {
   "cell_type": "markdown",
   "metadata": {},
   "source": [
    "#### СТЭК"
   ]
  },
  {
   "cell_type": "code",
   "execution_count": 24,
   "metadata": {},
   "outputs": [],
   "source": [
    "import pandas as pd\n",
    "import datetime as dt\n",
    "import scipy.stats as stats\n",
    "import matplotlib.pyplot as plt\n",
    "import numpy as np"
   ]
  },
  {
   "cell_type": "markdown",
   "metadata": {},
   "source": [
    "## Обзор и предобработака данных"
   ]
  },
  {
   "cell_type": "markdown",
   "metadata": {},
   "source": [
    "Прочтём данные из файлов с результатами A/B-тестирования:"
   ]
  },
  {
   "cell_type": "code",
   "execution_count": 25,
   "metadata": {},
   "outputs": [],
   "source": [
    "def fst_imp(data):\n",
    "    \"\"\"This function is giving first impression of data. Also checking exact duplicates and blanks\"\"\"\n",
    "    return (pd.set_option(\"max_colwidth\", 120),\n",
    "            display(data.head(3)),\n",
    "            print(data.info()), \n",
    "            print('---------------------------------------------'),\n",
    "            \n",
    "            print(\"Количество явных дубликатов:\", data.duplicated().sum()),\n",
    "            print(\" \"),\n",
    "            print(\"Наличие пропусков:\"),\n",
    "            display(pd.DataFrame(round(data.isna().mean()*100,2)).style.background_gradient('coolwarm')))"
   ]
  },
  {
   "cell_type": "code",
   "execution_count": 26,
   "metadata": {},
   "outputs": [
    {
     "data": {
      "text/html": [
       "<div>\n",
       "<style scoped>\n",
       "    .dataframe tbody tr th:only-of-type {\n",
       "        vertical-align: middle;\n",
       "    }\n",
       "\n",
       "    .dataframe tbody tr th {\n",
       "        vertical-align: top;\n",
       "    }\n",
       "\n",
       "    .dataframe thead th {\n",
       "        text-align: right;\n",
       "    }\n",
       "</style>\n",
       "<table border=\"1\" class=\"dataframe\">\n",
       "  <thead>\n",
       "    <tr style=\"text-align: right;\">\n",
       "      <th></th>\n",
       "      <th>transactionId</th>\n",
       "      <th>visitorId</th>\n",
       "      <th>date</th>\n",
       "      <th>revenue</th>\n",
       "      <th>group</th>\n",
       "    </tr>\n",
       "  </thead>\n",
       "  <tbody>\n",
       "    <tr>\n",
       "      <th>0</th>\n",
       "      <td>3667963787</td>\n",
       "      <td>3312258926</td>\n",
       "      <td>2019-08-15</td>\n",
       "      <td>1650</td>\n",
       "      <td>B</td>\n",
       "    </tr>\n",
       "    <tr>\n",
       "      <th>1</th>\n",
       "      <td>2804400009</td>\n",
       "      <td>3642806036</td>\n",
       "      <td>2019-08-15</td>\n",
       "      <td>730</td>\n",
       "      <td>B</td>\n",
       "    </tr>\n",
       "    <tr>\n",
       "      <th>2</th>\n",
       "      <td>2961555356</td>\n",
       "      <td>4069496402</td>\n",
       "      <td>2019-08-15</td>\n",
       "      <td>400</td>\n",
       "      <td>A</td>\n",
       "    </tr>\n",
       "  </tbody>\n",
       "</table>\n",
       "</div>"
      ],
      "text/plain": [
       "   transactionId   visitorId        date  revenue group\n",
       "0     3667963787  3312258926  2019-08-15     1650     B\n",
       "1     2804400009  3642806036  2019-08-15      730     B\n",
       "2     2961555356  4069496402  2019-08-15      400     A"
      ]
     },
     "metadata": {},
     "output_type": "display_data"
    },
    {
     "name": "stdout",
     "output_type": "stream",
     "text": [
      "<class 'pandas.core.frame.DataFrame'>\n",
      "RangeIndex: 1197 entries, 0 to 1196\n",
      "Data columns (total 5 columns):\n",
      " #   Column         Non-Null Count  Dtype \n",
      "---  ------         --------------  ----- \n",
      " 0   transactionId  1197 non-null   int64 \n",
      " 1   visitorId      1197 non-null   int64 \n",
      " 2   date           1197 non-null   object\n",
      " 3   revenue        1197 non-null   int64 \n",
      " 4   group          1197 non-null   object\n",
      "dtypes: int64(3), object(2)\n",
      "memory usage: 46.9+ KB\n",
      "None\n",
      "---------------------------------------------\n",
      "Количество явных дубликатов: 0\n",
      " \n",
      "Наличие пропусков:\n"
     ]
    },
    {
     "data": {
      "text/html": [
       "<style type=\"text/css\">\n",
       "#T_feb71_row0_col0, #T_feb71_row1_col0, #T_feb71_row2_col0, #T_feb71_row3_col0, #T_feb71_row4_col0 {\n",
       "  background-color: #3b4cc0;\n",
       "  color: #f1f1f1;\n",
       "}\n",
       "</style>\n",
       "<table id=\"T_feb71_\">\n",
       "  <thead>\n",
       "    <tr>\n",
       "      <th class=\"blank level0\" >&nbsp;</th>\n",
       "      <th class=\"col_heading level0 col0\" >0</th>\n",
       "    </tr>\n",
       "  </thead>\n",
       "  <tbody>\n",
       "    <tr>\n",
       "      <th id=\"T_feb71_level0_row0\" class=\"row_heading level0 row0\" >transactionId</th>\n",
       "      <td id=\"T_feb71_row0_col0\" class=\"data row0 col0\" >0.000000</td>\n",
       "    </tr>\n",
       "    <tr>\n",
       "      <th id=\"T_feb71_level0_row1\" class=\"row_heading level0 row1\" >visitorId</th>\n",
       "      <td id=\"T_feb71_row1_col0\" class=\"data row1 col0\" >0.000000</td>\n",
       "    </tr>\n",
       "    <tr>\n",
       "      <th id=\"T_feb71_level0_row2\" class=\"row_heading level0 row2\" >date</th>\n",
       "      <td id=\"T_feb71_row2_col0\" class=\"data row2 col0\" >0.000000</td>\n",
       "    </tr>\n",
       "    <tr>\n",
       "      <th id=\"T_feb71_level0_row3\" class=\"row_heading level0 row3\" >revenue</th>\n",
       "      <td id=\"T_feb71_row3_col0\" class=\"data row3 col0\" >0.000000</td>\n",
       "    </tr>\n",
       "    <tr>\n",
       "      <th id=\"T_feb71_level0_row4\" class=\"row_heading level0 row4\" >group</th>\n",
       "      <td id=\"T_feb71_row4_col0\" class=\"data row4 col0\" >0.000000</td>\n",
       "    </tr>\n",
       "  </tbody>\n",
       "</table>\n"
      ],
      "text/plain": [
       "<pandas.io.formats.style.Styler at 0x193d3b93b80>"
      ]
     },
     "metadata": {},
     "output_type": "display_data"
    },
    {
     "data": {
      "text/plain": [
       "(None, None, None, None, None, None, None, None)"
      ]
     },
     "execution_count": 26,
     "metadata": {},
     "output_type": "execute_result"
    }
   ],
   "source": [
    "orders = pd.read_csv('orders.csv', sep=',')\n",
    "fst_imp(orders)"
   ]
  },
  {
   "cell_type": "markdown",
   "metadata": {},
   "source": [
    "Ознакомимся с данными. Столбцы датафрейма orders:\n",
    "\n",
    "- `transactionId` — идентификатор заказа;\n",
    "- `visitorId` — идентификатор пользователя, совершившего заказ;\n",
    "- `date` — дата, когда был совершён заказ;\n",
    "- `revenue` — выручка заказа;\n",
    "- `group` — группа A/B-теста, в которую попал заказ."
   ]
  },
  {
   "cell_type": "code",
   "execution_count": 27,
   "metadata": {},
   "outputs": [
    {
     "data": {
      "text/html": [
       "<div>\n",
       "<style scoped>\n",
       "    .dataframe tbody tr th:only-of-type {\n",
       "        vertical-align: middle;\n",
       "    }\n",
       "\n",
       "    .dataframe tbody tr th {\n",
       "        vertical-align: top;\n",
       "    }\n",
       "\n",
       "    .dataframe thead th {\n",
       "        text-align: right;\n",
       "    }\n",
       "</style>\n",
       "<table border=\"1\" class=\"dataframe\">\n",
       "  <thead>\n",
       "    <tr style=\"text-align: right;\">\n",
       "      <th></th>\n",
       "      <th>date</th>\n",
       "      <th>group</th>\n",
       "      <th>visitors</th>\n",
       "    </tr>\n",
       "  </thead>\n",
       "  <tbody>\n",
       "    <tr>\n",
       "      <th>0</th>\n",
       "      <td>2019-08-01</td>\n",
       "      <td>A</td>\n",
       "      <td>719</td>\n",
       "    </tr>\n",
       "    <tr>\n",
       "      <th>1</th>\n",
       "      <td>2019-08-02</td>\n",
       "      <td>A</td>\n",
       "      <td>619</td>\n",
       "    </tr>\n",
       "    <tr>\n",
       "      <th>2</th>\n",
       "      <td>2019-08-03</td>\n",
       "      <td>A</td>\n",
       "      <td>507</td>\n",
       "    </tr>\n",
       "  </tbody>\n",
       "</table>\n",
       "</div>"
      ],
      "text/plain": [
       "         date group  visitors\n",
       "0  2019-08-01     A       719\n",
       "1  2019-08-02     A       619\n",
       "2  2019-08-03     A       507"
      ]
     },
     "metadata": {},
     "output_type": "display_data"
    },
    {
     "name": "stdout",
     "output_type": "stream",
     "text": [
      "<class 'pandas.core.frame.DataFrame'>\n",
      "RangeIndex: 62 entries, 0 to 61\n",
      "Data columns (total 3 columns):\n",
      " #   Column    Non-Null Count  Dtype \n",
      "---  ------    --------------  ----- \n",
      " 0   date      62 non-null     object\n",
      " 1   group     62 non-null     object\n",
      " 2   visitors  62 non-null     int64 \n",
      "dtypes: int64(1), object(2)\n",
      "memory usage: 1.6+ KB\n",
      "None\n",
      "---------------------------------------------\n",
      "Количество явных дубликатов: 0\n",
      " \n",
      "Наличие пропусков:\n"
     ]
    },
    {
     "data": {
      "text/html": [
       "<style type=\"text/css\">\n",
       "#T_be104_row0_col0, #T_be104_row1_col0, #T_be104_row2_col0 {\n",
       "  background-color: #3b4cc0;\n",
       "  color: #f1f1f1;\n",
       "}\n",
       "</style>\n",
       "<table id=\"T_be104_\">\n",
       "  <thead>\n",
       "    <tr>\n",
       "      <th class=\"blank level0\" >&nbsp;</th>\n",
       "      <th class=\"col_heading level0 col0\" >0</th>\n",
       "    </tr>\n",
       "  </thead>\n",
       "  <tbody>\n",
       "    <tr>\n",
       "      <th id=\"T_be104_level0_row0\" class=\"row_heading level0 row0\" >date</th>\n",
       "      <td id=\"T_be104_row0_col0\" class=\"data row0 col0\" >0.000000</td>\n",
       "    </tr>\n",
       "    <tr>\n",
       "      <th id=\"T_be104_level0_row1\" class=\"row_heading level0 row1\" >group</th>\n",
       "      <td id=\"T_be104_row1_col0\" class=\"data row1 col0\" >0.000000</td>\n",
       "    </tr>\n",
       "    <tr>\n",
       "      <th id=\"T_be104_level0_row2\" class=\"row_heading level0 row2\" >visitors</th>\n",
       "      <td id=\"T_be104_row2_col0\" class=\"data row2 col0\" >0.000000</td>\n",
       "    </tr>\n",
       "  </tbody>\n",
       "</table>\n"
      ],
      "text/plain": [
       "<pandas.io.formats.style.Styler at 0x193d3ed9eb0>"
      ]
     },
     "metadata": {},
     "output_type": "display_data"
    },
    {
     "data": {
      "text/plain": [
       "(None, None, None, None, None, None, None, None)"
      ]
     },
     "execution_count": 27,
     "metadata": {},
     "output_type": "execute_result"
    }
   ],
   "source": [
    "visitors = pd.read_csv('visitors.csv', sep=',')\n",
    "fst_imp(visitors)"
   ]
  },
  {
   "cell_type": "markdown",
   "metadata": {},
   "source": [
    "Столбцы датафрейма visitors:\n",
    "\n",
    "- `date` — дата;\n",
    "- `group`— группа A/B-теста;\n",
    "- `visitors` — количество пользователей в указанную дату в указанной группе A/B-теста."
   ]
  },
  {
   "cell_type": "markdown",
   "metadata": {},
   "source": [
    "Методом to_datetime() превратим содержимое столбцов `date` в понятные для Python даты в датафреймах."
   ]
  },
  {
   "cell_type": "code",
   "execution_count": 28,
   "metadata": {},
   "outputs": [],
   "source": [
    "orders['date'] = pd.to_datetime(orders['date'], format='%Y-%m-%dT%H:%M:%S')\n",
    "visitors['date'] = pd.to_datetime(visitors['date'], format='%Y-%m-%dT%H:%M:%S')"
   ]
  },
  {
   "cell_type": "markdown",
   "metadata": {},
   "source": [
    "Итак, даты в датафреймах приведены к нужному типу, теперь мы можем определить временные рамки проведения теста."
   ]
  },
  {
   "cell_type": "code",
   "execution_count": 29,
   "metadata": {},
   "outputs": [
    {
     "name": "stdout",
     "output_type": "stream",
     "text": [
      "Временной горизонт в датафрейме \"orders\":  2019-08-01 00:00:00 по  2019-08-31 00:00:00\n",
      "Временной горизонт в датафрейме \"visitors\":  2019-08-01 00:00:00 по  2019-08-31 00:00:00\n"
     ]
    }
   ],
   "source": [
    "first_date = orders['date'].min()\n",
    "last_date = orders['date'].max()\n",
    "print('Временной горизонт в датафрейме \"orders\": ', first_date, 'по ', last_date)\n",
    "\n",
    "first_date_v = visitors['date'].min()\n",
    "last_date_v = visitors['date'].max()\n",
    "print('Временной горизонт в датафрейме \"visitors\": ', first_date_v, 'по ', last_date_v)"
   ]
  },
  {
   "cell_type": "markdown",
   "metadata": {},
   "source": [
    "Далее, сгруппируем оба датафрейма по группам теста."
   ]
  },
  {
   "cell_type": "code",
   "execution_count": 30,
   "metadata": {},
   "outputs": [
    {
     "data": {
      "text/html": [
       "<div>\n",
       "<style scoped>\n",
       "    .dataframe tbody tr th:only-of-type {\n",
       "        vertical-align: middle;\n",
       "    }\n",
       "\n",
       "    .dataframe tbody tr th {\n",
       "        vertical-align: top;\n",
       "    }\n",
       "\n",
       "    .dataframe thead th {\n",
       "        text-align: right;\n",
       "    }\n",
       "</style>\n",
       "<table border=\"1\" class=\"dataframe\">\n",
       "  <thead>\n",
       "    <tr style=\"text-align: right;\">\n",
       "      <th></th>\n",
       "      <th>transactionId</th>\n",
       "      <th>visitorId</th>\n",
       "    </tr>\n",
       "    <tr>\n",
       "      <th>group</th>\n",
       "      <th></th>\n",
       "      <th></th>\n",
       "    </tr>\n",
       "  </thead>\n",
       "  <tbody>\n",
       "    <tr>\n",
       "      <th>A</th>\n",
       "      <td>557</td>\n",
       "      <td>503</td>\n",
       "    </tr>\n",
       "    <tr>\n",
       "      <th>B</th>\n",
       "      <td>640</td>\n",
       "      <td>586</td>\n",
       "    </tr>\n",
       "  </tbody>\n",
       "</table>\n",
       "</div>"
      ],
      "text/plain": [
       "       transactionId  visitorId\n",
       "group                          \n",
       "A                557        503\n",
       "B                640        586"
      ]
     },
     "execution_count": 30,
     "metadata": {},
     "output_type": "execute_result"
    }
   ],
   "source": [
    "pivot_groups = orders.groupby('group').agg({'transactionId': 'count', 'visitorId': 'nunique'})\n",
    "pivot_groups"
   ]
  },
  {
   "cell_type": "code",
   "execution_count": 31,
   "metadata": {
    "scrolled": true
   },
   "outputs": [
    {
     "data": {
      "text/html": [
       "<div>\n",
       "<style scoped>\n",
       "    .dataframe tbody tr th:only-of-type {\n",
       "        vertical-align: middle;\n",
       "    }\n",
       "\n",
       "    .dataframe tbody tr th {\n",
       "        vertical-align: top;\n",
       "    }\n",
       "\n",
       "    .dataframe thead th {\n",
       "        text-align: right;\n",
       "    }\n",
       "</style>\n",
       "<table border=\"1\" class=\"dataframe\">\n",
       "  <thead>\n",
       "    <tr style=\"text-align: right;\">\n",
       "      <th></th>\n",
       "      <th>visitors</th>\n",
       "    </tr>\n",
       "    <tr>\n",
       "      <th>group</th>\n",
       "      <th></th>\n",
       "    </tr>\n",
       "  </thead>\n",
       "  <tbody>\n",
       "    <tr>\n",
       "      <th>A</th>\n",
       "      <td>18736</td>\n",
       "    </tr>\n",
       "    <tr>\n",
       "      <th>B</th>\n",
       "      <td>18916</td>\n",
       "    </tr>\n",
       "  </tbody>\n",
       "</table>\n",
       "</div>"
      ],
      "text/plain": [
       "       visitors\n",
       "group          \n",
       "A         18736\n",
       "B         18916"
      ]
     },
     "execution_count": 31,
     "metadata": {},
     "output_type": "execute_result"
    }
   ],
   "source": [
    "pivot_groups_visitors = visitors.groupby('group').agg({'visitors': 'sum'})\n",
    "pivot_groups_visitors"
   ]
  },
  {
   "cell_type": "markdown",
   "metadata": {},
   "source": [
    "Определим наличие пользователей, находящихся в двух группах одновременно. "
   ]
  },
  {
   "cell_type": "code",
   "execution_count": 32,
   "metadata": {},
   "outputs": [
    {
     "name": "stdout",
     "output_type": "stream",
     "text": [
      "Обнаружено количество дублирующихся пользователей одновременно в двух группах теста: 58\n"
     ]
    }
   ],
   "source": [
    "duplicates= orders.groupby('visitorId').agg({'group':'nunique'}).query('group>1')\n",
    "print('Обнаружено количество дублирующихся пользователей одновременно в двух группах теста:',duplicates.shape[0])"
   ]
  },
  {
   "cell_type": "markdown",
   "metadata": {},
   "source": [
    " Мы обнаружили 58 дубликатов. Их необходимо удалить из анализа. "
   ]
  },
  {
   "cell_type": "code",
   "execution_count": 33,
   "metadata": {},
   "outputs": [
    {
     "name": "stdout",
     "output_type": "stream",
     "text": [
      "После обработки количество дублирующихся пользователей одновременно в двух группах теста: 0\n"
     ]
    }
   ],
   "source": [
    "orders = orders[~orders['visitorId'].isin(duplicates.index)]\n",
    "duplicates= orders.groupby('visitorId').agg({'group':'nunique'}).query('group>1')\n",
    "print('После обработки количество дублирующихся пользователей одновременно в двух группах теста:',duplicates.shape[0])"
   ]
  },
  {
   "cell_type": "code",
   "execution_count": 34,
   "metadata": {},
   "outputs": [
    {
     "data": {
      "text/html": [
       "<div>\n",
       "<style scoped>\n",
       "    .dataframe tbody tr th:only-of-type {\n",
       "        vertical-align: middle;\n",
       "    }\n",
       "\n",
       "    .dataframe tbody tr th {\n",
       "        vertical-align: top;\n",
       "    }\n",
       "\n",
       "    .dataframe thead th {\n",
       "        text-align: right;\n",
       "    }\n",
       "</style>\n",
       "<table border=\"1\" class=\"dataframe\">\n",
       "  <thead>\n",
       "    <tr style=\"text-align: right;\">\n",
       "      <th></th>\n",
       "      <th>transactionId</th>\n",
       "      <th>visitorId</th>\n",
       "    </tr>\n",
       "    <tr>\n",
       "      <th>group</th>\n",
       "      <th></th>\n",
       "      <th></th>\n",
       "    </tr>\n",
       "  </thead>\n",
       "  <tbody>\n",
       "    <tr>\n",
       "      <th>A</th>\n",
       "      <td>468</td>\n",
       "      <td>445</td>\n",
       "    </tr>\n",
       "    <tr>\n",
       "      <th>B</th>\n",
       "      <td>548</td>\n",
       "      <td>528</td>\n",
       "    </tr>\n",
       "  </tbody>\n",
       "</table>\n",
       "</div>"
      ],
      "text/plain": [
       "       transactionId  visitorId\n",
       "group                          \n",
       "A                468        445\n",
       "B                548        528"
      ]
     },
     "execution_count": 34,
     "metadata": {},
     "output_type": "execute_result"
    }
   ],
   "source": [
    "pivot_groups_f = orders.groupby('group').agg({'transactionId': 'count', 'visitorId': 'nunique'})\n",
    "pivot_groups_f"
   ]
  },
  {
   "cell_type": "markdown",
   "metadata": {},
   "source": [
    "Таким образом, после удаления дубликатов у нас есть 445 уникальных покупателя в группе А и 528 в группе В. Теперь можно приступать к построению графиков."
   ]
  },
  {
   "cell_type": "markdown",
   "metadata": {},
   "source": [
    "### Анализ кумулятивных метрик"
   ]
  },
  {
   "cell_type": "markdown",
   "metadata": {},
   "source": [
    "Чтобы построить графики, нужно собрать кумулятивные данные. Объявим датафрейм cumulativeData со столбцами:\n",
    "\n",
    "- `date` — дата;\n",
    "- `group` — группа A/B-теста (A или B);\n",
    "- `orders` — кумулятивное количество заказов на указанную дату в указанной группе;\n",
    "- `buyers` — кумулятивное количество пользователей, совершивших хотя бы один заказ, на указанную дату в указанной группе;\n",
    "- `revenue` — кумулятивная выручка на указанную дату в указанной группе (средний чек);\n",
    "- `visitors` — кумулятивное количество посетителей интернет-магазина на указанную дату в определённой группе.\n",
    "\n",
    "Создадим массив уникальных пар значений дат и групп теста методом drop_duplicates():"
   ]
  },
  {
   "cell_type": "code",
   "execution_count": 35,
   "metadata": {},
   "outputs": [],
   "source": [
    "# создаем массив уникальных пар значений дат и групп теста\n",
    "datesGroups = orders[['date','group']].drop_duplicates()"
   ]
  },
  {
   "cell_type": "markdown",
   "metadata": {},
   "source": [
    "Соберём агрегированные кумулятивные по дням данные о заказах в несколько действий.\n",
    "Получим строки таблицы orders, дата которых меньше или равна дате элемента из datesGroups, а группа теста равна группе из datesGroups:\\\n",
    "`orders[np.logical_and(orders['date'] <= x['date'], orders['group'] == x['group'])]`\n",
    "\n",
    "Агрегируем значения. Вычислим максимальную дату. Для группы тоже рассчитаем максимум, и хотя она будет определённой, сделаем это, чтобы столбец 'group' не пропал из итогового вывода. Найдём число уникальных ID заказов и пользователей. Подсчитаем сумму средних чеков:\\\n",
    "`.agg({'date' : 'max', 'group' : 'max', 'orderId' : 'nunique', 'userId' : 'nunique', 'revenue' : 'sum'})`\n",
    "\n",
    "Применим методы к каждой строке датафрейма: apply(axis=1) и отсортируем результаты по столбцам 'date' и 'group':"
   ]
  },
  {
   "cell_type": "code",
   "execution_count": 36,
   "metadata": {},
   "outputs": [
    {
     "data": {
      "text/html": [
       "<div>\n",
       "<style scoped>\n",
       "    .dataframe tbody tr th:only-of-type {\n",
       "        vertical-align: middle;\n",
       "    }\n",
       "\n",
       "    .dataframe tbody tr th {\n",
       "        vertical-align: top;\n",
       "    }\n",
       "\n",
       "    .dataframe thead th {\n",
       "        text-align: right;\n",
       "    }\n",
       "</style>\n",
       "<table border=\"1\" class=\"dataframe\">\n",
       "  <thead>\n",
       "    <tr style=\"text-align: right;\">\n",
       "      <th></th>\n",
       "      <th>date</th>\n",
       "      <th>group</th>\n",
       "      <th>transactionId</th>\n",
       "      <th>visitorId</th>\n",
       "      <th>revenue</th>\n",
       "    </tr>\n",
       "  </thead>\n",
       "  <tbody>\n",
       "    <tr>\n",
       "      <th>55</th>\n",
       "      <td>2019-08-01</td>\n",
       "      <td>A</td>\n",
       "      <td>23</td>\n",
       "      <td>19</td>\n",
       "      <td>142779</td>\n",
       "    </tr>\n",
       "    <tr>\n",
       "      <th>66</th>\n",
       "      <td>2019-08-01</td>\n",
       "      <td>B</td>\n",
       "      <td>17</td>\n",
       "      <td>17</td>\n",
       "      <td>59758</td>\n",
       "    </tr>\n",
       "    <tr>\n",
       "      <th>175</th>\n",
       "      <td>2019-08-02</td>\n",
       "      <td>A</td>\n",
       "      <td>42</td>\n",
       "      <td>36</td>\n",
       "      <td>234381</td>\n",
       "    </tr>\n",
       "    <tr>\n",
       "      <th>173</th>\n",
       "      <td>2019-08-02</td>\n",
       "      <td>B</td>\n",
       "      <td>40</td>\n",
       "      <td>39</td>\n",
       "      <td>221801</td>\n",
       "    </tr>\n",
       "  </tbody>\n",
       "</table>\n",
       "</div>"
      ],
      "text/plain": [
       "          date group  transactionId  visitorId  revenue\n",
       "55  2019-08-01     A             23         19   142779\n",
       "66  2019-08-01     B             17         17    59758\n",
       "175 2019-08-02     A             42         36   234381\n",
       "173 2019-08-02     B             40         39   221801"
      ]
     },
     "execution_count": 36,
     "metadata": {},
     "output_type": "execute_result"
    }
   ],
   "source": [
    "ordersAggregated = (datesGroups.apply(\n",
    "    lambda x: orders[np.logical_and(orders['date'] <= x['date'],\n",
    "                                    orders['group'] == x['group'])]\n",
    "    .agg({'date' : 'max', 'group' : 'max', 'transactionId' : 'nunique', \n",
    "          'visitorId' : 'nunique', 'revenue' : 'sum'}), axis=1)\n",
    "                    .sort_values(by=['date','group'])\n",
    "                   )\n",
    "\n",
    "#Этот код работает так, будто мы ежедневно считали результаты тестирования \n",
    "#до выбранного дня включительно и сохраняли их в строках таблицы ordersAggregated\n",
    "\n",
    "ordersAggregated.head(4)"
   ]
  },
  {
   "cell_type": "markdown",
   "metadata": {},
   "source": [
    "Аналогично получим агрегированные кумулятивные по дням данные о посетителях интернет-магазина:"
   ]
  },
  {
   "cell_type": "code",
   "execution_count": 37,
   "metadata": {},
   "outputs": [
    {
     "data": {
      "text/html": [
       "<div>\n",
       "<style scoped>\n",
       "    .dataframe tbody tr th:only-of-type {\n",
       "        vertical-align: middle;\n",
       "    }\n",
       "\n",
       "    .dataframe tbody tr th {\n",
       "        vertical-align: top;\n",
       "    }\n",
       "\n",
       "    .dataframe thead th {\n",
       "        text-align: right;\n",
       "    }\n",
       "</style>\n",
       "<table border=\"1\" class=\"dataframe\">\n",
       "  <thead>\n",
       "    <tr style=\"text-align: right;\">\n",
       "      <th></th>\n",
       "      <th>date</th>\n",
       "      <th>group</th>\n",
       "      <th>visitors</th>\n",
       "    </tr>\n",
       "  </thead>\n",
       "  <tbody>\n",
       "    <tr>\n",
       "      <th>55</th>\n",
       "      <td>2019-08-01</td>\n",
       "      <td>A</td>\n",
       "      <td>719</td>\n",
       "    </tr>\n",
       "    <tr>\n",
       "      <th>66</th>\n",
       "      <td>2019-08-01</td>\n",
       "      <td>B</td>\n",
       "      <td>713</td>\n",
       "    </tr>\n",
       "    <tr>\n",
       "      <th>175</th>\n",
       "      <td>2019-08-02</td>\n",
       "      <td>A</td>\n",
       "      <td>1338</td>\n",
       "    </tr>\n",
       "    <tr>\n",
       "      <th>173</th>\n",
       "      <td>2019-08-02</td>\n",
       "      <td>B</td>\n",
       "      <td>1294</td>\n",
       "    </tr>\n",
       "  </tbody>\n",
       "</table>\n",
       "</div>"
      ],
      "text/plain": [
       "          date group  visitors\n",
       "55  2019-08-01     A       719\n",
       "66  2019-08-01     B       713\n",
       "175 2019-08-02     A      1338\n",
       "173 2019-08-02     B      1294"
      ]
     },
     "execution_count": 37,
     "metadata": {},
     "output_type": "execute_result"
    }
   ],
   "source": [
    "visitorsAggregated = (datesGroups.apply(\n",
    "    lambda x: visitors[np.logical_and(visitors['date'] <= x['date'],\n",
    "                                      visitors['group'] == x['group'])]\n",
    "    .agg({'date' : 'max', 'group' : 'max', 'visitors' : 'sum'}), axis=1)\n",
    "                      .sort_values(by=['date','group'])\n",
    "                     )\n",
    "visitorsAggregated.head(4)"
   ]
  },
  {
   "cell_type": "markdown",
   "metadata": {},
   "source": [
    "Объединим обе таблицы в одну с понятными названиями столбцов:"
   ]
  },
  {
   "cell_type": "code",
   "execution_count": 38,
   "metadata": {},
   "outputs": [
    {
     "data": {
      "text/html": [
       "<div>\n",
       "<style scoped>\n",
       "    .dataframe tbody tr th:only-of-type {\n",
       "        vertical-align: middle;\n",
       "    }\n",
       "\n",
       "    .dataframe tbody tr th {\n",
       "        vertical-align: top;\n",
       "    }\n",
       "\n",
       "    .dataframe thead th {\n",
       "        text-align: right;\n",
       "    }\n",
       "</style>\n",
       "<table border=\"1\" class=\"dataframe\">\n",
       "  <thead>\n",
       "    <tr style=\"text-align: right;\">\n",
       "      <th></th>\n",
       "      <th>date</th>\n",
       "      <th>group</th>\n",
       "      <th>orders</th>\n",
       "      <th>buyers</th>\n",
       "      <th>revenue</th>\n",
       "      <th>visitors</th>\n",
       "    </tr>\n",
       "  </thead>\n",
       "  <tbody>\n",
       "    <tr>\n",
       "      <th>0</th>\n",
       "      <td>2019-08-01</td>\n",
       "      <td>A</td>\n",
       "      <td>23</td>\n",
       "      <td>19</td>\n",
       "      <td>142779</td>\n",
       "      <td>719</td>\n",
       "    </tr>\n",
       "    <tr>\n",
       "      <th>1</th>\n",
       "      <td>2019-08-01</td>\n",
       "      <td>B</td>\n",
       "      <td>17</td>\n",
       "      <td>17</td>\n",
       "      <td>59758</td>\n",
       "      <td>713</td>\n",
       "    </tr>\n",
       "    <tr>\n",
       "      <th>2</th>\n",
       "      <td>2019-08-02</td>\n",
       "      <td>A</td>\n",
       "      <td>42</td>\n",
       "      <td>36</td>\n",
       "      <td>234381</td>\n",
       "      <td>1338</td>\n",
       "    </tr>\n",
       "    <tr>\n",
       "      <th>3</th>\n",
       "      <td>2019-08-02</td>\n",
       "      <td>B</td>\n",
       "      <td>40</td>\n",
       "      <td>39</td>\n",
       "      <td>221801</td>\n",
       "      <td>1294</td>\n",
       "    </tr>\n",
       "    <tr>\n",
       "      <th>4</th>\n",
       "      <td>2019-08-03</td>\n",
       "      <td>A</td>\n",
       "      <td>66</td>\n",
       "      <td>60</td>\n",
       "      <td>346854</td>\n",
       "      <td>1845</td>\n",
       "    </tr>\n",
       "  </tbody>\n",
       "</table>\n",
       "</div>"
      ],
      "text/plain": [
       "        date group  orders  buyers  revenue  visitors\n",
       "0 2019-08-01     A      23      19   142779       719\n",
       "1 2019-08-01     B      17      17    59758       713\n",
       "2 2019-08-02     A      42      36   234381      1338\n",
       "3 2019-08-02     B      40      39   221801      1294\n",
       "4 2019-08-03     A      66      60   346854      1845"
      ]
     },
     "execution_count": 38,
     "metadata": {},
     "output_type": "execute_result"
    }
   ],
   "source": [
    "# объединяем кумулятивные данные в одной таблице и присваиваем ее столбцам понятные названия\n",
    "cumulativeData = ordersAggregated.merge(visitorsAggregated, left_on=['date', 'group'], right_on=['date', 'group'])\n",
    "cumulativeData.columns = ['date', 'group', 'orders', 'buyers', 'revenue', 'visitors']\n",
    "\n",
    "cumulativeData.head(5)"
   ]
  },
  {
   "cell_type": "markdown",
   "metadata": {},
   "source": [
    "Построим графики кумулятивной выручки по дням и группам A/B-тестирования:"
   ]
  },
  {
   "cell_type": "code",
   "execution_count": 63,
   "metadata": {},
   "outputs": [
    {
     "data": {
      "text/html": [
       " <style>\n",
       ".output_png {\n",
       "    display: table-cell;\n",
       "    text-align: center;\n",
       "    vertical-align: middle;\n",
       "}\n",
       "</style> "
      ],
      "text/plain": [
       "<IPython.core.display.HTML object>"
      ]
     },
     "execution_count": 63,
     "metadata": {},
     "output_type": "execute_result"
    }
   ],
   "source": [
    "#установим по умолчанию расположение графиков по центру\n",
    "from IPython.core.display import HTML as Center\n",
    "\n",
    "Center(\"\"\" <style>\n",
    ".output_png {\n",
    "    display: table-cell;\n",
    "    text-align: center;\n",
    "    vertical-align: middle;\n",
    "}\n",
    "</style> \"\"\")"
   ]
  },
  {
   "cell_type": "code",
   "execution_count": 39,
   "metadata": {},
   "outputs": [
    {
     "data": {
      "image/png": "[encoded data removed]",
      "text/plain": [
       "<Figure size 1080x360 with 1 Axes>"
      ]
     },
     "metadata": {
      "needs_background": "light"
     },
     "output_type": "display_data"
    }
   ],
   "source": [
    "# датафрейм с кумулятивным количеством заказов и кумулятивной выручкой по дням в группе А\n",
    "cumulativeRevenueA = cumulativeData[cumulativeData['group']=='A'][['date','revenue', 'orders']]\n",
    "\n",
    "# датафрейм с кумулятивным количеством заказов и кумулятивной выручкой по дням в группе B\n",
    "cumulativeRevenueB = cumulativeData[cumulativeData['group']=='B'][['date','revenue', 'orders']]\n",
    "plt.figure(figsize=(15, 5))# задаём размер сетки для графиков\n",
    "# Строим график выручки группы А\n",
    "plt.plot(cumulativeRevenueA['date'], cumulativeRevenueA['revenue'], label='A')\n",
    "\n",
    "# Строим график выручки группы B\n",
    "plt.plot(cumulativeRevenueB['date'], cumulativeRevenueB['revenue'], label='B')\n",
    "plt.xlabel('Дата проведения теста')\n",
    "plt.ylabel('Сумма выручки')\n",
    "plt.title('Кумулятивная выручка по дням')\n",
    "plt.legend();"
   ]
  },
  {
   "cell_type": "markdown",
   "metadata": {},
   "source": [
    "Выручка почти равномерно увеличивается в течение всего теста. Однако график выручки группы В в одной точке резко растет. Это может сигнализировать о всплесках числа заказов, либо о появлении очень дорогих заказов в выборке. \\\n",
    "Построим графики среднего чека по группам — разделим кумулятивную выручку на кумулятивное число заказов:"
   ]
  },
  {
   "cell_type": "code",
   "execution_count": 40,
   "metadata": {
    "scrolled": true
   },
   "outputs": [
    {
     "data": {
      "image/png": "[encoded data removed]",
      "text/plain": [
       "<Figure size 1080x360 with 1 Axes>"
      ]
     },
     "metadata": {
      "needs_background": "light"
     },
     "output_type": "display_data"
    }
   ],
   "source": [
    "plt.figure(figsize=(15, 5))# задаём размер сетки для графиков\n",
    "plt.plot(cumulativeRevenueA['date'], cumulativeRevenueA['revenue']/cumulativeRevenueA['orders'], label='A')\n",
    "plt.plot(cumulativeRevenueB['date'], cumulativeRevenueB['revenue']/cumulativeRevenueB['orders'], label='B')\n",
    "plt.xlabel('Дата проведения теста')\n",
    "plt.ylabel('Сумма среднего чека')\n",
    "plt.title('Кумулятивный средний чек по дням')\n",
    "plt.legend();"
   ]
  },
  {
   "cell_type": "markdown",
   "metadata": {},
   "source": [
    "Средний чек тоже становится равномерным ближе к концу теста: установился для группы A и продолжает падать для группы B. Однако мы также видим резкий скачок, скорее всего во второй половине тесте в группу В попали крупные заказы. "
   ]
  },
  {
   "cell_type": "markdown",
   "metadata": {},
   "source": [
    "Построим график относительного изменения кумулятивного среднего чека группы B к группе A. Добавим горизонтальную ось методом `.axhline()`:"
   ]
  },
  {
   "cell_type": "code",
   "execution_count": 42,
   "metadata": {},
   "outputs": [
    {
     "data": {
      "image/png": "[encoded data removed]",
      "text/plain": [
       "<Figure size 1080x360 with 1 Axes>"
      ]
     },
     "metadata": {
      "needs_background": "light"
     },
     "output_type": "display_data"
    }
   ],
   "source": [
    "plt.figure(figsize=(15, 5))# задаём размер сетки для графиков\n",
    "# собираем данные в одном датафрейме\n",
    "mergedCumulativeRevenue = cumulativeRevenueA.merge(cumulativeRevenueB, left_on='date', right_on='date', how='left', suffixes=['A', 'B'])\n",
    "\n",
    "# cтроим отношение средних чеков\n",
    "plt.plot(mergedCumulativeRevenue['date'], (mergedCumulativeRevenue['revenueB']/mergedCumulativeRevenue['ordersB'])/(mergedCumulativeRevenue['revenueA']/mergedCumulativeRevenue['ordersA'])-1,\n",
    "        label=\"Относительный прирост среднего чека группы B относительно группы A\")\n",
    "plt.legend()\n",
    "plt.xlabel('Дата проведения теста')\n",
    "plt.ylabel('Прирост в %')\n",
    "# добавляем ось X\n",
    "plt.axhline(y=0, color='black', linestyle='--');"
   ]
  },
  {
   "cell_type": "markdown",
   "metadata": {},
   "source": [
    "В нескольких точках график различия между сегментами резко «скачет». Очевидно, что необходимо делать анализ выбросов.\\\n",
    "Аналогично проанализируем график кумулятивной конверсии. Зададим масштаб осей методом plt.axis(). Передадим ему минимальное и максимальное значения оси x; минимальное и максимальное значения оси y — [\"2019-08-01\", '2019-08-31', 0.2, 0.05]:"
   ]
  },
  {
   "cell_type": "code",
   "execution_count": 43,
   "metadata": {},
   "outputs": [
    {
     "data": {
      "image/png": "[encoded data removed]",
      "text/plain": [
       "<Figure size 1080x360 with 1 Axes>"
      ]
     },
     "metadata": {
      "needs_background": "light"
     },
     "output_type": "display_data"
    }
   ],
   "source": [
    "plt.figure(figsize=(15, 5))# задаём размер сетки для графиков\n",
    "# считаем кумулятивную конверсию\n",
    "cumulativeData['conversion'] = cumulativeData['orders']/cumulativeData['visitors']\n",
    "\n",
    "# отделяем данные по группе A\n",
    "cumulativeDataA = cumulativeData[cumulativeData['group']=='A']\n",
    "\n",
    "# отделяем данные по группе B\n",
    "cumulativeDataB = cumulativeData[cumulativeData['group']=='B']\n",
    "\n",
    "# строим графики\n",
    "plt.plot(cumulativeDataA['date'], cumulativeDataA['conversion'], label='A')\n",
    "plt.plot(cumulativeDataB['date'], cumulativeDataB['conversion'], label='B')\n",
    "plt.legend()\n",
    "plt.xlabel('Дата проведения теста')\n",
    "plt.ylabel('Конверсия в %')\n",
    "plt.title('Кумулятивная конверсия по дням');\n"
   ]
  },
  {
   "cell_type": "markdown",
   "metadata": {},
   "source": [
    "Судя по полученному графику, изначально лидировала группа А, однако в первой половине теста группа В вырвалась вперед и зафиксировала свою позицию. Группа А также зафкисировала свою позицию. Построим график относительного различия кумулятивных конверсий:"
   ]
  },
  {
   "cell_type": "code",
   "execution_count": 44,
   "metadata": {},
   "outputs": [
    {
     "data": {
      "image/png": "[encoded data removed]",
      "text/plain": [
       "<Figure size 1080x360 with 1 Axes>"
      ]
     },
     "metadata": {
      "needs_background": "light"
     },
     "output_type": "display_data"
    }
   ],
   "source": [
    "mergedCumulativeConversions = cumulativeDataA[['date','conversion']].merge(cumulativeDataB[['date','conversion']], left_on='date', right_on='date', how='left', suffixes=['A', 'B'])\n",
    "plt.figure(figsize=(15, 5))# задаём размер сетки для графиков\n",
    "plt.plot(mergedCumulativeConversions['date'], mergedCumulativeConversions['conversionB']/mergedCumulativeConversions['conversionA']-1, label=\"Относительный прирост конверсии группы B относительно группы A\")\n",
    "plt.legend()\n",
    "\n",
    "plt.axhline(y=0, color='black', linestyle='--')\n",
    "plt.axhline(y=0.1, color='grey', linestyle='--')\n",
    "plt.xlabel('Дата проведения теста')\n",
    "plt.ylabel('Прирост конверсии в %');"
   ]
  },
  {
   "cell_type": "markdown",
   "metadata": {},
   "source": [
    "В начале теста группа B заняла лидирующую позицию, однако кратковременно значительно проигрывала группе A, затем вырвалась вперёд. Далее конверсия группы В только росла и фиксировалась в пределах 10-20%. В целом можно сказать что отношение конверсии установилось, но делать выводы рано, т.к. необходимо проанализировать аномалии."
   ]
  },
  {
   "cell_type": "markdown",
   "metadata": {},
   "source": [
    "### Анализ выбросов "
   ]
  },
  {
   "cell_type": "markdown",
   "metadata": {},
   "source": [
    "Оценим выбросы в заказах построив точечный график количества заказов по пользователям. Для этого создадим датафрейм с двумя столбцами `visitorId` и `transactionId` и построим диаграмму методом `scatter()`."
   ]
  },
  {
   "cell_type": "code",
   "execution_count": 62,
   "metadata": {},
   "outputs": [
    {
     "data": {
      "image/png": "[encoded data removed]",
      "text/plain": [
       "<Figure size 432x288 with 1 Axes>"
      ]
     },
     "metadata": {
      "needs_background": "light"
     },
     "output_type": "display_data"
    }
   ],
   "source": [
    "ordersByUsers = (\n",
    "    orders.groupby('visitorId', as_index=False)\n",
    "    .agg({'transactionId': 'nunique'})\n",
    "    .sort_values(by='transactionId', ascending=False)\n",
    ")\n",
    "ordersByUsers.columns = ['userId', 'orders']\n",
    "\n",
    "x_values = pd.Series(range(0, len(ordersByUsers)))# серия из чисел от 0 до количества наблюдений в ordersByUsers\n",
    "plt.scatter(x_values, ordersByUsers['orders'])\n",
    "plt.title('Среднее количество заказов на пользователя'); "
   ]
  },
  {
   "cell_type": "markdown",
   "metadata": {},
   "source": [
    "Итак, мы видим, что основная масса пользователей сделала не более одного заказа, а пользователей сделавших 2-3 заказа очень мало. Посчитаем выборочные перцентили. "
   ]
  },
  {
   "cell_type": "code",
   "execution_count": 46,
   "metadata": {},
   "outputs": [
    {
     "name": "stdout",
     "output_type": "stream",
     "text": [
      "[1. 2.]\n"
     ]
    }
   ],
   "source": [
    "# Метод np.percentile('column', [percentile1, percentile2, percentile3]) находит перцентили.\n",
    "print(np.percentile(ordersByUsers['orders'], [ 95, 99])) "
   ]
  },
  {
   "cell_type": "markdown",
   "metadata": {},
   "source": [
    "Таким образом, мы видим, что не более 5% пользователей совершали больше двух заказов. И не более 1% пользователей  больше двух заказов.\n",
    "\n",
    "В этом случае оставим границу для определения аномальных пользователей - 2 заказа.\n",
    "Аналогично проанализируем стоимость всех заказов."
   ]
  },
  {
   "cell_type": "code",
   "execution_count": 47,
   "metadata": {},
   "outputs": [
    {
     "data": {
      "image/png": "[encoded data removed]",
      "text/plain": [
       "<Figure size 432x288 with 1 Axes>"
      ]
     },
     "metadata": {
      "needs_background": "light"
     },
     "output_type": "display_data"
    }
   ],
   "source": [
    "x_values = pd.Series(range(0, len(orders['revenue'])))\n",
    "plt.scatter(x_values, orders['revenue']); "
   ]
  },
  {
   "cell_type": "markdown",
   "metadata": {},
   "source": [
    "Итак, мы определили только 2 выброса во всем датафрейме по стоимости заказов - один около 200 тыс руб, второй - более 1 млн.руб, что значительно больше чем все остальные заказы. Посмотрим на график без этого выброса. "
   ]
  },
  {
   "cell_type": "code",
   "execution_count": 48,
   "metadata": {},
   "outputs": [
    {
     "data": {
      "image/png": "[encoded data removed]",
      "text/plain": [
       "<Figure size 432x288 with 1 Axes>"
      ]
     },
     "metadata": {
      "needs_background": "light"
     },
     "output_type": "display_data"
    }
   ],
   "source": [
    "orders_no_mln = orders.query('revenue<1000000')\n",
    "x_values = pd.Series(range(0, len(orders_no_mln['revenue'])))\n",
    "\n",
    "plt.scatter(x_values, orders_no_mln['revenue']); "
   ]
  },
  {
   "cell_type": "markdown",
   "metadata": {},
   "source": [
    "Удалив 1 выброс, мы можем увидеть, что в основном стоимость всех заказов колеблется в пределах до 100 тыс. руб.Найдем выборочные перцентили."
   ]
  },
  {
   "cell_type": "code",
   "execution_count": 49,
   "metadata": {},
   "outputs": [
    {
     "name": "stdout",
     "output_type": "stream",
     "text": [
      "[26785. 53904.]\n"
     ]
    }
   ],
   "source": [
    "print(np.percentile(orders['revenue'], [95, 99]))"
   ]
  },
  {
   "cell_type": "markdown",
   "metadata": {},
   "source": [
    "Итак, по стоимости заказов мы смогли установить, что не более 5% пользователей делают покупки более чем на 26 тыс. руб. и лишь 1% пользователей совершает покупки дороже 58 тыс. руб. В этом случае граница по аномальным заказам - 53904 руб."
   ]
  },
  {
   "cell_type": "markdown",
   "metadata": {},
   "source": [
    "Мы определили границы для определения аномальных пользователей и аномальных заказов. Таким образом, мы можем посчитать статистическую значимость различий в конверсии и среднем чеке между группами как по \"сырым \" данным, так и по \"очищенным\"."
   ]
  },
  {
   "cell_type": "markdown",
   "metadata": {},
   "source": [
    "### Cтатистическая значимость различий"
   ]
  },
  {
   "cell_type": "markdown",
   "metadata": {},
   "source": [
    "Посчитаем статистическую значимость различий в конверсии и среднем чеке между группами по «сырым» данным — без удаления аномальных пользователей. Для анализа будем использовать непараметрический тест Уилкоксона-Манна-Уитни. \n",
    "Сформулируем гипотезы. Нулевая: различий в конверсии между группами нет. Альтернативная: различия в конверсии между группами есть."
   ]
  },
  {
   "cell_type": "markdown",
   "metadata": {},
   "source": [
    "Для начала подготовим данные:"
   ]
  },
  {
   "cell_type": "code",
   "execution_count": 65,
   "metadata": {},
   "outputs": [
    {
     "data": {
      "text/html": [
       "<div>\n",
       "<style scoped>\n",
       "    .dataframe tbody tr th:only-of-type {\n",
       "        vertical-align: middle;\n",
       "    }\n",
       "\n",
       "    .dataframe tbody tr th {\n",
       "        vertical-align: top;\n",
       "    }\n",
       "\n",
       "    .dataframe thead th {\n",
       "        text-align: right;\n",
       "    }\n",
       "</style>\n",
       "<table border=\"1\" class=\"dataframe\">\n",
       "  <thead>\n",
       "    <tr style=\"text-align: right;\">\n",
       "      <th></th>\n",
       "      <th>date</th>\n",
       "      <th>ordersPerDateA</th>\n",
       "      <th>revenuePerDateA</th>\n",
       "      <th>ordersPerDateB</th>\n",
       "      <th>revenuePerDateB</th>\n",
       "      <th>ordersCummulativeA</th>\n",
       "      <th>revenueCummulativeA</th>\n",
       "      <th>ordersCummulativeB</th>\n",
       "      <th>revenueCummulativeB</th>\n",
       "      <th>visitorsPerDateA</th>\n",
       "      <th>visitorsPerDateB</th>\n",
       "      <th>visitorsCummulativeA</th>\n",
       "      <th>visitorsCummulativeB</th>\n",
       "      <th>ConversionA</th>\n",
       "      <th>ConversionCummulativeA</th>\n",
       "      <th>ConversionB</th>\n",
       "      <th>ConversionCummulativeB</th>\n",
       "    </tr>\n",
       "  </thead>\n",
       "  <tbody>\n",
       "    <tr>\n",
       "      <th>0</th>\n",
       "      <td>2019-08-01</td>\n",
       "      <td>23</td>\n",
       "      <td>142779</td>\n",
       "      <td>17</td>\n",
       "      <td>59758</td>\n",
       "      <td>23</td>\n",
       "      <td>142779</td>\n",
       "      <td>17</td>\n",
       "      <td>59758</td>\n",
       "      <td>719</td>\n",
       "      <td>713</td>\n",
       "      <td>719</td>\n",
       "      <td>713</td>\n",
       "      <td>0.031989</td>\n",
       "      <td>0.031989</td>\n",
       "      <td>0.023843</td>\n",
       "      <td>0.023843</td>\n",
       "    </tr>\n",
       "    <tr>\n",
       "      <th>1</th>\n",
       "      <td>2019-08-02</td>\n",
       "      <td>19</td>\n",
       "      <td>91602</td>\n",
       "      <td>23</td>\n",
       "      <td>162043</td>\n",
       "      <td>42</td>\n",
       "      <td>234381</td>\n",
       "      <td>40</td>\n",
       "      <td>221801</td>\n",
       "      <td>619</td>\n",
       "      <td>581</td>\n",
       "      <td>1338</td>\n",
       "      <td>1294</td>\n",
       "      <td>0.030695</td>\n",
       "      <td>0.031390</td>\n",
       "      <td>0.039587</td>\n",
       "      <td>0.030912</td>\n",
       "    </tr>\n",
       "    <tr>\n",
       "      <th>2</th>\n",
       "      <td>2019-08-03</td>\n",
       "      <td>24</td>\n",
       "      <td>112473</td>\n",
       "      <td>14</td>\n",
       "      <td>67049</td>\n",
       "      <td>66</td>\n",
       "      <td>346854</td>\n",
       "      <td>54</td>\n",
       "      <td>288850</td>\n",
       "      <td>507</td>\n",
       "      <td>509</td>\n",
       "      <td>1845</td>\n",
       "      <td>1803</td>\n",
       "      <td>0.047337</td>\n",
       "      <td>0.035772</td>\n",
       "      <td>0.027505</td>\n",
       "      <td>0.029950</td>\n",
       "    </tr>\n",
       "  </tbody>\n",
       "</table>\n",
       "</div>"
      ],
      "text/plain": [
       "        date  ordersPerDateA  revenuePerDateA  ordersPerDateB  \\\n",
       "0 2019-08-01              23           142779              17   \n",
       "1 2019-08-02              19            91602              23   \n",
       "2 2019-08-03              24           112473              14   \n",
       "\n",
       "   revenuePerDateB  ordersCummulativeA  revenueCummulativeA  \\\n",
       "0            59758                  23               142779   \n",
       "1           162043                  42               234381   \n",
       "2            67049                  66               346854   \n",
       "\n",
       "   ordersCummulativeB  revenueCummulativeB  visitorsPerDateA  \\\n",
       "0                  17                59758               719   \n",
       "1                  40               221801               619   \n",
       "2                  54               288850               507   \n",
       "\n",
       "   visitorsPerDateB  visitorsCummulativeA  visitorsCummulativeB  ConversionA  \\\n",
       "0               713                   719                   713     0.031989   \n",
       "1               581                  1338                  1294     0.030695   \n",
       "2               509                  1845                  1803     0.047337   \n",
       "\n",
       "   ConversionCummulativeA  ConversionB  ConversionCummulativeB  \n",
       "0                0.031989     0.023843                0.023843  \n",
       "1                0.031390     0.039587                0.030912  \n",
       "2                0.035772     0.027505                0.029950  "
      ]
     },
     "execution_count": 65,
     "metadata": {},
     "output_type": "execute_result"
    }
   ],
   "source": [
    "visitorsADaily = visitors[visitors['group'] == 'A'][['date', 'visitors']]\n",
    "visitorsADaily.columns = ['date', 'visitorsPerDateA']\n",
    "\n",
    "visitorsACummulative = visitorsADaily.apply(\n",
    "    lambda x: visitorsADaily[visitorsADaily['date'] <= x['date']].agg(\n",
    "        {'date': 'max', 'visitorsPerDateA': 'sum'}\n",
    "    ),\n",
    "    axis=1,\n",
    ")\n",
    "visitorsACummulative.columns = ['date', 'visitorsCummulativeA']\n",
    "\n",
    "visitorsBDaily = visitors[visitors['group'] == 'B'][['date', 'visitors']]\n",
    "visitorsBDaily.columns = ['date', 'visitorsPerDateB']\n",
    "\n",
    "visitorsBCummulative = visitorsBDaily.apply(\n",
    "    lambda x: visitorsBDaily[visitorsBDaily['date'] <= x['date']].agg(\n",
    "        {'date': 'max', 'visitorsPerDateB': 'sum'}\n",
    "    ),\n",
    "    axis=1,\n",
    ")\n",
    "visitorsBCummulative.columns = ['date', 'visitorsCummulativeB']\n",
    "\n",
    "ordersADaily = (\n",
    "    orders[orders['group'] == 'A'][['date', 'transactionId', 'visitorId', 'revenue']]\n",
    "    .groupby('date', as_index=False)\n",
    "    .agg({'transactionId': pd.Series.nunique, 'revenue': 'sum'})\n",
    ")\n",
    "ordersADaily.columns = ['date', 'ordersPerDateA', 'revenuePerDateA']\n",
    "\n",
    "ordersACummulative = ordersADaily.apply(\n",
    "    lambda x: ordersADaily[ordersADaily['date'] <= x['date']].agg(\n",
    "        {'date': 'max', 'ordersPerDateA': 'sum', 'revenuePerDateA': 'sum'}\n",
    "    ),\n",
    "    axis=1,\n",
    ").sort_values(by=['date'])\n",
    "ordersACummulative.columns = [\n",
    "    'date',\n",
    "    'ordersCummulativeA',\n",
    "    'revenueCummulativeA',\n",
    "]\n",
    "\n",
    "ordersBDaily = (\n",
    "    orders[orders['group'] == 'B'][['date', 'transactionId', 'visitorId', 'revenue']]\n",
    "    .groupby('date', as_index=False)\n",
    "    .agg({'transactionId': pd.Series.nunique, 'revenue': 'sum'})\n",
    ")\n",
    "ordersBDaily.columns = ['date', 'ordersPerDateB', 'revenuePerDateB']\n",
    "\n",
    "ordersBCummulative = ordersBDaily.apply(\n",
    "    lambda x: ordersBDaily[ordersBDaily['date'] <= x['date']].agg(\n",
    "        {'date': 'max', 'ordersPerDateB': 'sum', 'revenuePerDateB': 'sum'}\n",
    "    ),\n",
    "    axis=1,\n",
    ").sort_values(by=['date'])\n",
    "ordersBCummulative.columns = [\n",
    "    'date',\n",
    "    'ordersCummulativeB',\n",
    "    'revenueCummulativeB',\n",
    "]\n",
    "\n",
    "data = (\n",
    "    ordersADaily.merge(\n",
    "        ordersBDaily, left_on='date', right_on='date', how='left'\n",
    "    )\n",
    "    .merge(ordersACummulative, left_on='date', right_on='date', how='left')\n",
    "    .merge(ordersBCummulative, left_on='date', right_on='date', how='left')\n",
    "    .merge(visitorsADaily, left_on='date', right_on='date', how='left')\n",
    "    .merge(visitorsBDaily, left_on='date', right_on='date', how='left')\n",
    "    .merge(visitorsACummulative, left_on='date', right_on='date', how='left')\n",
    "    .merge(visitorsBCummulative, left_on='date', right_on='date', how='left')\n",
    ")\n",
    "\n",
    "data['ConversionA'] = data['ordersPerDateA'] / data['visitorsPerDateA']\n",
    "data['ConversionCummulativeA'] = data['ordersCummulativeA'] / data['visitorsCummulativeA']\n",
    "data['ConversionB'] = data['ordersPerDateB'] / data['visitorsPerDateB']\n",
    "data['ConversionCummulativeB'] = data['ordersCummulativeB'] / data['visitorsCummulativeB']\n",
    "\n",
    "data.head(3)"
   ]
  },
  {
   "cell_type": "markdown",
   "metadata": {},
   "source": [
    "Напомним названия столбцов данных:\n",
    "- date — дата;\n",
    "- ordersPerDateA — количество заказов в выбранную дату в группе A;\n",
    "- revenuePerDateA — суммарная выручка в выбранную дату в группе A;\n",
    "- ordersPerDateB — количество заказов в выбранную дату в группе B;\n",
    "- revenuePerDateB — суммарная выручка в выбранную дату в группе B;\n",
    "- ordersCummulativeA — суммарное число заказов до выбранной даты включительно в группе A;\n",
    "- revenueCummulativeA — суммарная выручка до выбранной даты включительно в группе A;\n",
    "- ordersCummulativeB — суммарное количество заказов до выбранной даты включительно в группе B;\n",
    "- revenueCummulativeB — суммарная выручка до выбранной даты включительно в группе B;\n",
    "- visitorsPerDateA — количество пользователей в выбранную дату в группе A;\n",
    "- visitorsPerDateB — количество пользователей в выбранную дату в группе B;\n",
    "- visitorsCummulativeA — количество пользователей до выбранной даты включительно в группе A;\n",
    "- visitorsCummulativeB — количество пользователей до выбранной даты включительно в группе B;\n",
    "- ConversionA - конверсия пользователей в выбранную дату в группе A;\n",
    "- ConversionCummulativeA - накопительная конверсия пользователей до выбранной даты в группе A;\n",
    "- ConversionB - конверсия пользователей в выбранную дату в группе B;\n",
    "- ConversionCummulativeB - накопительная конверсия пользователей до выбранной даты в группе B."
   ]
  },
  {
   "cell_type": "markdown",
   "metadata": {},
   "source": [
    "Создадим переменные ordersByUsersA и ordersByUsersB со столбцами ['userId', 'orders']. В них для пользователей, которые заказывали хотя бы 1 раз, укажем число совершённых заказов. Объявим переменные sampleA и sampleB, в которых пользователям из разных групп будет соответствовать количество заказов. Тем, кто ничего не заказал, будут соответствовать нули. Это нужно, чтобы подготовить выборки к проверке гипотезы о равенстве долей."
   ]
  },
  {
   "cell_type": "code",
   "execution_count": 51,
   "metadata": {},
   "outputs": [],
   "source": [
    "#cписки с количеством заказов для каждого из пользователей:\n",
    "ordersByUsersA = (\n",
    "    orders[orders['group'] == 'A']\n",
    "    .groupby('visitorId', as_index=False)\n",
    "    .agg({'transactionId': pd.Series.nunique})\n",
    ")\n",
    "ordersByUsersA.columns = ['userId', 'orders']\n",
    "\n",
    "ordersByUsersB = (\n",
    "    orders[orders['group'] == 'B']\n",
    "    .groupby('visitorId', as_index=False)\n",
    "    .agg({'transactionId': pd.Series.nunique})\n",
    ")\n",
    "ordersByUsersB.columns = ['userId', 'orders']\n",
    "\n",
    "#число элементов sampleA — это количество пользователей, сумма всех элементов — количество заказов.\n",
    "sampleA = pd.concat(# объединяем последовательности \n",
    "    [\n",
    "        ordersByUsersA['orders'],\n",
    "        pd.Series(\n",
    "            0,\n",
    "            index=np.arange(#создает список индексов в формате np.array, который требуется в pd.Series\n",
    "                visitors[visitors['group']=='A']['visitors'].sum() - len(ordersByUsersA['orders']) #Нули для пользователей\n",
    "                #которые ничего не заказывали. Их количество равно разнице между суммой посетителей \n",
    "                #и количеством записей о заказах\n",
    "            ),\n",
    "            name='orders',\n",
    "        ),\n",
    "    ],\n",
    "    axis=0, #объединение по строкам (то есть записать подряд)\n",
    ")\n",
    "#число элементов sampleB — это количество пользователей, сумма всех элементов — количество заказов.\n",
    "sampleB = pd.concat(\n",
    "    [\n",
    "        ordersByUsersB['orders'],\n",
    "        pd.Series(\n",
    "            0,\n",
    "            index=np.arange(\n",
    "                visitors[visitors['group']=='B']['visitors'].sum() - len(ordersByUsersB['orders'])\n",
    "            ),\n",
    "            name='orders',\n",
    "        ),\n",
    "    ],\n",
    "    axis=0,\n",
    ")"
   ]
  },
  {
   "cell_type": "markdown",
   "metadata": {},
   "source": [
    "Посчитаем статистическую значимость различий в конверсии между группами по «сырым» данным. Выведем относительный прирост конверсии пользователей группы B: конверсия пользователей группы B / конверсия пользователей группы A - 1. Округлим до трёх знаков после запятой."
   ]
  },
  {
   "cell_type": "code",
   "execution_count": 52,
   "metadata": {},
   "outputs": [
    {
     "name": "stdout",
     "output_type": "stream",
     "text": [
      "p-значение:  0.011\n",
      "Отвергаем нулевую гипотезу: между долями есть значимая разница\n",
      "Относительный прирост конверсии пользователей группы B:  0.160\n"
     ]
    }
   ],
   "source": [
    "alpha = 0.05  # критический уровень статистической значимости\n",
    "\n",
    "p_value =  stats.mannwhitneyu(sampleA, sampleB)[1]\n",
    "\n",
    "print('p-значение: ', \"{0:.3f}\".format(p_value))\n",
    "\n",
    "if p_value < alpha:\n",
    "    print('Отвергаем нулевую гипотезу: между долями есть значимая разница')\n",
    "else:\n",
    "    print(\n",
    "        'Не получилось отвергнуть нулевую гипотезу, нет оснований считать доли разными'\n",
    "    )\n",
    "print(\n",
    "    'Относительный прирост конверсии пользователей группы B: ', \n",
    "      \"{0:.3f}\".format(sampleB.mean() / sampleA.mean() - 1)\n",
    "     )        \n"
   ]
  },
  {
   "cell_type": "markdown",
   "metadata": {},
   "source": [
    "Первое число — p-value = 0.011 меньше 0.05. Значит, нулевую гипотезу о том, что статистически значимых различий в среднем числе заказов между группами нет, мы отвергаем. Также мы видим, что конверсия группы B  выше конверсии группы А на 16%.\\\n",
    "Теперь проверим статистическую значимость различий в среднем чеке между сегментами при помощи непараметрического теста. Нулевая гипотеза: различий в среднем чеке между группами нет. Альтернативная гипотеза: различия в среднем чеке между группами есть. Используем тот же метод - `st.mannwhitneyu()`.\n",
    "Чтобы рассчитать статистическую значимость различий в среднем чеке, передадим критерию mannwhitneyu() данные о выручке с заказов.\n",
    "А ещё найдём относительные различия в среднем чеке между группами:"
   ]
  },
  {
   "cell_type": "code",
   "execution_count": 53,
   "metadata": {},
   "outputs": [
    {
     "name": "stdout",
     "output_type": "stream",
     "text": [
      "p-значение:  0.829\n",
      "Не получилось отвергнуть нулевую гипотезу, вывод о различии сделать нельзя\n",
      "Относительный прирост среднего чека пользователей группы B:  0.29\n"
     ]
    }
   ],
   "source": [
    "alpha = 0.05  # критический уровень статистической значимости\n",
    "\n",
    "results = stats.mannwhitneyu(orders[orders['group']=='A']['revenue'], orders[orders['group']=='B']['revenue'])\n",
    "\n",
    "print('p-значение: ', \"{0:.3f}\".format(results.pvalue))\n",
    "\n",
    "if results.pvalue < alpha:\n",
    "    print('Отвергаем нулевую гипотезу: разница статистически значима')\n",
    "else:\n",
    "    print(\n",
    "        'Не получилось отвергнуть нулевую гипотезу, вывод о различии сделать нельзя'\n",
    "    ) \n",
    "print('Относительный прирост среднего чека пользователей группы B: ', \"{0:.2f}\"\n",
    "      .format(orders[orders['group']=='B']['revenue'].mean()/orders[orders['group']=='A']['revenue'].mean()-1))    "
   ]
  },
  {
   "cell_type": "markdown",
   "metadata": {},
   "source": [
    "Вывод: По «сырым» данным различий в среднем чеке групп A и B нет.\n",
    "Первое число — p-value = 0.729 больше 0.05. Значит, нулевую гипотезу о том, что статистически значимых различий в среднем числе заказов между группами нет, не отвергаем. Однако относительный выигрыш группы B равен 29% обусловлен аномальными заказами, которые нам предстоит выявить."
   ]
  },
  {
   "cell_type": "markdown",
   "metadata": {},
   "source": [
    "Теперь мы можем очистить данные от аномалий и проверить как изменится статистическая значимость.\\\n",
    "Мы уже определили границы для удаления аномальных пользователей - с количеством заказов большего одного и стоимостью заказа более 53904 руб. Итак, нам нужно найти аномальные заказы, затем удалить пользователей, совершивших их. Узнаем, сколько всего аномальных пользователей атрибутом shape."
   ]
  },
  {
   "cell_type": "code",
   "execution_count": 54,
   "metadata": {},
   "outputs": [
    {
     "data": {
      "text/plain": [
       "2.0"
      ]
     },
     "execution_count": 54,
     "metadata": {},
     "output_type": "execute_result"
    }
   ],
   "source": [
    "limit_orders=np.percentile(ordersByUsers['orders'], [99])[0]\n",
    "limit_orders"
   ]
  },
  {
   "cell_type": "code",
   "execution_count": 55,
   "metadata": {},
   "outputs": [
    {
     "data": {
      "text/plain": [
       "53904.0"
      ]
     },
     "execution_count": 55,
     "metadata": {},
     "output_type": "execute_result"
    }
   ],
   "source": [
    "limit_revenue=np.percentile(orders['revenue'], [99])[0]\n",
    "limit_revenue"
   ]
  },
  {
   "cell_type": "code",
   "execution_count": 56,
   "metadata": {},
   "outputs": [
    {
     "name": "stdout",
     "output_type": "stream",
     "text": [
      "Количество аномальных пользователей -  16\n",
      "1099    148427295\n",
      "33      249864742\n",
      "58      611059232\n",
      "949     887908475\n",
      "744     888512513\n",
      "dtype: int64\n"
     ]
    }
   ],
   "source": [
    "usersWithManyOrders = pd.concat(\n",
    "    [\n",
    "        ordersByUsersA[ordersByUsersA['orders'] > limit_orders]['userId'],\n",
    "        ordersByUsersB[ordersByUsersB['orders'] > limit_orders]['userId'],\n",
    "    ],\n",
    "    axis=0,\n",
    ")\n",
    "usersWithExpensiveOrders = orders[orders['revenue'] > limit_revenue]['visitorId']\n",
    "abnormalUsers = (\n",
    "    pd.concat([usersWithManyOrders, usersWithExpensiveOrders], axis=0)\n",
    "    .drop_duplicates()\n",
    "    .sort_values()\n",
    ")\n",
    "print(\"Количество аномальных пользователей - \",abnormalUsers.shape[0]) \n",
    "print(abnormalUsers.head(5))"
   ]
  },
  {
   "cell_type": "markdown",
   "metadata": {},
   "source": [
    "Итак, мы определили список из 16 аномальных пользователей, теперь можем проанализировать как их действия повлияли на результаты теста.\\\n",
    "Узнаем, как их действия повлияли на результаты теста. Посчитаем статистическую значимость различий в конверсии пользователей между группами теста по очищенным данным. Сначала удалим аномальных пользователей по группам теста:"
   ]
  },
  {
   "cell_type": "code",
   "execution_count": 57,
   "metadata": {},
   "outputs": [],
   "source": [
    "#исключаем ID пользователей из аномального списка \n",
    "orders_filtered = orders[np.logical_not(orders['visitorId'].isin(abnormalUsers))]\n",
    "                         \n",
    "ordersADaily = (\n",
    "    orders_filtered[orders_filtered['group'] == 'A'][['date', 'transactionId', 'visitorId', 'revenue']]\n",
    "    .groupby('date', as_index=False)\n",
    "    .agg({'transactionId': pd.Series.nunique, 'revenue': 'sum'})\n",
    ")\n",
    "ordersADaily.columns = ['date', 'ordersPerDateA', 'revenuePerDateA']\n",
    "\n",
    "ordersACummulative = ordersADaily.apply(\n",
    "    lambda x: ordersADaily[ordersADaily['date'] <= x['date']].agg(\n",
    "        {'date': 'max', 'ordersPerDateA': 'sum', 'revenuePerDateA': 'sum'}\n",
    "    ),\n",
    "    axis=1,\n",
    ").sort_values(by=['date'])\n",
    "ordersACummulative.columns = [\n",
    "    'date',\n",
    "    'ordersCummulativeA',\n",
    "    'revenueCummulativeA',\n",
    "]\n",
    "\n",
    "ordersBDaily = (\n",
    "    orders_filtered[orders_filtered['group'] == 'B'][['date', 'transactionId', 'visitorId', 'revenue']]\n",
    "    .groupby('date', as_index=False)\n",
    "    .agg({'transactionId': pd.Series.nunique, 'revenue': 'sum'})\n",
    ")\n",
    "ordersBDaily.columns = ['date', 'ordersPerDateB', 'revenuePerDateB']\n",
    "\n",
    "ordersBCummulative = ordersBDaily.apply(\n",
    "    lambda x: ordersBDaily[ordersBDaily['date'] <= x['date']].agg(\n",
    "        {'date': 'max', 'ordersPerDateB': 'sum', 'revenuePerDateB': 'sum'}\n",
    "    ),\n",
    "    axis=1,\n",
    ").sort_values(by=['date'])\n",
    "ordersBCummulative.columns = [\n",
    "    'date',\n",
    "    'ordersCummulativeB',\n",
    "    'revenueCummulativeB',\n",
    "]\n",
    "\n",
    "data_filtered = (\n",
    "    ordersADaily.merge(\n",
    "        ordersBDaily, left_on='date', right_on='date', how='left'\n",
    "    )\n",
    "    .merge(ordersACummulative, left_on='date', right_on='date', how='left')\n",
    "    .merge(ordersBCummulative, left_on='date', right_on='date', how='left')\n",
    "    .merge(visitorsADaily, left_on='date', right_on='date', how='left')\n",
    "    .merge(visitorsBDaily, left_on='date', right_on='date', how='left')\n",
    "    .merge(visitorsACummulative, left_on='date', right_on='date', how='left')\n",
    "    .merge(visitorsBCummulative, left_on='date', right_on='date', how='left')\n",
    ")\n",
    "\n",
    "data_filtered['ConversionA'] = data_filtered['ordersPerDateA'] / data_filtered['visitorsPerDateA']\n",
    "data_filtered['ConversionCummulativeA'] = data_filtered['ordersCummulativeA'] / data_filtered['visitorsCummulativeA']\n",
    "data_filtered['ConversionB'] = data_filtered['ordersPerDateB'] / data_filtered['visitorsPerDateB']\n",
    "data_filtered['ConversionCummulativeB'] = data_filtered['ordersCummulativeB'] / data_filtered['visitorsCummulativeB']"
   ]
  },
  {
   "cell_type": "markdown",
   "metadata": {},
   "source": [
    "Данные готовы. Теперь можно повторить тест."
   ]
  },
  {
   "cell_type": "code",
   "execution_count": 58,
   "metadata": {},
   "outputs": [],
   "source": [
    "#cписки с количеством заказов для каждого из пользователей:\n",
    "ordersByUsersA = (\n",
    "    orders_filtered[orders_filtered['group'] == 'A']\n",
    "    .groupby('visitorId', as_index=False)\n",
    "    .agg({'transactionId': pd.Series.nunique})\n",
    ")\n",
    "ordersByUsersA.columns = ['userId', 'orders']\n",
    "\n",
    "ordersByUsersB = (\n",
    "    orders_filtered[orders_filtered['group'] == 'B']\n",
    "    .groupby('visitorId', as_index=False)\n",
    "    .agg({'transactionId': pd.Series.nunique})\n",
    ")\n",
    "ordersByUsersB.columns = ['userId', 'orders']\n",
    "\n",
    "#число элементов sampleA — это количество пользователей, сумма всех элементов — количество заказов.\n",
    "sampleA_f = pd.concat(# объединяем последовательности \n",
    "    [\n",
    "        ordersByUsersA['orders'],\n",
    "        pd.Series(\n",
    "            0,\n",
    "            index=np.arange(#создает список индексов в формате np.array, который требуется в pd.Series\n",
    "                visitors[visitors['group']=='A']['visitors'].sum() - len(ordersByUsersA['orders']) #Нули для пользователей\n",
    "                #которые ничего не заказывали. Их количество равно разнице между суммой посетителей \n",
    "                #и количеством записей о заказах\n",
    "            ),\n",
    "            name='orders',\n",
    "        ),\n",
    "    ],\n",
    "    axis=0, #объединение по строкам (то есть записать подряд)\n",
    ")\n",
    "#число элементов sampleB — это количество пользователей, сумма всех элементов — количество заказов.\n",
    "sampleB_f = pd.concat(\n",
    "    [\n",
    "        ordersByUsersB['orders'],\n",
    "        pd.Series(\n",
    "            0,\n",
    "            index=np.arange(\n",
    "                visitors[visitors['group']=='B']['visitors'].sum() - len(ordersByUsersB['orders'])\n",
    "            ),\n",
    "            name='orders',\n",
    "        ),\n",
    "    ],\n",
    "    axis=0,\n",
    ")"
   ]
  },
  {
   "cell_type": "markdown",
   "metadata": {},
   "source": [
    "Посчитаем статистическую значимость различий в конверсии между группами по «сырым» данным. Выведем относительный прирост конверсии пользователей группы B: конверсия пользователей группы B / конверсия пользователей группы A - 1. Округлим до трёх знаков после запятой."
   ]
  },
  {
   "cell_type": "code",
   "execution_count": 59,
   "metadata": {},
   "outputs": [
    {
     "name": "stdout",
     "output_type": "stream",
     "text": [
      "p-значение:  0.007\n",
      "Отвергаем нулевую гипотезу: между долями есть значимая разница\n",
      "Относительный прирост конверсии пользователей группы B:  0.189\n"
     ]
    }
   ],
   "source": [
    "alpha = 0.05  # критический уровень статистической значимости\n",
    "\n",
    "p_value =  stats.mannwhitneyu(sampleA_f, sampleB_f)[1]\n",
    "\n",
    "print('p-значение: ', \"{0:.3f}\".format(p_value))\n",
    "\n",
    "if p_value < alpha:\n",
    "    print('Отвергаем нулевую гипотезу: между долями есть значимая разница')\n",
    "else:\n",
    "    print(\n",
    "        'Не получилось отвергнуть нулевую гипотезу, нет оснований считать доли разными'\n",
    "    )\n",
    "print(\n",
    "    'Относительный прирост конверсии пользователей группы B: ', \n",
    "      \"{0:.3f}\".format(sampleB_f.mean() / sampleA_f.mean() - 1)\n",
    "     )        \n"
   ]
  },
  {
   "cell_type": "markdown",
   "metadata": {},
   "source": [
    "P-value стал еще меньше. Впрочем, прирост конверсии группы B стал больше. Очевидно, какая-то часть выбросов приходилась на группу А.  Проверим, произошло ли что-нибудь с результатами по среднему чеку?"
   ]
  },
  {
   "cell_type": "code",
   "execution_count": 60,
   "metadata": {},
   "outputs": [
    {
     "name": "stdout",
     "output_type": "stream",
     "text": [
      "p-значение:  0.788\n",
      "Не получилось отвергнуть нулевую гипотезу, вывод о различии сделать нельзя\n",
      "Относительный прирост среднего чека пользователей группы B:  -0.032\n"
     ]
    }
   ],
   "source": [
    "alpha = 0.05  # критический уровень статистической значимости\n",
    "\n",
    "results = stats.mannwhitneyu(orders_filtered[orders_filtered['group']=='A']['revenue'], orders_filtered[orders_filtered['group']=='B']['revenue'])\n",
    "\n",
    "print('p-значение: ', \"{0:.3f}\".format(results.pvalue))\n",
    "\n",
    "if results.pvalue < alpha:\n",
    "    print('Отвергаем нулевую гипотезу: разница статистически значима')\n",
    "else:\n",
    "    print(\n",
    "        'Не получилось отвергнуть нулевую гипотезу, вывод о различии сделать нельзя'\n",
    "    ) \n",
    "print('Относительный прирост среднего чека пользователей группы B: ', \"{0:.3f}\"\n",
    "      .format(orders_filtered[orders_filtered['group']=='B']['revenue'].mean()/orders_filtered[orders_filtered['group']=='A']['revenue'].mean()-1))   "
   ]
  },
  {
   "cell_type": "markdown",
   "metadata": {},
   "source": [
    "P-value снизился, но не значительно, но разница между сегментами изменилась в обратную сторону с 29% до -3%."
   ]
  },
  {
   "cell_type": "markdown",
   "metadata": {},
   "source": [
    "## Общий вывод"
   ]
  },
  {
   "cell_type": "markdown",
   "metadata": {},
   "source": [
    "Мы провели анализ А/В теста и обнаружили:\n",
    "1. При анализе кумулятивных метрик все время лидировала группа В, особенно хорошо это показал график кумулятивного среднего чека.\n",
    "2. В данных есть аномалии как по количеству заказов, так и по их стоимости. Количество аномалий небольшое, но оно оказывало  влияние на результаты теста.\n",
    "3. В анализе первоначальных данных мы нашли статистическую значимость различий в конверсии между группами, но не в среднем чеке. При этом наблюдался очевидный прирост группы В к группе А по обоим показателям. \n",
    "4. После очищения данных от аномалий статическая значимость различий не изменилась, но мы обнаружили что в среднем чеке лидерство заняла группа А.\n",
    "\n",
    "Таким образом, мы выяснили, что даже после очищения данных, пользователи группы В стабильно лучше конвертируются в покупателей, несмотря на небольшое отставание от группы А по среднему чеку. При этом мы доказали статистическую значимость различия по конверсии. Что значит с ростом конверсии будет расти и выручка при неизменном среднем чеке. Поэтому мы можем остановить тест и признать его успешным. "
   ]
  }
 ],
 "metadata": {
  "ExecuteTimeLog": [
   {
    "duration": 44,
    "start_time": "2022-07-16T11:19:46.301Z"
   },
   {
    "duration": 1277,
    "start_time": "2022-07-16T11:19:51.375Z"
   },
   {
    "duration": 70,
    "start_time": "2022-07-16T11:19:52.654Z"
   },
   {
    "duration": 33,
    "start_time": "2022-07-16T11:20:02.711Z"
   },
   {
    "duration": 32,
    "start_time": "2022-07-16T11:20:33.679Z"
   },
   {
    "duration": 8,
    "start_time": "2022-07-16T11:30:21.828Z"
   },
   {
    "duration": 5,
    "start_time": "2022-07-16T11:30:44.878Z"
   },
   {
    "duration": 64,
    "start_time": "2022-07-16T11:30:51.567Z"
   },
   {
    "duration": 11,
    "start_time": "2022-07-16T11:31:00.755Z"
   },
   {
    "duration": 82,
    "start_time": "2022-07-16T11:32:02.201Z"
   },
   {
    "duration": 10,
    "start_time": "2022-07-16T11:32:18.878Z"
   },
   {
    "duration": 12,
    "start_time": "2022-07-16T11:33:25.916Z"
   },
   {
    "duration": 13,
    "start_time": "2022-07-16T11:35:10.623Z"
   },
   {
    "duration": 19,
    "start_time": "2022-07-16T11:35:20.954Z"
   },
   {
    "duration": 6,
    "start_time": "2022-07-16T11:38:27.968Z"
   },
   {
    "duration": 18,
    "start_time": "2022-07-16T11:47:29.618Z"
   },
   {
    "duration": 1330,
    "start_time": "2022-07-17T09:11:46.010Z"
   },
   {
    "duration": 108,
    "start_time": "2022-07-17T09:11:47.342Z"
   },
   {
    "duration": 15,
    "start_time": "2022-07-17T09:11:47.452Z"
   },
   {
    "duration": 23,
    "start_time": "2022-07-17T09:11:47.468Z"
   },
   {
    "duration": 614,
    "start_time": "2022-07-17T09:11:47.493Z"
   },
   {
    "duration": 79,
    "start_time": "2022-07-17T09:12:39.021Z"
   },
   {
    "duration": 68,
    "start_time": "2022-07-17T09:13:08.985Z"
   },
   {
    "duration": 68,
    "start_time": "2022-07-17T09:14:09.697Z"
   },
   {
    "duration": 7,
    "start_time": "2022-07-17T09:17:36.900Z"
   },
   {
    "duration": 26,
    "start_time": "2022-07-17T09:23:11.583Z"
   },
   {
    "duration": 22,
    "start_time": "2022-07-17T09:24:24.687Z"
   },
   {
    "duration": 6,
    "start_time": "2022-07-17T09:24:34.387Z"
   },
   {
    "duration": 22,
    "start_time": "2022-07-17T09:24:36.107Z"
   },
   {
    "duration": 172,
    "start_time": "2022-07-17T09:25:01.523Z"
   },
   {
    "duration": 140,
    "start_time": "2022-07-17T09:26:30.601Z"
   },
   {
    "duration": 9,
    "start_time": "2022-07-17T09:31:09.174Z"
   },
   {
    "duration": 318,
    "start_time": "2022-07-17T09:32:54.690Z"
   },
   {
    "duration": 279,
    "start_time": "2022-07-17T09:32:59.246Z"
   },
   {
    "duration": 284,
    "start_time": "2022-07-17T09:33:03.368Z"
   },
   {
    "duration": 268,
    "start_time": "2022-07-17T09:33:18.366Z"
   },
   {
    "duration": 136,
    "start_time": "2022-07-17T09:34:18.958Z"
   },
   {
    "duration": 347,
    "start_time": "2022-07-17T09:34:42.231Z"
   },
   {
    "duration": 294,
    "start_time": "2022-07-17T09:34:49.439Z"
   },
   {
    "duration": 302,
    "start_time": "2022-07-17T09:34:56.798Z"
   },
   {
    "duration": 17,
    "start_time": "2022-07-17T09:37:07.008Z"
   },
   {
    "duration": 18,
    "start_time": "2022-07-17T09:37:12.919Z"
   },
   {
    "duration": 292,
    "start_time": "2022-07-17T09:37:50.728Z"
   },
   {
    "duration": 157,
    "start_time": "2022-07-17T09:41:03.918Z"
   },
   {
    "duration": 21,
    "start_time": "2022-07-17T09:41:13.642Z"
   },
   {
    "duration": 396,
    "start_time": "2022-07-17T09:41:19.105Z"
   },
   {
    "duration": 379,
    "start_time": "2022-07-17T09:43:57.698Z"
   },
   {
    "duration": 331,
    "start_time": "2022-07-17T09:44:04.994Z"
   },
   {
    "duration": 255,
    "start_time": "2022-07-17T09:46:51.320Z"
   },
   {
    "duration": 101,
    "start_time": "2022-07-17T09:46:54.219Z"
   },
   {
    "duration": 253,
    "start_time": "2022-07-17T09:46:57.371Z"
   },
   {
    "duration": 284,
    "start_time": "2022-07-17T09:47:09.603Z"
   },
   {
    "duration": 418,
    "start_time": "2022-07-17T10:43:50.634Z"
   },
   {
    "duration": 401,
    "start_time": "2022-07-17T10:43:56.206Z"
   },
   {
    "duration": 376,
    "start_time": "2022-07-17T10:44:09.590Z"
   },
   {
    "duration": 11,
    "start_time": "2022-07-17T10:46:24.752Z"
   },
   {
    "duration": 183,
    "start_time": "2022-07-17T10:48:38.037Z"
   },
   {
    "duration": 163,
    "start_time": "2022-07-17T10:48:45.407Z"
   },
   {
    "duration": 374,
    "start_time": "2022-07-17T10:48:58.183Z"
   },
   {
    "duration": 268,
    "start_time": "2022-07-17T10:49:05.585Z"
   },
   {
    "duration": 261,
    "start_time": "2022-07-17T10:49:18.599Z"
   },
   {
    "duration": 323,
    "start_time": "2022-07-17T10:49:27.648Z"
   },
   {
    "duration": 294,
    "start_time": "2022-07-17T10:49:40.889Z"
   },
   {
    "duration": 73,
    "start_time": "2022-07-17T10:49:48.112Z"
   },
   {
    "duration": 294,
    "start_time": "2022-07-17T10:49:53.888Z"
   },
   {
    "duration": 307,
    "start_time": "2022-07-17T10:50:00.401Z"
   },
   {
    "duration": 281,
    "start_time": "2022-07-17T10:51:49.085Z"
   },
   {
    "duration": 312,
    "start_time": "2022-07-17T10:52:09.905Z"
   },
   {
    "duration": 429,
    "start_time": "2022-07-17T10:52:25.208Z"
   },
   {
    "duration": 393,
    "start_time": "2022-07-17T10:52:35.276Z"
   },
   {
    "duration": 476,
    "start_time": "2022-07-17T10:52:40.772Z"
   },
   {
    "duration": 9,
    "start_time": "2022-07-17T12:10:49.987Z"
   },
   {
    "duration": 15,
    "start_time": "2022-07-17T12:11:16.974Z"
   },
   {
    "duration": 18,
    "start_time": "2022-07-17T12:11:22.383Z"
   },
   {
    "duration": 12,
    "start_time": "2022-07-17T12:11:35.031Z"
   },
   {
    "duration": 12,
    "start_time": "2022-07-17T12:11:38.382Z"
   },
   {
    "duration": 129,
    "start_time": "2022-07-17T12:11:49.375Z"
   },
   {
    "duration": 127,
    "start_time": "2022-07-17T12:13:57.480Z"
   },
   {
    "duration": 163,
    "start_time": "2022-07-17T12:14:08.712Z"
   },
   {
    "duration": 122,
    "start_time": "2022-07-17T12:14:45.803Z"
   },
   {
    "duration": 5,
    "start_time": "2022-07-17T12:17:40.693Z"
   },
   {
    "duration": 4,
    "start_time": "2022-07-17T12:20:47.583Z"
   },
   {
    "duration": 137,
    "start_time": "2022-07-17T12:26:42.605Z"
   },
   {
    "duration": 189,
    "start_time": "2022-07-17T12:26:57.325Z"
   },
   {
    "duration": 5,
    "start_time": "2022-07-17T12:29:07.563Z"
   },
   {
    "duration": 244,
    "start_time": "2022-07-17T13:32:44.235Z"
   },
   {
    "duration": 141,
    "start_time": "2022-07-17T13:36:26.892Z"
   },
   {
    "duration": 13,
    "start_time": "2022-07-17T13:38:52.207Z"
   },
   {
    "duration": 27,
    "start_time": "2022-07-17T13:39:06.077Z"
   },
   {
    "duration": 1125,
    "start_time": "2022-07-17T19:37:30.465Z"
   },
   {
    "duration": 124,
    "start_time": "2022-07-17T19:37:31.592Z"
   },
   {
    "duration": 13,
    "start_time": "2022-07-17T19:37:31.717Z"
   },
   {
    "duration": 14,
    "start_time": "2022-07-17T19:37:31.732Z"
   },
   {
    "duration": 132,
    "start_time": "2022-07-17T19:37:31.747Z"
   },
   {
    "duration": 5,
    "start_time": "2022-07-17T19:37:31.881Z"
   },
   {
    "duration": 157,
    "start_time": "2022-07-17T19:37:31.888Z"
   },
   {
    "duration": 117,
    "start_time": "2022-07-17T19:37:32.046Z"
   },
   {
    "duration": 12,
    "start_time": "2022-07-17T19:37:32.165Z"
   },
   {
    "duration": 299,
    "start_time": "2022-07-17T19:37:32.180Z"
   },
   {
    "duration": 271,
    "start_time": "2022-07-17T19:37:32.481Z"
   },
   {
    "duration": 392,
    "start_time": "2022-07-17T19:37:32.754Z"
   },
   {
    "duration": 288,
    "start_time": "2022-07-17T19:37:33.148Z"
   },
   {
    "duration": 366,
    "start_time": "2022-07-17T19:37:33.438Z"
   },
   {
    "duration": 118,
    "start_time": "2022-07-17T19:37:33.806Z"
   },
   {
    "duration": 5,
    "start_time": "2022-07-17T19:37:33.925Z"
   },
   {
    "duration": 133,
    "start_time": "2022-07-17T19:37:33.931Z"
   },
   {
    "duration": 4,
    "start_time": "2022-07-17T19:37:34.066Z"
   },
   {
    "duration": 222,
    "start_time": "2022-07-17T19:37:34.072Z"
   },
   {
    "duration": 174,
    "start_time": "2022-07-17T19:37:34.296Z"
   },
   {
    "duration": 118,
    "start_time": "2022-07-17T19:37:34.472Z"
   },
   {
    "duration": 11,
    "start_time": "2022-07-17T19:38:06.541Z"
   },
   {
    "duration": 12,
    "start_time": "2022-07-17T19:43:46.182Z"
   },
   {
    "duration": 11,
    "start_time": "2022-07-17T19:52:28.338Z"
   },
   {
    "duration": 10,
    "start_time": "2022-07-17T19:52:41.714Z"
   },
   {
    "duration": 8,
    "start_time": "2022-07-17T19:58:37.056Z"
   },
   {
    "duration": 6,
    "start_time": "2022-07-17T20:01:23.141Z"
   },
   {
    "duration": 7,
    "start_time": "2022-07-17T20:03:22.740Z"
   },
   {
    "duration": 1145,
    "start_time": "2022-07-18T06:28:38.760Z"
   },
   {
    "duration": 133,
    "start_time": "2022-07-18T06:28:39.907Z"
   },
   {
    "duration": 13,
    "start_time": "2022-07-18T06:28:40.042Z"
   },
   {
    "duration": 16,
    "start_time": "2022-07-18T06:28:40.057Z"
   },
   {
    "duration": 151,
    "start_time": "2022-07-18T06:28:40.075Z"
   },
   {
    "duration": 5,
    "start_time": "2022-07-18T06:28:40.229Z"
   },
   {
    "duration": 159,
    "start_time": "2022-07-18T06:28:40.236Z"
   },
   {
    "duration": 140,
    "start_time": "2022-07-18T06:28:40.397Z"
   },
   {
    "duration": 9,
    "start_time": "2022-07-18T06:28:40.539Z"
   },
   {
    "duration": 291,
    "start_time": "2022-07-18T06:28:40.550Z"
   },
   {
    "duration": 279,
    "start_time": "2022-07-18T06:28:40.843Z"
   },
   {
    "duration": 424,
    "start_time": "2022-07-18T06:28:41.125Z"
   },
   {
    "duration": 303,
    "start_time": "2022-07-18T06:28:41.550Z"
   },
   {
    "duration": 390,
    "start_time": "2022-07-18T06:28:41.856Z"
   },
   {
    "duration": 121,
    "start_time": "2022-07-18T06:28:42.249Z"
   },
   {
    "duration": 5,
    "start_time": "2022-07-18T06:28:42.372Z"
   },
   {
    "duration": 144,
    "start_time": "2022-07-18T06:28:42.379Z"
   },
   {
    "duration": 5,
    "start_time": "2022-07-18T06:28:42.525Z"
   },
   {
    "duration": 11,
    "start_time": "2022-07-18T06:28:42.531Z"
   },
   {
    "duration": 18,
    "start_time": "2022-07-18T06:28:42.543Z"
   },
   {
    "duration": 3,
    "start_time": "2022-07-18T06:29:04.023Z"
   },
   {
    "duration": 39,
    "start_time": "2022-07-18T06:29:04.028Z"
   },
   {
    "duration": 12,
    "start_time": "2022-07-18T06:29:04.068Z"
   },
   {
    "duration": 19,
    "start_time": "2022-07-18T06:29:04.082Z"
   },
   {
    "duration": 77,
    "start_time": "2022-07-18T06:29:04.103Z"
   },
   {
    "duration": 6,
    "start_time": "2022-07-18T06:29:04.181Z"
   },
   {
    "duration": 155,
    "start_time": "2022-07-18T06:29:04.188Z"
   },
   {
    "duration": 107,
    "start_time": "2022-07-18T06:29:04.345Z"
   },
   {
    "duration": 8,
    "start_time": "2022-07-18T06:29:04.454Z"
   },
   {
    "duration": 286,
    "start_time": "2022-07-18T06:29:04.463Z"
   },
   {
    "duration": 275,
    "start_time": "2022-07-18T06:29:04.751Z"
   },
   {
    "duration": 461,
    "start_time": "2022-07-18T06:29:05.028Z"
   },
   {
    "duration": 301,
    "start_time": "2022-07-18T06:29:05.490Z"
   },
   {
    "duration": 429,
    "start_time": "2022-07-18T06:29:05.794Z"
   },
   {
    "duration": 111,
    "start_time": "2022-07-18T06:29:06.225Z"
   },
   {
    "duration": 5,
    "start_time": "2022-07-18T06:29:06.337Z"
   },
   {
    "duration": 133,
    "start_time": "2022-07-18T06:29:06.343Z"
   },
   {
    "duration": 5,
    "start_time": "2022-07-18T06:29:06.478Z"
   },
   {
    "duration": 238,
    "start_time": "2022-07-18T06:29:06.485Z"
   },
   {
    "duration": 6,
    "start_time": "2022-07-18T06:29:06.725Z"
   },
   {
    "duration": 15,
    "start_time": "2022-07-18T06:29:06.733Z"
   },
   {
    "duration": 132,
    "start_time": "2022-07-18T06:29:06.750Z"
   },
   {
    "duration": 1287,
    "start_time": "2022-07-18T06:34:28.821Z"
   },
   {
    "duration": 141,
    "start_time": "2022-07-18T06:35:33.882Z"
   },
   {
    "duration": 138,
    "start_time": "2022-07-18T06:42:03.605Z"
   },
   {
    "duration": 6,
    "start_time": "2022-07-18T06:46:47.671Z"
   },
   {
    "duration": 5,
    "start_time": "2022-07-18T06:46:58.855Z"
   },
   {
    "duration": 7,
    "start_time": "2022-07-18T06:47:02.088Z"
   },
   {
    "duration": 919,
    "start_time": "2022-07-18T06:48:34.633Z"
   },
   {
    "duration": 871,
    "start_time": "2022-07-18T06:48:50.905Z"
   },
   {
    "duration": 933,
    "start_time": "2022-07-18T06:49:00.097Z"
   },
   {
    "duration": 1104,
    "start_time": "2022-07-18T06:49:16.753Z"
   },
   {
    "duration": 852,
    "start_time": "2022-07-18T06:49:40.977Z"
   },
   {
    "duration": 778,
    "start_time": "2022-07-18T06:51:07.978Z"
   },
   {
    "duration": 14,
    "start_time": "2022-07-18T06:51:17.786Z"
   },
   {
    "duration": 16,
    "start_time": "2022-07-18T06:57:11.155Z"
   },
   {
    "duration": 18,
    "start_time": "2022-07-18T06:57:32.020Z"
   },
   {
    "duration": 151,
    "start_time": "2022-07-18T06:57:47.657Z"
   },
   {
    "duration": 153,
    "start_time": "2022-07-18T07:07:57.081Z"
   },
   {
    "duration": 9,
    "start_time": "2022-07-18T07:09:04.328Z"
   },
   {
    "duration": 9,
    "start_time": "2022-07-18T07:16:11.209Z"
   },
   {
    "duration": 10,
    "start_time": "2022-07-18T07:16:28.124Z"
   },
   {
    "duration": 8,
    "start_time": "2022-07-18T07:29:28.316Z"
   },
   {
    "duration": 12,
    "start_time": "2022-07-18T07:30:46.976Z"
   },
   {
    "duration": 67,
    "start_time": "2022-07-18T07:31:05.080Z"
   },
   {
    "duration": 13,
    "start_time": "2022-07-18T07:31:12.032Z"
   },
   {
    "duration": 12,
    "start_time": "2022-07-18T07:31:17.737Z"
   },
   {
    "duration": 10,
    "start_time": "2022-07-18T07:31:59.633Z"
   },
   {
    "duration": 8,
    "start_time": "2022-07-18T07:32:39.360Z"
   },
   {
    "duration": 10,
    "start_time": "2022-07-18T07:37:35.735Z"
   },
   {
    "duration": 53,
    "start_time": "2022-07-18T08:16:18.332Z"
   },
   {
    "duration": 87,
    "start_time": "2022-07-18T08:16:43.839Z"
   },
   {
    "duration": 81,
    "start_time": "2022-07-18T08:17:52.081Z"
   },
   {
    "duration": 151,
    "start_time": "2022-07-18T08:19:42.802Z"
   },
   {
    "duration": 63,
    "start_time": "2022-07-18T08:19:47.345Z"
   },
   {
    "duration": 70,
    "start_time": "2022-07-18T08:21:20.958Z"
   },
   {
    "duration": 17,
    "start_time": "2022-07-18T08:21:52.082Z"
   },
   {
    "duration": 149,
    "start_time": "2022-07-18T08:22:17.275Z"
   },
   {
    "duration": 70,
    "start_time": "2022-07-18T08:22:19.074Z"
   },
   {
    "duration": 167,
    "start_time": "2022-07-18T08:23:17.811Z"
   },
   {
    "duration": 1158,
    "start_time": "2022-07-23T08:54:09.174Z"
   },
   {
    "duration": 3,
    "start_time": "2022-07-23T08:54:25.833Z"
   },
   {
    "duration": 144,
    "start_time": "2022-07-23T08:54:26.443Z"
   },
   {
    "duration": 12,
    "start_time": "2022-07-23T08:54:27.007Z"
   },
   {
    "duration": 16,
    "start_time": "2022-07-23T08:54:30.271Z"
   },
   {
    "duration": 94,
    "start_time": "2022-07-23T10:13:27.840Z"
   },
   {
    "duration": 3,
    "start_time": "2022-07-23T10:13:32.363Z"
   },
   {
    "duration": 35,
    "start_time": "2022-07-23T10:13:32.368Z"
   },
   {
    "duration": 11,
    "start_time": "2022-07-23T10:13:32.404Z"
   },
   {
    "duration": 13,
    "start_time": "2022-07-23T10:13:32.417Z"
   },
   {
    "duration": 141,
    "start_time": "2022-07-23T10:13:32.432Z"
   },
   {
    "duration": 5,
    "start_time": "2022-07-23T10:13:32.575Z"
   },
   {
    "duration": 162,
    "start_time": "2022-07-23T10:13:32.582Z"
   },
   {
    "duration": 116,
    "start_time": "2022-07-23T10:13:32.745Z"
   },
   {
    "duration": 9,
    "start_time": "2022-07-23T10:13:32.863Z"
   },
   {
    "duration": 265,
    "start_time": "2022-07-23T10:13:32.873Z"
   },
   {
    "duration": 249,
    "start_time": "2022-07-23T10:13:33.139Z"
   },
   {
    "duration": 412,
    "start_time": "2022-07-23T10:13:33.389Z"
   },
   {
    "duration": 243,
    "start_time": "2022-07-23T10:13:33.803Z"
   },
   {
    "duration": 363,
    "start_time": "2022-07-23T10:13:34.048Z"
   },
   {
    "duration": 98,
    "start_time": "2022-07-23T10:13:34.412Z"
   },
   {
    "duration": 3,
    "start_time": "2022-07-23T10:13:34.512Z"
   },
   {
    "duration": 125,
    "start_time": "2022-07-23T10:13:34.517Z"
   },
   {
    "duration": 4,
    "start_time": "2022-07-23T10:13:34.651Z"
   },
   {
    "duration": 193,
    "start_time": "2022-07-23T10:13:41.919Z"
   },
   {
    "duration": 316,
    "start_time": "2022-07-23T10:15:03.460Z"
   },
   {
    "duration": 191,
    "start_time": "2022-07-23T10:15:32.567Z"
   },
   {
    "duration": 6,
    "start_time": "2022-07-23T10:22:05.402Z"
   },
   {
    "duration": 5,
    "start_time": "2022-07-23T10:25:03.612Z"
   },
   {
    "duration": 1368,
    "start_time": "2022-07-23T10:26:05.682Z"
   },
   {
    "duration": 10,
    "start_time": "2022-07-23T10:26:13.077Z"
   },
   {
    "duration": 7,
    "start_time": "2022-07-23T10:27:04.261Z"
   },
   {
    "duration": 7,
    "start_time": "2022-07-23T10:28:15.558Z"
   },
   {
    "duration": 6,
    "start_time": "2022-07-23T10:29:10.223Z"
   },
   {
    "duration": 7,
    "start_time": "2022-07-23T10:29:32.398Z"
   },
   {
    "duration": 6,
    "start_time": "2022-07-23T10:29:37.798Z"
   },
   {
    "duration": 7,
    "start_time": "2022-07-23T10:48:00.016Z"
   },
   {
    "duration": 13,
    "start_time": "2022-07-23T10:48:10.695Z"
   },
   {
    "duration": 13,
    "start_time": "2022-07-23T10:51:10.646Z"
   },
   {
    "duration": 11,
    "start_time": "2022-07-23T10:51:41.046Z"
   },
   {
    "duration": 171,
    "start_time": "2022-07-23T10:54:23.542Z"
   },
   {
    "duration": 144,
    "start_time": "2022-07-23T10:54:34.651Z"
   },
   {
    "duration": 196,
    "start_time": "2022-07-23T10:56:43.756Z"
   },
   {
    "duration": 147,
    "start_time": "2022-07-23T10:56:58.195Z"
   },
   {
    "duration": 162,
    "start_time": "2022-07-23T10:57:09.347Z"
   },
   {
    "duration": 151,
    "start_time": "2022-07-23T11:05:34.744Z"
   },
   {
    "duration": 86,
    "start_time": "2022-07-23T11:06:28.439Z"
   },
   {
    "duration": 77,
    "start_time": "2022-07-23T11:06:41.824Z"
   },
   {
    "duration": 86,
    "start_time": "2022-07-23T11:06:58.402Z"
   },
   {
    "duration": 1161,
    "start_time": "2022-07-23T11:08:32.778Z"
   },
   {
    "duration": 127,
    "start_time": "2022-07-23T11:08:47.644Z"
   },
   {
    "duration": 80,
    "start_time": "2022-07-23T11:09:18.298Z"
   },
   {
    "duration": 1171,
    "start_time": "2022-07-23T11:09:22.250Z"
   },
   {
    "duration": 1384,
    "start_time": "2022-07-23T11:09:35.843Z"
   },
   {
    "duration": 116,
    "start_time": "2022-07-23T11:10:40.662Z"
   },
   {
    "duration": 139,
    "start_time": "2022-07-23T11:10:58.578Z"
   },
   {
    "duration": 3,
    "start_time": "2022-07-23T11:11:52.807Z"
   },
   {
    "duration": 34,
    "start_time": "2022-07-23T11:11:52.812Z"
   },
   {
    "duration": 12,
    "start_time": "2022-07-23T11:11:52.847Z"
   },
   {
    "duration": 15,
    "start_time": "2022-07-23T11:11:52.860Z"
   },
   {
    "duration": 60,
    "start_time": "2022-07-23T11:11:52.878Z"
   },
   {
    "duration": 6,
    "start_time": "2022-07-23T11:11:52.940Z"
   },
   {
    "duration": 154,
    "start_time": "2022-07-23T11:11:52.948Z"
   },
   {
    "duration": 113,
    "start_time": "2022-07-23T11:11:53.104Z"
   },
   {
    "duration": 9,
    "start_time": "2022-07-23T11:11:53.218Z"
   },
   {
    "duration": 348,
    "start_time": "2022-07-23T11:11:53.229Z"
   },
   {
    "duration": 273,
    "start_time": "2022-07-23T11:11:53.579Z"
   },
   {
    "duration": 357,
    "start_time": "2022-07-23T11:11:53.854Z"
   },
   {
    "duration": 276,
    "start_time": "2022-07-23T11:11:54.214Z"
   },
   {
    "duration": 353,
    "start_time": "2022-07-23T11:11:54.492Z"
   },
   {
    "duration": 108,
    "start_time": "2022-07-23T11:11:54.846Z"
   },
   {
    "duration": 5,
    "start_time": "2022-07-23T11:11:54.956Z"
   },
   {
    "duration": 147,
    "start_time": "2022-07-23T11:11:54.963Z"
   },
   {
    "duration": 5,
    "start_time": "2022-07-23T11:11:55.113Z"
   },
   {
    "duration": 211,
    "start_time": "2022-07-23T11:11:55.120Z"
   },
   {
    "duration": 6,
    "start_time": "2022-07-23T11:11:55.332Z"
   },
   {
    "duration": 21,
    "start_time": "2022-07-23T11:11:55.339Z"
   },
   {
    "duration": 174,
    "start_time": "2022-07-23T11:11:55.362Z"
   },
   {
    "duration": 127,
    "start_time": "2022-07-23T11:12:03.983Z"
   },
   {
    "duration": 233,
    "start_time": "2022-07-23T11:12:26.660Z"
   },
   {
    "duration": 191,
    "start_time": "2022-07-23T11:13:02.952Z"
   },
   {
    "duration": 116,
    "start_time": "2022-07-23T11:13:28.659Z"
   },
   {
    "duration": 7,
    "start_time": "2022-07-23T11:15:12.457Z"
   },
   {
    "duration": 1353,
    "start_time": "2022-07-23T11:24:25.093Z"
   },
   {
    "duration": 12,
    "start_time": "2022-07-23T11:25:13.524Z"
   },
   {
    "duration": 11,
    "start_time": "2022-07-23T11:25:17.473Z"
   },
   {
    "duration": 11,
    "start_time": "2022-07-23T11:25:24.304Z"
   },
   {
    "duration": 11,
    "start_time": "2022-07-23T11:25:33.320Z"
   },
   {
    "duration": 13,
    "start_time": "2022-07-23T12:24:54.185Z"
   },
   {
    "duration": 3,
    "start_time": "2022-07-23T12:31:34.502Z"
   },
   {
    "duration": 51,
    "start_time": "2022-07-23T12:31:34.507Z"
   },
   {
    "duration": 15,
    "start_time": "2022-07-23T12:31:34.560Z"
   },
   {
    "duration": 22,
    "start_time": "2022-07-23T12:31:34.578Z"
   },
   {
    "duration": 66,
    "start_time": "2022-07-23T12:31:34.601Z"
   },
   {
    "duration": 6,
    "start_time": "2022-07-23T12:31:34.669Z"
   },
   {
    "duration": 168,
    "start_time": "2022-07-23T12:31:34.677Z"
   },
   {
    "duration": 109,
    "start_time": "2022-07-23T12:31:34.846Z"
   },
   {
    "duration": 8,
    "start_time": "2022-07-23T12:31:34.957Z"
   },
   {
    "duration": 301,
    "start_time": "2022-07-23T12:31:34.967Z"
   },
   {
    "duration": 267,
    "start_time": "2022-07-23T12:31:35.270Z"
   },
   {
    "duration": 485,
    "start_time": "2022-07-23T12:31:35.539Z"
   },
   {
    "duration": 332,
    "start_time": "2022-07-23T12:31:36.026Z"
   },
   {
    "duration": 418,
    "start_time": "2022-07-23T12:31:36.360Z"
   },
   {
    "duration": 283,
    "start_time": "2022-07-23T12:34:05.050Z"
   },
   {
    "duration": 279,
    "start_time": "2022-07-23T12:35:40.545Z"
   },
   {
    "duration": 429,
    "start_time": "2022-07-23T12:35:44.343Z"
   },
   {
    "duration": 377,
    "start_time": "2022-07-23T12:36:30.350Z"
   },
   {
    "duration": 375,
    "start_time": "2022-07-23T12:36:57.960Z"
   },
   {
    "duration": 346,
    "start_time": "2022-07-23T12:37:10.606Z"
   },
   {
    "duration": 268,
    "start_time": "2022-07-23T12:37:48.646Z"
   },
   {
    "duration": 3,
    "start_time": "2022-07-23T12:39:52.547Z"
   },
   {
    "duration": 40,
    "start_time": "2022-07-23T12:39:52.552Z"
   },
   {
    "duration": 12,
    "start_time": "2022-07-23T12:39:52.593Z"
   },
   {
    "duration": 22,
    "start_time": "2022-07-23T12:39:52.607Z"
   },
   {
    "duration": 59,
    "start_time": "2022-07-23T12:39:52.631Z"
   },
   {
    "duration": 4,
    "start_time": "2022-07-23T12:39:52.691Z"
   },
   {
    "duration": 139,
    "start_time": "2022-07-23T12:39:52.697Z"
   },
   {
    "duration": 107,
    "start_time": "2022-07-23T12:39:52.837Z"
   },
   {
    "duration": 11,
    "start_time": "2022-07-23T12:39:52.953Z"
   },
   {
    "duration": 363,
    "start_time": "2022-07-23T12:39:52.966Z"
   },
   {
    "duration": 263,
    "start_time": "2022-07-23T12:39:53.331Z"
   },
   {
    "duration": 347,
    "start_time": "2022-07-23T12:39:53.596Z"
   },
   {
    "duration": 272,
    "start_time": "2022-07-23T12:39:53.944Z"
   },
   {
    "duration": 407,
    "start_time": "2022-07-23T12:39:54.219Z"
   },
   {
    "duration": 110,
    "start_time": "2022-07-23T12:39:54.628Z"
   },
   {
    "duration": 4,
    "start_time": "2022-07-23T12:39:54.739Z"
   },
   {
    "duration": 133,
    "start_time": "2022-07-23T12:39:54.744Z"
   },
   {
    "duration": 4,
    "start_time": "2022-07-23T12:39:54.879Z"
   },
   {
    "duration": 219,
    "start_time": "2022-07-23T12:39:54.885Z"
   },
   {
    "duration": 6,
    "start_time": "2022-07-23T12:39:55.106Z"
   },
   {
    "duration": 10,
    "start_time": "2022-07-23T12:39:55.113Z"
   },
   {
    "duration": 147,
    "start_time": "2022-07-23T12:39:55.124Z"
   },
   {
    "duration": 130,
    "start_time": "2022-07-23T12:39:55.273Z"
   },
   {
    "duration": 6,
    "start_time": "2022-07-23T12:39:55.405Z"
   },
   {
    "duration": 11,
    "start_time": "2022-07-23T12:39:55.412Z"
   },
   {
    "duration": 1225,
    "start_time": "2022-07-23T14:47:09.956Z"
   },
   {
    "duration": 154,
    "start_time": "2022-07-23T14:47:11.183Z"
   },
   {
    "duration": 20,
    "start_time": "2022-07-23T14:47:11.340Z"
   },
   {
    "duration": 23,
    "start_time": "2022-07-23T14:47:11.364Z"
   },
   {
    "duration": 176,
    "start_time": "2022-07-23T14:47:11.390Z"
   },
   {
    "duration": 8,
    "start_time": "2022-07-23T14:47:11.569Z"
   },
   {
    "duration": 258,
    "start_time": "2022-07-23T14:47:11.579Z"
   },
   {
    "duration": 142,
    "start_time": "2022-07-23T14:47:11.839Z"
   },
   {
    "duration": 18,
    "start_time": "2022-07-23T14:47:11.983Z"
   },
   {
    "duration": 380,
    "start_time": "2022-07-23T14:47:12.025Z"
   },
   {
    "duration": 407,
    "start_time": "2022-07-23T14:47:12.407Z"
   },
   {
    "duration": 461,
    "start_time": "2022-07-23T14:47:12.818Z"
   },
   {
    "duration": 329,
    "start_time": "2022-07-23T14:47:13.281Z"
   },
   {
    "duration": 483,
    "start_time": "2022-07-23T14:47:13.613Z"
   },
   {
    "duration": 148,
    "start_time": "2022-07-23T14:47:14.098Z"
   },
   {
    "duration": 5,
    "start_time": "2022-07-23T14:47:14.248Z"
   },
   {
    "duration": 192,
    "start_time": "2022-07-23T14:47:14.254Z"
   },
   {
    "duration": 6,
    "start_time": "2022-07-23T14:47:14.449Z"
   },
   {
    "duration": 293,
    "start_time": "2022-07-23T14:47:14.458Z"
   },
   {
    "duration": 9,
    "start_time": "2022-07-23T14:47:14.754Z"
   },
   {
    "duration": 36,
    "start_time": "2022-07-23T14:47:14.765Z"
   },
   {
    "duration": 208,
    "start_time": "2022-07-23T14:47:14.803Z"
   },
   {
    "duration": 149,
    "start_time": "2022-07-23T14:47:15.023Z"
   },
   {
    "duration": 8,
    "start_time": "2022-07-23T14:47:15.173Z"
   },
   {
    "duration": 18,
    "start_time": "2022-07-23T14:47:15.183Z"
   },
   {
    "duration": 6,
    "start_time": "2022-07-23T14:51:06.643Z"
   },
   {
    "duration": 66,
    "start_time": "2022-07-23T18:13:22.015Z"
   },
   {
    "duration": 1509,
    "start_time": "2022-07-23T18:13:25.372Z"
   },
   {
    "duration": 218,
    "start_time": "2022-07-23T18:13:26.884Z"
   },
   {
    "duration": 26,
    "start_time": "2022-07-23T18:13:39.541Z"
   },
   {
    "duration": 18,
    "start_time": "2022-07-23T18:14:54.109Z"
   },
   {
    "duration": 6,
    "start_time": "2022-07-23T18:15:31.805Z"
   },
   {
    "duration": 19,
    "start_time": "2022-07-23T18:15:40.877Z"
   },
   {
    "duration": 193,
    "start_time": "2022-07-23T18:15:48.951Z"
   },
   {
    "duration": 22,
    "start_time": "2022-07-23T18:16:01.366Z"
   },
   {
    "duration": 29,
    "start_time": "2022-07-23T18:16:08.967Z"
   },
   {
    "duration": 33,
    "start_time": "2022-07-23T18:16:14.846Z"
   },
   {
    "duration": 18,
    "start_time": "2022-07-23T18:16:17.614Z"
   },
   {
    "duration": 16,
    "start_time": "2022-07-23T18:16:23.094Z"
   },
   {
    "duration": 12,
    "start_time": "2022-07-23T19:08:18.619Z"
   },
   {
    "duration": 12,
    "start_time": "2022-07-23T19:09:33.908Z"
   },
   {
    "duration": 13,
    "start_time": "2022-07-23T19:42:32.588Z"
   },
   {
    "duration": 59,
    "start_time": "2022-07-24T08:50:00.180Z"
   },
   {
    "duration": 1236,
    "start_time": "2022-07-24T08:50:04.386Z"
   },
   {
    "duration": 137,
    "start_time": "2022-07-24T08:50:05.625Z"
   },
   {
    "duration": 23,
    "start_time": "2022-07-24T08:50:05.764Z"
   },
   {
    "duration": 15,
    "start_time": "2022-07-24T08:50:05.789Z"
   },
   {
    "duration": 146,
    "start_time": "2022-07-24T08:50:05.805Z"
   },
   {
    "duration": 15,
    "start_time": "2022-07-24T08:50:05.952Z"
   },
   {
    "duration": 31,
    "start_time": "2022-07-24T08:50:05.968Z"
   },
   {
    "duration": 7,
    "start_time": "2022-07-24T08:50:08.054Z"
   },
   {
    "duration": 15,
    "start_time": "2022-07-24T08:50:16.926Z"
   },
   {
    "duration": 15,
    "start_time": "2022-07-24T08:50:30.959Z"
   },
   {
    "duration": 14,
    "start_time": "2022-07-24T08:50:53.119Z"
   },
   {
    "duration": 14,
    "start_time": "2022-07-24T08:51:15.975Z"
   },
   {
    "duration": 20,
    "start_time": "2022-07-24T08:54:05.663Z"
   },
   {
    "duration": 18,
    "start_time": "2022-07-24T08:56:53.768Z"
   },
   {
    "duration": 20,
    "start_time": "2022-07-24T08:56:59.744Z"
   },
   {
    "duration": 9,
    "start_time": "2022-07-24T08:58:17.696Z"
   },
   {
    "duration": 10,
    "start_time": "2022-07-24T08:58:50.790Z"
   },
   {
    "duration": 6,
    "start_time": "2022-07-24T08:59:35.544Z"
   },
   {
    "duration": 11,
    "start_time": "2022-07-24T08:59:44.482Z"
   },
   {
    "duration": 73,
    "start_time": "2022-07-24T09:00:06.560Z"
   },
   {
    "duration": 13,
    "start_time": "2022-07-24T09:00:19.265Z"
   },
   {
    "duration": 84,
    "start_time": "2022-07-24T09:07:00.016Z"
   },
   {
    "duration": 9,
    "start_time": "2022-07-24T09:07:34.624Z"
   },
   {
    "duration": 10,
    "start_time": "2022-07-24T09:07:39.143Z"
   },
   {
    "duration": 22,
    "start_time": "2022-07-24T09:07:59.979Z"
   },
   {
    "duration": 17,
    "start_time": "2022-07-24T09:08:13.777Z"
   },
   {
    "duration": 1101,
    "start_time": "2022-07-24T09:08:30.420Z"
   },
   {
    "duration": 8,
    "start_time": "2022-07-24T09:08:46.947Z"
   },
   {
    "duration": 4,
    "start_time": "2022-07-24T09:09:50.996Z"
   },
   {
    "duration": 7,
    "start_time": "2022-07-24T09:10:55.756Z"
   },
   {
    "duration": 4,
    "start_time": "2022-07-24T09:16:50.439Z"
   },
   {
    "duration": 6,
    "start_time": "2022-07-24T09:19:09.609Z"
   },
   {
    "duration": 14,
    "start_time": "2022-07-24T09:19:43.545Z"
   },
   {
    "duration": 50,
    "start_time": "2022-07-24T09:19:48.654Z"
   },
   {
    "duration": 5,
    "start_time": "2022-07-24T09:19:56.753Z"
   },
   {
    "duration": 7,
    "start_time": "2022-07-24T09:20:03.185Z"
   },
   {
    "duration": 774,
    "start_time": "2022-07-24T09:20:15.379Z"
   },
   {
    "duration": 1210,
    "start_time": "2022-07-24T09:20:34.130Z"
   },
   {
    "duration": 1286,
    "start_time": "2022-07-24T09:20:36.858Z"
   },
   {
    "duration": 5,
    "start_time": "2022-07-24T09:20:57.594Z"
   },
   {
    "duration": 10,
    "start_time": "2022-07-24T09:22:43.924Z"
   },
   {
    "duration": 54,
    "start_time": "2022-07-24T09:26:49.142Z"
   },
   {
    "duration": 611,
    "start_time": "2022-07-24T09:26:53.238Z"
   },
   {
    "duration": 640,
    "start_time": "2022-07-24T09:27:06.950Z"
   },
   {
    "duration": 830,
    "start_time": "2022-07-24T09:27:27.934Z"
   },
   {
    "duration": 729,
    "start_time": "2022-07-24T09:27:41.070Z"
   },
   {
    "duration": 21,
    "start_time": "2022-07-24T09:28:35.503Z"
   },
   {
    "duration": 13,
    "start_time": "2022-07-24T09:29:34.456Z"
   },
   {
    "duration": 68,
    "start_time": "2022-07-24T09:30:40.920Z"
   },
   {
    "duration": 770,
    "start_time": "2022-07-24T09:30:45.041Z"
   },
   {
    "duration": 3,
    "start_time": "2022-07-24T09:43:30.432Z"
   },
   {
    "duration": 87,
    "start_time": "2022-07-24T09:44:09.511Z"
   },
   {
    "duration": 8,
    "start_time": "2022-07-24T09:44:17.285Z"
   },
   {
    "duration": 5,
    "start_time": "2022-07-24T09:44:43.407Z"
   },
   {
    "duration": 10,
    "start_time": "2022-07-24T09:44:58.247Z"
   },
   {
    "duration": 82,
    "start_time": "2022-07-24T09:45:19.762Z"
   },
   {
    "duration": 70,
    "start_time": "2022-07-24T09:45:23.455Z"
   },
   {
    "duration": 12,
    "start_time": "2022-07-24T09:49:55.608Z"
   },
   {
    "duration": 12,
    "start_time": "2022-07-24T09:58:57.141Z"
   },
   {
    "duration": 11,
    "start_time": "2022-07-24T09:59:13.398Z"
   },
   {
    "duration": 9,
    "start_time": "2022-07-24T09:59:18.750Z"
   },
   {
    "duration": 575,
    "start_time": "2022-07-24T10:00:11.030Z"
   },
   {
    "duration": 10,
    "start_time": "2022-07-24T10:02:11.399Z"
   },
   {
    "duration": 23,
    "start_time": "2022-07-24T10:02:17.359Z"
   },
   {
    "duration": 7,
    "start_time": "2022-07-24T10:02:30.895Z"
   },
   {
    "duration": 30,
    "start_time": "2022-07-24T10:02:52.854Z"
   },
   {
    "duration": 5,
    "start_time": "2022-07-24T10:03:25.734Z"
   },
   {
    "duration": 9,
    "start_time": "2022-07-24T10:12:58.941Z"
   },
   {
    "duration": 12,
    "start_time": "2022-07-24T10:13:16.639Z"
   },
   {
    "duration": 9,
    "start_time": "2022-07-24T10:13:31.938Z"
   },
   {
    "duration": 9,
    "start_time": "2022-07-24T10:13:57.113Z"
   },
   {
    "duration": 17,
    "start_time": "2022-07-24T10:14:03.417Z"
   },
   {
    "duration": 11,
    "start_time": "2022-07-24T10:14:11.092Z"
   },
   {
    "duration": 7,
    "start_time": "2022-07-24T10:15:12.785Z"
   },
   {
    "duration": 3,
    "start_time": "2022-07-24T10:15:43.963Z"
   },
   {
    "duration": 70,
    "start_time": "2022-07-24T10:15:43.968Z"
   },
   {
    "duration": 11,
    "start_time": "2022-07-24T10:15:44.039Z"
   },
   {
    "duration": 26,
    "start_time": "2022-07-24T10:15:44.052Z"
   },
   {
    "duration": 136,
    "start_time": "2022-07-24T10:15:44.080Z"
   },
   {
    "duration": 9,
    "start_time": "2022-07-24T10:15:44.217Z"
   },
   {
    "duration": 19,
    "start_time": "2022-07-24T10:15:44.228Z"
   },
   {
    "duration": 11,
    "start_time": "2022-07-24T10:15:44.249Z"
   },
   {
    "duration": 22,
    "start_time": "2022-07-24T10:15:44.262Z"
   },
   {
    "duration": 9,
    "start_time": "2022-07-24T10:15:44.285Z"
   },
   {
    "duration": 9,
    "start_time": "2022-07-24T10:15:44.296Z"
   },
   {
    "duration": 10,
    "start_time": "2022-07-24T10:15:44.307Z"
   },
   {
    "duration": 8,
    "start_time": "2022-07-24T10:15:44.319Z"
   },
   {
    "duration": 15,
    "start_time": "2022-07-24T10:15:44.329Z"
   },
   {
    "duration": 7,
    "start_time": "2022-07-24T10:15:50.431Z"
   },
   {
    "duration": 12,
    "start_time": "2022-07-24T10:16:22.241Z"
   },
   {
    "duration": 9,
    "start_time": "2022-07-24T10:16:47.397Z"
   },
   {
    "duration": 15,
    "start_time": "2022-07-24T10:17:20.824Z"
   },
   {
    "duration": 10,
    "start_time": "2022-07-24T10:17:38.593Z"
   },
   {
    "duration": 12,
    "start_time": "2022-07-24T10:17:57.441Z"
   },
   {
    "duration": 3,
    "start_time": "2022-07-24T10:18:16.024Z"
   },
   {
    "duration": 45,
    "start_time": "2022-07-24T10:18:16.029Z"
   },
   {
    "duration": 13,
    "start_time": "2022-07-24T10:18:16.076Z"
   },
   {
    "duration": 15,
    "start_time": "2022-07-24T10:18:16.090Z"
   },
   {
    "duration": 65,
    "start_time": "2022-07-24T10:18:16.108Z"
   },
   {
    "duration": 14,
    "start_time": "2022-07-24T10:18:16.175Z"
   },
   {
    "duration": 27,
    "start_time": "2022-07-24T10:18:16.192Z"
   },
   {
    "duration": 25,
    "start_time": "2022-07-24T10:18:16.222Z"
   },
   {
    "duration": 26,
    "start_time": "2022-07-24T10:18:16.249Z"
   },
   {
    "duration": 9,
    "start_time": "2022-07-24T10:18:16.277Z"
   },
   {
    "duration": 23,
    "start_time": "2022-07-24T10:18:16.288Z"
   },
   {
    "duration": 19,
    "start_time": "2022-07-24T10:18:16.313Z"
   },
   {
    "duration": 13,
    "start_time": "2022-07-24T10:18:16.334Z"
   },
   {
    "duration": 15,
    "start_time": "2022-07-24T10:18:16.350Z"
   },
   {
    "duration": 25,
    "start_time": "2022-07-24T10:18:16.368Z"
   },
   {
    "duration": 8,
    "start_time": "2022-07-24T10:20:03.938Z"
   },
   {
    "duration": 11,
    "start_time": "2022-07-24T10:20:05.629Z"
   },
   {
    "duration": 10,
    "start_time": "2022-07-24T10:20:28.698Z"
   },
   {
    "duration": 4,
    "start_time": "2022-07-24T10:27:12.676Z"
   },
   {
    "duration": 37,
    "start_time": "2022-07-24T10:27:12.682Z"
   },
   {
    "duration": 10,
    "start_time": "2022-07-24T10:27:12.721Z"
   },
   {
    "duration": 14,
    "start_time": "2022-07-24T10:27:12.733Z"
   },
   {
    "duration": 66,
    "start_time": "2022-07-24T10:27:12.749Z"
   },
   {
    "duration": 9,
    "start_time": "2022-07-24T10:27:12.817Z"
   },
   {
    "duration": 21,
    "start_time": "2022-07-24T10:27:12.828Z"
   },
   {
    "duration": 22,
    "start_time": "2022-07-24T10:27:12.851Z"
   },
   {
    "duration": 24,
    "start_time": "2022-07-24T10:27:12.875Z"
   },
   {
    "duration": 26,
    "start_time": "2022-07-24T10:27:12.901Z"
   },
   {
    "duration": 21,
    "start_time": "2022-07-24T10:27:12.929Z"
   },
   {
    "duration": 48,
    "start_time": "2022-07-24T10:27:12.951Z"
   },
   {
    "duration": 23,
    "start_time": "2022-07-24T10:27:13.001Z"
   },
   {
    "duration": 18,
    "start_time": "2022-07-24T10:27:13.026Z"
   },
   {
    "duration": 30,
    "start_time": "2022-07-24T10:27:13.045Z"
   },
   {
    "duration": 36,
    "start_time": "2022-07-24T10:27:13.077Z"
   },
   {
    "duration": 20,
    "start_time": "2022-07-24T10:27:13.115Z"
   },
   {
    "duration": 170,
    "start_time": "2022-07-24T10:27:13.136Z"
   },
   {
    "duration": 132,
    "start_time": "2022-07-24T10:27:13.308Z"
   },
   {
    "duration": 38,
    "start_time": "2022-07-24T10:27:13.441Z"
   },
   {
    "duration": 272,
    "start_time": "2022-07-24T10:27:13.481Z"
   },
   {
    "duration": 52,
    "start_time": "2022-07-24T10:28:38.152Z"
   },
   {
    "duration": 234,
    "start_time": "2022-07-24T10:29:13.808Z"
   },
   {
    "duration": 222,
    "start_time": "2022-07-24T10:29:23.592Z"
   },
   {
    "duration": 202,
    "start_time": "2022-07-24T10:29:35.682Z"
   },
   {
    "duration": 3,
    "start_time": "2022-07-24T10:30:09.256Z"
   },
   {
    "duration": 44,
    "start_time": "2022-07-24T10:30:09.262Z"
   },
   {
    "duration": 11,
    "start_time": "2022-07-24T10:30:09.308Z"
   },
   {
    "duration": 15,
    "start_time": "2022-07-24T10:30:09.322Z"
   },
   {
    "duration": 63,
    "start_time": "2022-07-24T10:30:09.339Z"
   },
   {
    "duration": 10,
    "start_time": "2022-07-24T10:30:09.404Z"
   },
   {
    "duration": 17,
    "start_time": "2022-07-24T10:30:09.416Z"
   },
   {
    "duration": 10,
    "start_time": "2022-07-24T10:30:09.435Z"
   },
   {
    "duration": 10,
    "start_time": "2022-07-24T10:30:09.447Z"
   },
   {
    "duration": 17,
    "start_time": "2022-07-24T10:30:09.460Z"
   },
   {
    "duration": 21,
    "start_time": "2022-07-24T10:30:09.479Z"
   },
   {
    "duration": 15,
    "start_time": "2022-07-24T10:30:09.501Z"
   },
   {
    "duration": 14,
    "start_time": "2022-07-24T10:30:09.517Z"
   },
   {
    "duration": 11,
    "start_time": "2022-07-24T10:30:09.532Z"
   },
   {
    "duration": 9,
    "start_time": "2022-07-24T10:30:09.545Z"
   },
   {
    "duration": 15,
    "start_time": "2022-07-24T10:30:09.556Z"
   },
   {
    "duration": 8,
    "start_time": "2022-07-24T10:30:09.574Z"
   },
   {
    "duration": 173,
    "start_time": "2022-07-24T10:30:09.584Z"
   },
   {
    "duration": 147,
    "start_time": "2022-07-24T10:30:09.760Z"
   },
   {
    "duration": 9,
    "start_time": "2022-07-24T10:30:09.908Z"
   },
   {
    "duration": 237,
    "start_time": "2022-07-24T10:30:09.918Z"
   },
   {
    "duration": 220,
    "start_time": "2022-07-24T10:30:24.490Z"
   },
   {
    "duration": 1186,
    "start_time": "2022-07-24T10:31:23.451Z"
   },
   {
    "duration": 128,
    "start_time": "2022-07-24T10:31:24.639Z"
   },
   {
    "duration": 19,
    "start_time": "2022-07-24T10:31:24.772Z"
   },
   {
    "duration": 17,
    "start_time": "2022-07-24T10:31:24.794Z"
   },
   {
    "duration": 74,
    "start_time": "2022-07-24T10:31:24.813Z"
   },
   {
    "duration": 12,
    "start_time": "2022-07-24T10:31:24.889Z"
   },
   {
    "duration": 18,
    "start_time": "2022-07-24T10:31:24.903Z"
   },
   {
    "duration": 16,
    "start_time": "2022-07-24T10:31:24.922Z"
   },
   {
    "duration": 16,
    "start_time": "2022-07-24T10:31:24.940Z"
   },
   {
    "duration": 9,
    "start_time": "2022-07-24T10:31:24.958Z"
   },
   {
    "duration": 11,
    "start_time": "2022-07-24T10:31:24.968Z"
   },
   {
    "duration": 22,
    "start_time": "2022-07-24T10:31:24.981Z"
   },
   {
    "duration": 16,
    "start_time": "2022-07-24T10:31:25.005Z"
   },
   {
    "duration": 11,
    "start_time": "2022-07-24T10:31:25.023Z"
   },
   {
    "duration": 10,
    "start_time": "2022-07-24T10:31:25.035Z"
   },
   {
    "duration": 20,
    "start_time": "2022-07-24T10:31:25.046Z"
   },
   {
    "duration": 24,
    "start_time": "2022-07-24T10:31:25.071Z"
   },
   {
    "duration": 202,
    "start_time": "2022-07-24T10:31:25.097Z"
   },
   {
    "duration": 124,
    "start_time": "2022-07-24T10:31:25.301Z"
   },
   {
    "duration": 10,
    "start_time": "2022-07-24T10:31:25.427Z"
   },
   {
    "duration": 286,
    "start_time": "2022-07-24T10:31:25.438Z"
   },
   {
    "duration": 198,
    "start_time": "2022-07-24T10:31:25.726Z"
   },
   {
    "duration": 1028,
    "start_time": "2022-07-24T10:32:07.172Z"
   },
   {
    "duration": 90,
    "start_time": "2022-07-24T10:32:08.202Z"
   },
   {
    "duration": 11,
    "start_time": "2022-07-24T10:32:08.294Z"
   },
   {
    "duration": 15,
    "start_time": "2022-07-24T10:32:08.307Z"
   },
   {
    "duration": 68,
    "start_time": "2022-07-24T10:32:08.324Z"
   },
   {
    "duration": 11,
    "start_time": "2022-07-24T10:32:08.393Z"
   },
   {
    "duration": 12,
    "start_time": "2022-07-24T10:32:08.405Z"
   },
   {
    "duration": 12,
    "start_time": "2022-07-24T10:32:08.418Z"
   },
   {
    "duration": 8,
    "start_time": "2022-07-24T10:32:08.432Z"
   },
   {
    "duration": 7,
    "start_time": "2022-07-24T10:32:08.442Z"
   },
   {
    "duration": 9,
    "start_time": "2022-07-24T10:32:08.450Z"
   },
   {
    "duration": 30,
    "start_time": "2022-07-24T10:32:08.461Z"
   },
   {
    "duration": 9,
    "start_time": "2022-07-24T10:32:08.492Z"
   },
   {
    "duration": 10,
    "start_time": "2022-07-24T10:32:08.503Z"
   },
   {
    "duration": 8,
    "start_time": "2022-07-24T10:32:08.514Z"
   },
   {
    "duration": 11,
    "start_time": "2022-07-24T10:32:08.523Z"
   },
   {
    "duration": 8,
    "start_time": "2022-07-24T10:32:08.536Z"
   },
   {
    "duration": 197,
    "start_time": "2022-07-24T10:32:08.545Z"
   },
   {
    "duration": 163,
    "start_time": "2022-07-24T10:32:08.744Z"
   },
   {
    "duration": 8,
    "start_time": "2022-07-24T10:32:08.909Z"
   },
   {
    "duration": 294,
    "start_time": "2022-07-24T10:32:08.919Z"
   },
   {
    "duration": 284,
    "start_time": "2022-07-24T10:37:46.171Z"
   },
   {
    "duration": 211,
    "start_time": "2022-07-24T10:37:56.546Z"
   },
   {
    "duration": 233,
    "start_time": "2022-07-24T10:40:20.591Z"
   },
   {
    "duration": 212,
    "start_time": "2022-07-24T10:40:59.827Z"
   },
   {
    "duration": 315,
    "start_time": "2022-07-24T10:41:26.878Z"
   },
   {
    "duration": 243,
    "start_time": "2022-07-24T10:46:12.142Z"
   },
   {
    "duration": 241,
    "start_time": "2022-07-24T10:46:56.390Z"
   },
   {
    "duration": 260,
    "start_time": "2022-07-24T10:47:06.329Z"
   },
   {
    "duration": 433,
    "start_time": "2022-07-24T10:48:45.694Z"
   },
   {
    "duration": 309,
    "start_time": "2022-07-24T10:48:53.903Z"
   },
   {
    "duration": 361,
    "start_time": "2022-07-24T10:49:11.550Z"
   },
   {
    "duration": 14,
    "start_time": "2022-07-24T10:53:26.922Z"
   },
   {
    "duration": 12,
    "start_time": "2022-07-24T10:53:46.792Z"
   },
   {
    "duration": 128,
    "start_time": "2022-07-24T10:54:08.378Z"
   },
   {
    "duration": 184,
    "start_time": "2022-07-24T10:54:18.585Z"
   },
   {
    "duration": 15,
    "start_time": "2022-07-24T11:34:06.207Z"
   },
   {
    "duration": 3,
    "start_time": "2022-07-24T11:34:12.815Z"
   },
   {
    "duration": 48,
    "start_time": "2022-07-24T11:34:12.821Z"
   },
   {
    "duration": 11,
    "start_time": "2022-07-24T11:34:12.871Z"
   },
   {
    "duration": 15,
    "start_time": "2022-07-24T11:34:12.884Z"
   },
   {
    "duration": 68,
    "start_time": "2022-07-24T11:34:12.900Z"
   },
   {
    "duration": 10,
    "start_time": "2022-07-24T11:34:12.969Z"
   },
   {
    "duration": 16,
    "start_time": "2022-07-24T11:34:12.981Z"
   },
   {
    "duration": 11,
    "start_time": "2022-07-24T11:34:12.998Z"
   },
   {
    "duration": 9,
    "start_time": "2022-07-24T11:34:13.010Z"
   },
   {
    "duration": 7,
    "start_time": "2022-07-24T11:34:13.022Z"
   },
   {
    "duration": 29,
    "start_time": "2022-07-24T11:34:13.031Z"
   },
   {
    "duration": 11,
    "start_time": "2022-07-24T11:34:13.062Z"
   },
   {
    "duration": 16,
    "start_time": "2022-07-24T11:34:13.075Z"
   },
   {
    "duration": 15,
    "start_time": "2022-07-24T11:34:13.092Z"
   },
   {
    "duration": 15,
    "start_time": "2022-07-24T11:34:13.109Z"
   },
   {
    "duration": 19,
    "start_time": "2022-07-24T11:34:13.126Z"
   },
   {
    "duration": 15,
    "start_time": "2022-07-24T11:34:13.147Z"
   },
   {
    "duration": 163,
    "start_time": "2022-07-24T11:34:13.163Z"
   },
   {
    "duration": 132,
    "start_time": "2022-07-24T11:34:13.328Z"
   },
   {
    "duration": 10,
    "start_time": "2022-07-24T11:34:13.462Z"
   },
   {
    "duration": 217,
    "start_time": "2022-07-24T11:34:13.474Z"
   },
   {
    "duration": 213,
    "start_time": "2022-07-24T11:34:13.693Z"
   },
   {
    "duration": 304,
    "start_time": "2022-07-24T11:34:13.908Z"
   },
   {
    "duration": 234,
    "start_time": "2022-07-24T11:34:14.214Z"
   },
   {
    "duration": 335,
    "start_time": "2022-07-24T11:34:14.449Z"
   },
   {
    "duration": 132,
    "start_time": "2022-07-24T11:34:14.785Z"
   },
   {
    "duration": 5,
    "start_time": "2022-07-24T11:34:14.919Z"
   },
   {
    "duration": 209,
    "start_time": "2022-07-24T11:34:14.927Z"
   },
   {
    "duration": 133,
    "start_time": "2022-07-24T11:34:15.138Z"
   },
   {
    "duration": 4,
    "start_time": "2022-07-24T11:34:15.273Z"
   },
   {
    "duration": 239,
    "start_time": "2022-07-24T11:34:15.279Z"
   },
   {
    "duration": 8,
    "start_time": "2022-07-24T11:34:18.761Z"
   },
   {
    "duration": 136,
    "start_time": "2022-07-24T12:00:53.193Z"
   },
   {
    "duration": 5,
    "start_time": "2022-07-24T12:06:42.668Z"
   },
   {
    "duration": 6,
    "start_time": "2022-07-24T12:07:30.976Z"
   },
   {
    "duration": 11,
    "start_time": "2022-07-24T12:09:12.130Z"
   },
   {
    "duration": 12,
    "start_time": "2022-07-24T12:09:37.418Z"
   },
   {
    "duration": 5,
    "start_time": "2022-07-24T12:09:44.698Z"
   },
   {
    "duration": 12,
    "start_time": "2022-07-24T12:09:48.842Z"
   },
   {
    "duration": 10,
    "start_time": "2022-07-24T12:10:13.868Z"
   },
   {
    "duration": 166,
    "start_time": "2022-07-24T12:11:12.635Z"
   },
   {
    "duration": 10,
    "start_time": "2022-07-24T12:14:39.437Z"
   },
   {
    "duration": 8,
    "start_time": "2022-07-24T12:15:02.535Z"
   },
   {
    "duration": 12,
    "start_time": "2022-07-24T12:16:03.687Z"
   },
   {
    "duration": 186,
    "start_time": "2022-07-24T12:36:16.319Z"
   },
   {
    "duration": 41,
    "start_time": "2022-07-24T12:40:24.538Z"
   },
   {
    "duration": 36,
    "start_time": "2022-07-24T12:40:38.726Z"
   },
   {
    "duration": 24,
    "start_time": "2022-07-24T12:40:39.348Z"
   },
   {
    "duration": 38,
    "start_time": "2022-07-24T12:41:02.673Z"
   },
   {
    "duration": 34,
    "start_time": "2022-07-24T12:41:25.572Z"
   },
   {
    "duration": 37,
    "start_time": "2022-07-24T12:41:31.333Z"
   },
   {
    "duration": 29,
    "start_time": "2022-07-24T12:41:38.338Z"
   },
   {
    "duration": 34,
    "start_time": "2022-07-24T12:41:45.740Z"
   },
   {
    "duration": 10,
    "start_time": "2022-07-24T12:41:46.274Z"
   },
   {
    "duration": 40,
    "start_time": "2022-07-24T12:42:50.150Z"
   },
   {
    "duration": 3,
    "start_time": "2022-07-24T12:42:54.332Z"
   },
   {
    "duration": 16,
    "start_time": "2022-07-24T12:42:56.292Z"
   },
   {
    "duration": 31,
    "start_time": "2022-07-24T12:43:11.877Z"
   },
   {
    "duration": 33,
    "start_time": "2022-07-24T12:45:59.246Z"
   },
   {
    "duration": 32,
    "start_time": "2022-07-24T12:46:07.086Z"
   },
   {
    "duration": 32,
    "start_time": "2022-07-24T12:46:37.438Z"
   },
   {
    "duration": 34,
    "start_time": "2022-07-24T12:46:43.950Z"
   },
   {
    "duration": 45,
    "start_time": "2022-07-24T12:46:46.662Z"
   },
   {
    "duration": 32,
    "start_time": "2022-07-24T12:46:57.029Z"
   },
   {
    "duration": 34,
    "start_time": "2022-07-24T12:48:14.834Z"
   },
   {
    "duration": 32,
    "start_time": "2022-07-24T12:48:20.732Z"
   },
   {
    "duration": 35,
    "start_time": "2022-07-24T12:48:25.303Z"
   },
   {
    "duration": 12,
    "start_time": "2022-07-24T12:48:32.502Z"
   },
   {
    "duration": 4,
    "start_time": "2022-07-24T12:54:42.000Z"
   },
   {
    "duration": 45,
    "start_time": "2022-07-24T12:54:42.006Z"
   },
   {
    "duration": 13,
    "start_time": "2022-07-24T12:54:42.053Z"
   },
   {
    "duration": 14,
    "start_time": "2022-07-24T12:54:42.068Z"
   },
   {
    "duration": 57,
    "start_time": "2022-07-24T12:54:42.084Z"
   },
   {
    "duration": 11,
    "start_time": "2022-07-24T12:54:42.142Z"
   },
   {
    "duration": 24,
    "start_time": "2022-07-24T12:54:42.154Z"
   },
   {
    "duration": 10,
    "start_time": "2022-07-24T12:54:42.180Z"
   },
   {
    "duration": 9,
    "start_time": "2022-07-24T12:54:42.192Z"
   },
   {
    "duration": 6,
    "start_time": "2022-07-24T12:54:42.203Z"
   },
   {
    "duration": 9,
    "start_time": "2022-07-24T12:54:42.210Z"
   },
   {
    "duration": 14,
    "start_time": "2022-07-24T12:54:42.220Z"
   },
   {
    "duration": 7,
    "start_time": "2022-07-24T12:54:42.235Z"
   },
   {
    "duration": 17,
    "start_time": "2022-07-24T12:54:42.244Z"
   },
   {
    "duration": 8,
    "start_time": "2022-07-24T12:54:42.264Z"
   },
   {
    "duration": 9,
    "start_time": "2022-07-24T12:54:42.274Z"
   },
   {
    "duration": 11,
    "start_time": "2022-07-24T12:54:42.285Z"
   },
   {
    "duration": 191,
    "start_time": "2022-07-24T12:54:42.299Z"
   },
   {
    "duration": 122,
    "start_time": "2022-07-24T12:54:42.492Z"
   },
   {
    "duration": 10,
    "start_time": "2022-07-24T12:54:42.616Z"
   },
   {
    "duration": 195,
    "start_time": "2022-07-24T12:54:42.628Z"
   },
   {
    "duration": 196,
    "start_time": "2022-07-24T12:54:42.825Z"
   },
   {
    "duration": 318,
    "start_time": "2022-07-24T12:54:43.022Z"
   },
   {
    "duration": 218,
    "start_time": "2022-07-24T12:54:43.342Z"
   },
   {
    "duration": 319,
    "start_time": "2022-07-24T12:54:43.562Z"
   },
   {
    "duration": 137,
    "start_time": "2022-07-24T12:54:43.883Z"
   },
   {
    "duration": 5,
    "start_time": "2022-07-24T12:54:44.021Z"
   },
   {
    "duration": 128,
    "start_time": "2022-07-24T12:54:44.029Z"
   },
   {
    "duration": 133,
    "start_time": "2022-07-24T12:54:44.159Z"
   },
   {
    "duration": 4,
    "start_time": "2022-07-24T12:54:44.294Z"
   },
   {
    "duration": 236,
    "start_time": "2022-07-24T12:54:44.300Z"
   },
   {
    "duration": 137,
    "start_time": "2022-07-24T12:54:44.537Z"
   },
   {
    "duration": 15,
    "start_time": "2022-07-24T12:54:44.676Z"
   },
   {
    "duration": 34,
    "start_time": "2022-07-24T12:54:44.692Z"
   },
   {
    "duration": 136,
    "start_time": "2022-07-24T12:54:44.728Z"
   },
   {
    "duration": 69,
    "start_time": "2022-07-24T12:57:23.858Z"
   },
   {
    "duration": 5,
    "start_time": "2022-07-24T12:57:27.436Z"
   },
   {
    "duration": 5,
    "start_time": "2022-07-24T12:58:00.629Z"
   },
   {
    "duration": 6,
    "start_time": "2022-07-24T13:04:56.494Z"
   },
   {
    "duration": 4,
    "start_time": "2022-07-24T13:05:42.862Z"
   },
   {
    "duration": 6,
    "start_time": "2022-07-24T13:06:21.640Z"
   },
   {
    "duration": 5,
    "start_time": "2022-07-24T13:06:28.750Z"
   },
   {
    "duration": 14,
    "start_time": "2022-07-24T13:08:34.743Z"
   },
   {
    "duration": 9,
    "start_time": "2022-07-24T13:09:07.408Z"
   },
   {
    "duration": 42,
    "start_time": "2022-07-24T13:09:18.768Z"
   },
   {
    "duration": 13,
    "start_time": "2022-07-24T13:09:23.255Z"
   },
   {
    "duration": 5,
    "start_time": "2022-07-24T13:10:16.440Z"
   },
   {
    "duration": 6,
    "start_time": "2022-07-24T13:10:25.327Z"
   },
   {
    "duration": 5,
    "start_time": "2022-07-24T13:10:53.425Z"
   },
   {
    "duration": 5,
    "start_time": "2022-07-24T13:10:55.832Z"
   },
   {
    "duration": 13,
    "start_time": "2022-07-24T13:11:12.952Z"
   },
   {
    "duration": 12,
    "start_time": "2022-07-24T13:11:38.650Z"
   },
   {
    "duration": 4,
    "start_time": "2022-07-24T13:19:32.051Z"
   },
   {
    "duration": 949,
    "start_time": "2022-07-24T13:24:13.420Z"
   },
   {
    "duration": 85,
    "start_time": "2022-07-24T13:24:14.371Z"
   },
   {
    "duration": 12,
    "start_time": "2022-07-24T13:24:14.457Z"
   },
   {
    "duration": 28,
    "start_time": "2022-07-24T13:24:14.472Z"
   },
   {
    "duration": 91,
    "start_time": "2022-07-24T13:24:14.501Z"
   },
   {
    "duration": 11,
    "start_time": "2022-07-24T13:24:14.593Z"
   },
   {
    "duration": 38,
    "start_time": "2022-07-24T13:24:14.605Z"
   },
   {
    "duration": 18,
    "start_time": "2022-07-24T13:24:14.645Z"
   },
   {
    "duration": 33,
    "start_time": "2022-07-24T13:24:14.665Z"
   },
   {
    "duration": 32,
    "start_time": "2022-07-24T13:24:14.701Z"
   },
   {
    "duration": 32,
    "start_time": "2022-07-24T13:24:14.734Z"
   },
   {
    "duration": 28,
    "start_time": "2022-07-24T13:24:14.768Z"
   },
   {
    "duration": 11,
    "start_time": "2022-07-24T13:24:14.797Z"
   },
   {
    "duration": 21,
    "start_time": "2022-07-24T13:24:14.810Z"
   },
   {
    "duration": 8,
    "start_time": "2022-07-24T13:24:14.832Z"
   },
   {
    "duration": 20,
    "start_time": "2022-07-24T13:24:14.841Z"
   },
   {
    "duration": 17,
    "start_time": "2022-07-24T13:24:14.862Z"
   },
   {
    "duration": 174,
    "start_time": "2022-07-24T13:24:14.880Z"
   },
   {
    "duration": 121,
    "start_time": "2022-07-24T13:24:15.055Z"
   },
   {
    "duration": 25,
    "start_time": "2022-07-24T13:24:15.178Z"
   },
   {
    "duration": 304,
    "start_time": "2022-07-24T13:24:15.205Z"
   },
   {
    "duration": 205,
    "start_time": "2022-07-24T13:24:15.511Z"
   },
   {
    "duration": 332,
    "start_time": "2022-07-24T13:24:15.718Z"
   },
   {
    "duration": 268,
    "start_time": "2022-07-24T13:24:16.051Z"
   },
   {
    "duration": 361,
    "start_time": "2022-07-24T13:24:16.320Z"
   },
   {
    "duration": 148,
    "start_time": "2022-07-24T13:24:16.682Z"
   },
   {
    "duration": 4,
    "start_time": "2022-07-24T13:24:16.832Z"
   },
   {
    "duration": 136,
    "start_time": "2022-07-24T13:24:16.839Z"
   },
   {
    "duration": 147,
    "start_time": "2022-07-24T13:24:16.977Z"
   },
   {
    "duration": 5,
    "start_time": "2022-07-24T13:24:17.126Z"
   },
   {
    "duration": 254,
    "start_time": "2022-07-24T13:24:17.133Z"
   },
   {
    "duration": 137,
    "start_time": "2022-07-24T13:24:17.389Z"
   },
   {
    "duration": 9,
    "start_time": "2022-07-24T13:24:17.527Z"
   },
   {
    "duration": 25,
    "start_time": "2022-07-24T13:24:17.537Z"
   },
   {
    "duration": 4,
    "start_time": "2022-07-24T13:24:17.564Z"
   },
   {
    "duration": 6,
    "start_time": "2022-07-24T13:24:17.569Z"
   },
   {
    "duration": 6,
    "start_time": "2022-07-24T13:25:01.297Z"
   },
   {
    "duration": 93,
    "start_time": "2022-07-24T13:31:22.812Z"
   },
   {
    "duration": 11,
    "start_time": "2022-07-24T13:31:39.477Z"
   },
   {
    "duration": 9,
    "start_time": "2022-07-24T13:32:28.004Z"
   },
   {
    "duration": 9,
    "start_time": "2022-07-24T13:33:20.127Z"
   },
   {
    "duration": 9,
    "start_time": "2022-07-24T13:33:21.789Z"
   },
   {
    "duration": 10,
    "start_time": "2022-07-24T13:33:24.045Z"
   },
   {
    "duration": 13,
    "start_time": "2022-07-24T13:33:25.293Z"
   },
   {
    "duration": 9,
    "start_time": "2022-07-24T13:33:30.637Z"
   },
   {
    "duration": 8,
    "start_time": "2022-07-24T13:33:32.405Z"
   },
   {
    "duration": 9,
    "start_time": "2022-07-24T13:33:37.637Z"
   },
   {
    "duration": 5,
    "start_time": "2022-07-24T13:34:03.782Z"
   },
   {
    "duration": 5,
    "start_time": "2022-07-24T13:35:26.566Z"
   },
   {
    "duration": 16,
    "start_time": "2022-07-24T13:35:39.695Z"
   },
   {
    "duration": 12,
    "start_time": "2022-07-24T13:37:20.352Z"
   },
   {
    "duration": 5,
    "start_time": "2022-07-24T13:38:21.832Z"
   },
   {
    "duration": 7,
    "start_time": "2022-07-24T13:38:46.600Z"
   },
   {
    "duration": 18,
    "start_time": "2022-07-24T13:38:48.280Z"
   },
   {
    "duration": 18,
    "start_time": "2022-07-24T13:41:02.769Z"
   },
   {
    "duration": 3,
    "start_time": "2022-07-24T13:41:10.195Z"
   },
   {
    "duration": 36,
    "start_time": "2022-07-24T13:41:10.200Z"
   },
   {
    "duration": 12,
    "start_time": "2022-07-24T13:41:10.237Z"
   },
   {
    "duration": 14,
    "start_time": "2022-07-24T13:41:10.251Z"
   },
   {
    "duration": 61,
    "start_time": "2022-07-24T13:41:10.267Z"
   },
   {
    "duration": 10,
    "start_time": "2022-07-24T13:41:10.329Z"
   },
   {
    "duration": 15,
    "start_time": "2022-07-24T13:41:10.340Z"
   },
   {
    "duration": 9,
    "start_time": "2022-07-24T13:41:10.356Z"
   },
   {
    "duration": 11,
    "start_time": "2022-07-24T13:41:10.367Z"
   },
   {
    "duration": 11,
    "start_time": "2022-07-24T13:41:10.381Z"
   },
   {
    "duration": 14,
    "start_time": "2022-07-24T13:41:10.393Z"
   },
   {
    "duration": 14,
    "start_time": "2022-07-24T13:41:10.408Z"
   },
   {
    "duration": 12,
    "start_time": "2022-07-24T13:41:10.424Z"
   },
   {
    "duration": 11,
    "start_time": "2022-07-24T13:41:10.437Z"
   },
   {
    "duration": 10,
    "start_time": "2022-07-24T13:41:10.461Z"
   },
   {
    "duration": 10,
    "start_time": "2022-07-24T13:41:10.472Z"
   },
   {
    "duration": 8,
    "start_time": "2022-07-24T13:41:10.484Z"
   },
   {
    "duration": 182,
    "start_time": "2022-07-24T13:41:10.494Z"
   },
   {
    "duration": 145,
    "start_time": "2022-07-24T13:41:10.678Z"
   },
   {
    "duration": 8,
    "start_time": "2022-07-24T13:41:10.825Z"
   },
   {
    "duration": 291,
    "start_time": "2022-07-24T13:41:10.835Z"
   },
   {
    "duration": 215,
    "start_time": "2022-07-24T13:41:11.127Z"
   },
   {
    "duration": 325,
    "start_time": "2022-07-24T13:41:11.344Z"
   },
   {
    "duration": 222,
    "start_time": "2022-07-24T13:41:11.670Z"
   },
   {
    "duration": 296,
    "start_time": "2022-07-24T13:41:11.893Z"
   },
   {
    "duration": 134,
    "start_time": "2022-07-24T13:41:12.190Z"
   },
   {
    "duration": 4,
    "start_time": "2022-07-24T13:41:12.326Z"
   },
   {
    "duration": 139,
    "start_time": "2022-07-24T13:41:12.333Z"
   },
   {
    "duration": 140,
    "start_time": "2022-07-24T13:41:12.474Z"
   },
   {
    "duration": 4,
    "start_time": "2022-07-24T13:41:12.616Z"
   },
   {
    "duration": 233,
    "start_time": "2022-07-24T13:41:12.621Z"
   },
   {
    "duration": 142,
    "start_time": "2022-07-24T13:41:12.861Z"
   },
   {
    "duration": 9,
    "start_time": "2022-07-24T13:41:13.004Z"
   },
   {
    "duration": 21,
    "start_time": "2022-07-24T13:41:13.014Z"
   },
   {
    "duration": 7,
    "start_time": "2022-07-24T13:41:13.037Z"
   },
   {
    "duration": 10,
    "start_time": "2022-07-24T13:41:13.046Z"
   },
   {
    "duration": 16,
    "start_time": "2022-07-24T13:41:13.061Z"
   },
   {
    "duration": 11,
    "start_time": "2022-07-24T13:45:56.492Z"
   },
   {
    "duration": 11,
    "start_time": "2022-07-24T13:46:15.146Z"
   },
   {
    "duration": 12,
    "start_time": "2022-07-24T13:47:09.936Z"
   },
   {
    "duration": 9,
    "start_time": "2022-07-24T13:47:11.134Z"
   },
   {
    "duration": 10,
    "start_time": "2022-07-24T13:48:19.780Z"
   },
   {
    "duration": 5,
    "start_time": "2022-07-24T13:49:42.270Z"
   },
   {
    "duration": 10,
    "start_time": "2022-07-24T13:50:03.101Z"
   },
   {
    "duration": 64,
    "start_time": "2022-07-24T14:06:36.722Z"
   },
   {
    "duration": 6,
    "start_time": "2022-07-24T14:06:44.848Z"
   },
   {
    "duration": 5,
    "start_time": "2022-07-24T14:06:46.918Z"
   },
   {
    "duration": 855,
    "start_time": "2022-07-24T14:06:53.319Z"
   },
   {
    "duration": 11,
    "start_time": "2022-07-24T14:07:22.376Z"
   },
   {
    "duration": 137,
    "start_time": "2022-07-24T14:08:40.767Z"
   },
   {
    "duration": 4,
    "start_time": "2022-07-24T14:11:08.476Z"
   },
   {
    "duration": 38,
    "start_time": "2022-07-24T14:11:08.482Z"
   },
   {
    "duration": 12,
    "start_time": "2022-07-24T14:11:08.522Z"
   },
   {
    "duration": 17,
    "start_time": "2022-07-24T14:11:08.537Z"
   },
   {
    "duration": 60,
    "start_time": "2022-07-24T14:11:08.556Z"
   },
   {
    "duration": 10,
    "start_time": "2022-07-24T14:11:08.619Z"
   },
   {
    "duration": 18,
    "start_time": "2022-07-24T14:11:08.631Z"
   },
   {
    "duration": 10,
    "start_time": "2022-07-24T14:11:08.651Z"
   },
   {
    "duration": 7,
    "start_time": "2022-07-24T14:11:08.662Z"
   },
   {
    "duration": 5,
    "start_time": "2022-07-24T14:11:08.672Z"
   },
   {
    "duration": 11,
    "start_time": "2022-07-24T14:11:08.679Z"
   },
   {
    "duration": 17,
    "start_time": "2022-07-24T14:11:08.692Z"
   },
   {
    "duration": 19,
    "start_time": "2022-07-24T14:11:08.710Z"
   },
   {
    "duration": 20,
    "start_time": "2022-07-24T14:11:08.731Z"
   },
   {
    "duration": 9,
    "start_time": "2022-07-24T14:11:08.761Z"
   },
   {
    "duration": 13,
    "start_time": "2022-07-24T14:11:08.772Z"
   },
   {
    "duration": 8,
    "start_time": "2022-07-24T14:11:08.787Z"
   },
   {
    "duration": 196,
    "start_time": "2022-07-24T14:11:08.796Z"
   },
   {
    "duration": 124,
    "start_time": "2022-07-24T14:11:08.994Z"
   },
   {
    "duration": 10,
    "start_time": "2022-07-24T14:11:09.120Z"
   },
   {
    "duration": 230,
    "start_time": "2022-07-24T14:11:09.132Z"
   },
   {
    "duration": 217,
    "start_time": "2022-07-24T14:11:09.364Z"
   },
   {
    "duration": 395,
    "start_time": "2022-07-24T14:11:09.583Z"
   },
   {
    "duration": 222,
    "start_time": "2022-07-24T14:11:09.979Z"
   },
   {
    "duration": 318,
    "start_time": "2022-07-24T14:11:10.204Z"
   },
   {
    "duration": 136,
    "start_time": "2022-07-24T14:11:10.524Z"
   },
   {
    "duration": 4,
    "start_time": "2022-07-24T14:11:10.662Z"
   },
   {
    "duration": 142,
    "start_time": "2022-07-24T14:11:10.669Z"
   },
   {
    "duration": 147,
    "start_time": "2022-07-24T14:11:10.813Z"
   },
   {
    "duration": 5,
    "start_time": "2022-07-24T14:11:10.963Z"
   },
   {
    "duration": 235,
    "start_time": "2022-07-24T14:11:10.970Z"
   },
   {
    "duration": 138,
    "start_time": "2022-07-24T14:11:11.207Z"
   },
   {
    "duration": 19,
    "start_time": "2022-07-24T14:11:11.347Z"
   },
   {
    "duration": 14,
    "start_time": "2022-07-24T14:11:11.368Z"
   },
   {
    "duration": 7,
    "start_time": "2022-07-24T14:11:11.384Z"
   },
   {
    "duration": 8,
    "start_time": "2022-07-24T14:11:11.392Z"
   },
   {
    "duration": 9,
    "start_time": "2022-07-24T14:11:11.402Z"
   },
   {
    "duration": 151,
    "start_time": "2022-07-24T14:11:11.413Z"
   },
   {
    "duration": 165,
    "start_time": "2022-07-24T14:11:11.566Z"
   },
   {
    "duration": 9,
    "start_time": "2022-07-24T14:11:11.733Z"
   },
   {
    "duration": 11,
    "start_time": "2022-07-24T14:12:31.665Z"
   },
   {
    "duration": 12,
    "start_time": "2022-07-24T14:15:05.674Z"
   },
   {
    "duration": 1002,
    "start_time": "2022-07-25T09:07:40.557Z"
   },
   {
    "duration": 119,
    "start_time": "2022-07-25T09:07:41.561Z"
   },
   {
    "duration": 11,
    "start_time": "2022-07-25T09:07:41.682Z"
   },
   {
    "duration": 14,
    "start_time": "2022-07-25T09:07:41.695Z"
   },
   {
    "duration": 160,
    "start_time": "2022-07-25T09:07:41.710Z"
   },
   {
    "duration": 11,
    "start_time": "2022-07-25T09:07:41.871Z"
   },
   {
    "duration": 15,
    "start_time": "2022-07-25T09:07:41.883Z"
   },
   {
    "duration": 8,
    "start_time": "2022-07-25T09:07:41.900Z"
   },
   {
    "duration": 8,
    "start_time": "2022-07-25T09:07:41.910Z"
   },
   {
    "duration": 4,
    "start_time": "2022-07-25T09:07:41.920Z"
   },
   {
    "duration": 7,
    "start_time": "2022-07-25T09:07:41.926Z"
   },
   {
    "duration": 26,
    "start_time": "2022-07-25T09:07:41.934Z"
   },
   {
    "duration": 11,
    "start_time": "2022-07-25T09:07:41.961Z"
   },
   {
    "duration": 14,
    "start_time": "2022-07-25T09:07:41.974Z"
   },
   {
    "duration": 9,
    "start_time": "2022-07-25T09:07:41.989Z"
   },
   {
    "duration": 10,
    "start_time": "2022-07-25T09:07:41.999Z"
   },
   {
    "duration": 5,
    "start_time": "2022-07-25T09:07:42.011Z"
   },
   {
    "duration": 178,
    "start_time": "2022-07-25T09:07:42.018Z"
   },
   {
    "duration": 123,
    "start_time": "2022-07-25T09:07:42.198Z"
   },
   {
    "duration": 8,
    "start_time": "2022-07-25T09:07:42.322Z"
   },
   {
    "duration": 286,
    "start_time": "2022-07-25T09:07:42.332Z"
   },
   {
    "duration": 205,
    "start_time": "2022-07-25T09:07:42.619Z"
   },
   {
    "duration": 318,
    "start_time": "2022-07-25T09:07:42.826Z"
   },
   {
    "duration": 204,
    "start_time": "2022-07-25T09:07:43.151Z"
   },
   {
    "duration": 312,
    "start_time": "2022-07-25T09:07:43.357Z"
   },
   {
    "duration": 129,
    "start_time": "2022-07-25T09:07:43.670Z"
   },
   {
    "duration": 4,
    "start_time": "2022-07-25T09:07:43.801Z"
   },
   {
    "duration": 130,
    "start_time": "2022-07-25T09:07:43.807Z"
   },
   {
    "duration": 130,
    "start_time": "2022-07-25T09:07:43.938Z"
   },
   {
    "duration": 4,
    "start_time": "2022-07-25T09:07:44.069Z"
   },
   {
    "duration": 227,
    "start_time": "2022-07-25T09:07:44.074Z"
   },
   {
    "duration": 163,
    "start_time": "2022-07-25T09:07:44.303Z"
   },
   {
    "duration": 8,
    "start_time": "2022-07-25T09:07:44.468Z"
   },
   {
    "duration": 13,
    "start_time": "2022-07-25T09:07:44.478Z"
   },
   {
    "duration": 7,
    "start_time": "2022-07-25T09:07:44.492Z"
   },
   {
    "duration": 7,
    "start_time": "2022-07-25T09:07:44.500Z"
   },
   {
    "duration": 11,
    "start_time": "2022-07-25T09:07:44.508Z"
   },
   {
    "duration": 165,
    "start_time": "2022-07-25T09:07:44.521Z"
   },
   {
    "duration": 131,
    "start_time": "2022-07-25T09:07:44.687Z"
   },
   {
    "duration": 8,
    "start_time": "2022-07-25T09:07:44.820Z"
   },
   {
    "duration": 26,
    "start_time": "2022-07-25T09:07:44.830Z"
   },
   {
    "duration": 30,
    "start_time": "2022-07-25T09:09:21.073Z"
   },
   {
    "duration": 1029,
    "start_time": "2022-07-25T09:09:28.671Z"
   },
   {
    "duration": 85,
    "start_time": "2022-07-25T09:09:29.702Z"
   },
   {
    "duration": 14,
    "start_time": "2022-07-25T09:09:29.788Z"
   },
   {
    "duration": 14,
    "start_time": "2022-07-25T09:09:29.803Z"
   },
   {
    "duration": 55,
    "start_time": "2022-07-25T09:09:29.818Z"
   },
   {
    "duration": 11,
    "start_time": "2022-07-25T09:09:29.874Z"
   },
   {
    "duration": 16,
    "start_time": "2022-07-25T09:09:29.886Z"
   },
   {
    "duration": 11,
    "start_time": "2022-07-25T09:09:29.904Z"
   },
   {
    "duration": 9,
    "start_time": "2022-07-25T09:09:29.916Z"
   },
   {
    "duration": 8,
    "start_time": "2022-07-25T09:09:29.927Z"
   },
   {
    "duration": 5,
    "start_time": "2022-07-25T09:09:29.953Z"
   },
   {
    "duration": 13,
    "start_time": "2022-07-25T09:09:29.959Z"
   },
   {
    "duration": 9,
    "start_time": "2022-07-25T09:09:29.973Z"
   },
   {
    "duration": 13,
    "start_time": "2022-07-25T09:09:29.984Z"
   },
   {
    "duration": 12,
    "start_time": "2022-07-25T09:09:29.999Z"
   },
   {
    "duration": 47,
    "start_time": "2022-07-25T09:09:30.013Z"
   },
   {
    "duration": 7,
    "start_time": "2022-07-25T09:09:30.063Z"
   },
   {
    "duration": 189,
    "start_time": "2022-07-25T09:09:30.072Z"
   },
   {
    "duration": 138,
    "start_time": "2022-07-25T09:09:30.263Z"
   },
   {
    "duration": 10,
    "start_time": "2022-07-25T09:09:30.403Z"
   },
   {
    "duration": 321,
    "start_time": "2022-07-25T09:09:30.415Z"
   },
   {
    "duration": 226,
    "start_time": "2022-07-25T09:09:30.738Z"
   },
   {
    "duration": 320,
    "start_time": "2022-07-25T09:09:30.966Z"
   },
   {
    "duration": 378,
    "start_time": "2022-07-25T09:09:31.287Z"
   },
   {
    "duration": 522,
    "start_time": "2022-07-25T09:09:31.666Z"
   },
   {
    "duration": 362,
    "start_time": "2022-07-25T09:09:32.190Z"
   },
   {
    "duration": 6,
    "start_time": "2022-07-25T09:09:32.554Z"
   },
   {
    "duration": 394,
    "start_time": "2022-07-25T09:09:32.564Z"
   },
   {
    "duration": 233,
    "start_time": "2022-07-25T09:09:32.959Z"
   },
   {
    "duration": 4,
    "start_time": "2022-07-25T09:09:33.194Z"
   },
   {
    "duration": 311,
    "start_time": "2022-07-25T09:09:33.199Z"
   },
   {
    "duration": 128,
    "start_time": "2022-07-25T09:09:33.511Z"
   },
   {
    "duration": 13,
    "start_time": "2022-07-25T09:09:33.640Z"
   },
   {
    "duration": 11,
    "start_time": "2022-07-25T09:09:33.655Z"
   },
   {
    "duration": 8,
    "start_time": "2022-07-25T09:09:33.667Z"
   },
   {
    "duration": 9,
    "start_time": "2022-07-25T09:09:33.676Z"
   },
   {
    "duration": 11,
    "start_time": "2022-07-25T09:09:33.687Z"
   },
   {
    "duration": 145,
    "start_time": "2022-07-25T09:09:33.699Z"
   },
   {
    "duration": 140,
    "start_time": "2022-07-25T09:09:33.845Z"
   },
   {
    "duration": 9,
    "start_time": "2022-07-25T09:09:33.987Z"
   },
   {
    "duration": 14,
    "start_time": "2022-07-25T09:09:33.997Z"
   },
   {
    "duration": 30,
    "start_time": "2022-07-25T09:09:41.411Z"
   },
   {
    "duration": 1295,
    "start_time": "2022-07-26T12:14:17.405Z"
   },
   {
    "duration": 157,
    "start_time": "2022-07-26T12:14:18.703Z"
   },
   {
    "duration": 14,
    "start_time": "2022-07-26T12:14:18.862Z"
   },
   {
    "duration": 12,
    "start_time": "2022-07-26T12:14:18.878Z"
   },
   {
    "duration": 150,
    "start_time": "2022-07-26T12:14:18.892Z"
   },
   {
    "duration": 11,
    "start_time": "2022-07-26T12:14:19.044Z"
   },
   {
    "duration": 13,
    "start_time": "2022-07-26T12:14:19.057Z"
   },
   {
    "duration": 17,
    "start_time": "2022-07-26T12:14:19.072Z"
   },
   {
    "duration": 10,
    "start_time": "2022-07-26T12:14:19.091Z"
   },
   {
    "duration": 13,
    "start_time": "2022-07-26T12:14:19.104Z"
   },
   {
    "duration": 9,
    "start_time": "2022-07-26T12:14:19.124Z"
   },
   {
    "duration": 26,
    "start_time": "2022-07-26T12:14:19.135Z"
   },
   {
    "duration": 12,
    "start_time": "2022-07-26T12:14:19.163Z"
   },
   {
    "duration": 13,
    "start_time": "2022-07-26T12:14:19.177Z"
   },
   {
    "duration": 9,
    "start_time": "2022-07-26T12:14:19.192Z"
   },
   {
    "duration": 25,
    "start_time": "2022-07-26T12:14:19.202Z"
   },
   {
    "duration": 20,
    "start_time": "2022-07-26T12:14:19.228Z"
   },
   {
    "duration": 161,
    "start_time": "2022-07-26T12:14:19.250Z"
   },
   {
    "duration": 147,
    "start_time": "2022-07-26T12:14:19.412Z"
   },
   {
    "duration": 12,
    "start_time": "2022-07-26T12:14:19.564Z"
   },
   {
    "duration": 310,
    "start_time": "2022-07-26T12:14:19.578Z"
   },
   {
    "duration": 227,
    "start_time": "2022-07-26T12:14:19.890Z"
   },
   {
    "duration": 366,
    "start_time": "2022-07-26T12:14:20.118Z"
   },
   {
    "duration": 249,
    "start_time": "2022-07-26T12:14:20.486Z"
   },
   {
    "duration": 325,
    "start_time": "2022-07-26T12:14:20.739Z"
   },
   {
    "duration": 132,
    "start_time": "2022-07-26T12:14:21.066Z"
   },
   {
    "duration": 4,
    "start_time": "2022-07-26T12:14:21.200Z"
   },
   {
    "duration": 140,
    "start_time": "2022-07-26T12:14:21.207Z"
   },
   {
    "duration": 135,
    "start_time": "2022-07-26T12:14:21.349Z"
   },
   {
    "duration": 5,
    "start_time": "2022-07-26T12:14:21.486Z"
   },
   {
    "duration": 250,
    "start_time": "2022-07-26T12:14:21.493Z"
   },
   {
    "duration": 104,
    "start_time": "2022-07-26T12:14:21.745Z"
   },
   {
    "duration": 0,
    "start_time": "2022-07-26T12:14:21.851Z"
   },
   {
    "duration": 0,
    "start_time": "2022-07-26T12:14:21.852Z"
   },
   {
    "duration": 3,
    "start_time": "2022-07-26T12:14:26.870Z"
   },
   {
    "duration": 3,
    "start_time": "2022-07-26T12:14:44.706Z"
   },
   {
    "duration": 4,
    "start_time": "2022-07-26T12:14:56.891Z"
   },
   {
    "duration": 4,
    "start_time": "2022-07-26T12:15:43.692Z"
   },
   {
    "duration": 3,
    "start_time": "2022-07-26T12:15:58.283Z"
   },
   {
    "duration": 9,
    "start_time": "2022-07-26T12:16:24.876Z"
   },
   {
    "duration": 3,
    "start_time": "2022-07-26T12:16:42.012Z"
   },
   {
    "duration": 54,
    "start_time": "2022-07-26T12:16:42.017Z"
   },
   {
    "duration": 12,
    "start_time": "2022-07-26T12:16:42.073Z"
   },
   {
    "duration": 19,
    "start_time": "2022-07-26T12:16:42.086Z"
   },
   {
    "duration": 65,
    "start_time": "2022-07-26T12:16:42.108Z"
   },
   {
    "duration": 10,
    "start_time": "2022-07-26T12:16:42.175Z"
   },
   {
    "duration": 16,
    "start_time": "2022-07-26T12:16:42.186Z"
   },
   {
    "duration": 15,
    "start_time": "2022-07-26T12:16:42.203Z"
   },
   {
    "duration": 24,
    "start_time": "2022-07-26T12:16:42.220Z"
   },
   {
    "duration": 11,
    "start_time": "2022-07-26T12:16:42.245Z"
   },
   {
    "duration": 7,
    "start_time": "2022-07-26T12:16:42.258Z"
   },
   {
    "duration": 12,
    "start_time": "2022-07-26T12:16:42.266Z"
   },
   {
    "duration": 15,
    "start_time": "2022-07-26T12:16:42.280Z"
   },
   {
    "duration": 13,
    "start_time": "2022-07-26T12:16:42.298Z"
   },
   {
    "duration": 18,
    "start_time": "2022-07-26T12:16:42.313Z"
   },
   {
    "duration": 22,
    "start_time": "2022-07-26T12:16:42.335Z"
   },
   {
    "duration": 6,
    "start_time": "2022-07-26T12:16:42.359Z"
   },
   {
    "duration": 291,
    "start_time": "2022-07-26T12:16:42.367Z"
   },
   {
    "duration": 289,
    "start_time": "2022-07-26T12:16:42.660Z"
   },
   {
    "duration": 10,
    "start_time": "2022-07-26T12:16:42.950Z"
   },
   {
    "duration": 234,
    "start_time": "2022-07-26T12:16:42.962Z"
   },
   {
    "duration": 212,
    "start_time": "2022-07-26T12:16:43.197Z"
   },
   {
    "duration": 338,
    "start_time": "2022-07-26T12:16:43.411Z"
   },
   {
    "duration": 230,
    "start_time": "2022-07-26T12:16:43.751Z"
   },
   {
    "duration": 375,
    "start_time": "2022-07-26T12:16:43.983Z"
   },
   {
    "duration": 155,
    "start_time": "2022-07-26T12:16:44.360Z"
   },
   {
    "duration": 18,
    "start_time": "2022-07-26T12:16:44.517Z"
   },
   {
    "duration": 198,
    "start_time": "2022-07-26T12:16:44.537Z"
   },
   {
    "duration": 172,
    "start_time": "2022-07-26T12:16:44.745Z"
   },
   {
    "duration": 6,
    "start_time": "2022-07-26T12:16:44.923Z"
   },
   {
    "duration": 264,
    "start_time": "2022-07-26T12:16:44.948Z"
   },
   {
    "duration": 30,
    "start_time": "2022-07-26T12:16:45.215Z"
   },
   {
    "duration": 0,
    "start_time": "2022-07-26T12:16:45.247Z"
   },
   {
    "duration": 0,
    "start_time": "2022-07-26T12:16:45.248Z"
   },
   {
    "duration": 3,
    "start_time": "2022-07-26T12:17:02.552Z"
   },
   {
    "duration": 43,
    "start_time": "2022-07-26T12:17:02.556Z"
   },
   {
    "duration": 12,
    "start_time": "2022-07-26T12:17:02.600Z"
   },
   {
    "duration": 45,
    "start_time": "2022-07-26T12:17:02.614Z"
   },
   {
    "duration": 97,
    "start_time": "2022-07-26T12:17:02.661Z"
   },
   {
    "duration": 12,
    "start_time": "2022-07-26T12:17:02.759Z"
   },
   {
    "duration": 16,
    "start_time": "2022-07-26T12:17:02.772Z"
   },
   {
    "duration": 14,
    "start_time": "2022-07-26T12:17:02.790Z"
   },
   {
    "duration": 19,
    "start_time": "2022-07-26T12:17:02.806Z"
   },
   {
    "duration": 46,
    "start_time": "2022-07-26T12:17:02.827Z"
   },
   {
    "duration": 11,
    "start_time": "2022-07-26T12:17:02.875Z"
   },
   {
    "duration": 22,
    "start_time": "2022-07-26T12:17:02.888Z"
   },
   {
    "duration": 9,
    "start_time": "2022-07-26T12:17:02.913Z"
   },
   {
    "duration": 23,
    "start_time": "2022-07-26T12:17:02.923Z"
   },
   {
    "duration": 10,
    "start_time": "2022-07-26T12:17:02.948Z"
   },
   {
    "duration": 11,
    "start_time": "2022-07-26T12:17:02.960Z"
   },
   {
    "duration": 9,
    "start_time": "2022-07-26T12:17:02.973Z"
   },
   {
    "duration": 180,
    "start_time": "2022-07-26T12:17:02.983Z"
   },
   {
    "duration": 133,
    "start_time": "2022-07-26T12:17:03.164Z"
   },
   {
    "duration": 9,
    "start_time": "2022-07-26T12:17:03.299Z"
   },
   {
    "duration": 243,
    "start_time": "2022-07-26T12:17:03.310Z"
   },
   {
    "duration": 213,
    "start_time": "2022-07-26T12:17:03.554Z"
   },
   {
    "duration": 379,
    "start_time": "2022-07-26T12:17:03.769Z"
   },
   {
    "duration": 228,
    "start_time": "2022-07-26T12:17:04.150Z"
   },
   {
    "duration": 326,
    "start_time": "2022-07-26T12:17:04.380Z"
   },
   {
    "duration": 141,
    "start_time": "2022-07-26T12:17:04.707Z"
   },
   {
    "duration": 4,
    "start_time": "2022-07-26T12:17:04.850Z"
   },
   {
    "duration": 136,
    "start_time": "2022-07-26T12:17:04.856Z"
   },
   {
    "duration": 151,
    "start_time": "2022-07-26T12:17:04.993Z"
   },
   {
    "duration": 5,
    "start_time": "2022-07-26T12:17:05.146Z"
   },
   {
    "duration": 246,
    "start_time": "2022-07-26T12:17:05.153Z"
   },
   {
    "duration": 150,
    "start_time": "2022-07-26T12:17:05.401Z"
   },
   {
    "duration": 7,
    "start_time": "2022-07-26T12:17:05.553Z"
   },
   {
    "duration": 3,
    "start_time": "2022-07-26T12:22:32.244Z"
   },
   {
    "duration": 49,
    "start_time": "2022-07-26T12:22:32.248Z"
   },
   {
    "duration": 15,
    "start_time": "2022-07-26T12:22:32.299Z"
   },
   {
    "duration": 44,
    "start_time": "2022-07-26T12:22:32.317Z"
   },
   {
    "duration": 82,
    "start_time": "2022-07-26T12:22:32.363Z"
   },
   {
    "duration": 11,
    "start_time": "2022-07-26T12:22:32.446Z"
   },
   {
    "duration": 15,
    "start_time": "2022-07-26T12:22:32.459Z"
   },
   {
    "duration": 27,
    "start_time": "2022-07-26T12:22:32.477Z"
   },
   {
    "duration": 28,
    "start_time": "2022-07-26T12:22:32.507Z"
   },
   {
    "duration": 11,
    "start_time": "2022-07-26T12:22:32.536Z"
   },
   {
    "duration": 11,
    "start_time": "2022-07-26T12:22:32.549Z"
   },
   {
    "duration": 22,
    "start_time": "2022-07-26T12:22:32.561Z"
   },
   {
    "duration": 34,
    "start_time": "2022-07-26T12:22:32.585Z"
   },
   {
    "duration": 31,
    "start_time": "2022-07-26T12:22:32.622Z"
   },
   {
    "duration": 16,
    "start_time": "2022-07-26T12:22:32.654Z"
   },
   {
    "duration": 21,
    "start_time": "2022-07-26T12:22:32.672Z"
   },
   {
    "duration": 10,
    "start_time": "2022-07-26T12:22:32.694Z"
   },
   {
    "duration": 173,
    "start_time": "2022-07-26T12:22:32.705Z"
   },
   {
    "duration": 130,
    "start_time": "2022-07-26T12:22:32.880Z"
   },
   {
    "duration": 28,
    "start_time": "2022-07-26T12:22:33.012Z"
   },
   {
    "duration": 217,
    "start_time": "2022-07-26T12:22:33.042Z"
   },
   {
    "duration": 215,
    "start_time": "2022-07-26T12:22:33.260Z"
   },
   {
    "duration": 308,
    "start_time": "2022-07-26T12:22:33.477Z"
   },
   {
    "duration": 224,
    "start_time": "2022-07-26T12:22:33.789Z"
   },
   {
    "duration": 425,
    "start_time": "2022-07-26T12:22:34.016Z"
   },
   {
    "duration": 148,
    "start_time": "2022-07-26T12:22:34.443Z"
   },
   {
    "duration": 5,
    "start_time": "2022-07-26T12:22:34.594Z"
   },
   {
    "duration": 149,
    "start_time": "2022-07-26T12:22:34.601Z"
   },
   {
    "duration": 141,
    "start_time": "2022-07-26T12:22:34.753Z"
   },
   {
    "duration": 5,
    "start_time": "2022-07-26T12:22:34.895Z"
   },
   {
    "duration": 245,
    "start_time": "2022-07-26T12:22:34.901Z"
   },
   {
    "duration": 145,
    "start_time": "2022-07-26T12:22:35.148Z"
   },
   {
    "duration": 7,
    "start_time": "2022-07-26T12:22:35.295Z"
   },
   {
    "duration": 29,
    "start_time": "2022-07-26T12:22:35.304Z"
   },
   {
    "duration": 18,
    "start_time": "2022-07-26T12:22:35.340Z"
   },
   {
    "duration": 8,
    "start_time": "2022-07-26T12:22:35.360Z"
   },
   {
    "duration": 17,
    "start_time": "2022-07-26T12:22:35.370Z"
   },
   {
    "duration": 155,
    "start_time": "2022-07-26T12:22:35.389Z"
   },
   {
    "duration": 162,
    "start_time": "2022-07-26T12:22:35.547Z"
   },
   {
    "duration": 25,
    "start_time": "2022-07-26T12:22:35.711Z"
   },
   {
    "duration": 14,
    "start_time": "2022-07-26T12:22:35.739Z"
   },
   {
    "duration": 1043,
    "start_time": "2022-07-26T12:25:35.765Z"
   },
   {
    "duration": 106,
    "start_time": "2022-07-26T12:25:36.810Z"
   },
   {
    "duration": 20,
    "start_time": "2022-07-26T12:25:36.918Z"
   },
   {
    "duration": 13,
    "start_time": "2022-07-26T12:25:36.941Z"
   },
   {
    "duration": 57,
    "start_time": "2022-07-26T12:25:36.956Z"
   },
   {
    "duration": 12,
    "start_time": "2022-07-26T12:25:37.015Z"
   },
   {
    "duration": 23,
    "start_time": "2022-07-26T12:25:37.031Z"
   },
   {
    "duration": 11,
    "start_time": "2022-07-26T12:25:37.056Z"
   },
   {
    "duration": 10,
    "start_time": "2022-07-26T12:25:37.069Z"
   },
   {
    "duration": 6,
    "start_time": "2022-07-26T12:25:37.081Z"
   },
   {
    "duration": 6,
    "start_time": "2022-07-26T12:25:37.089Z"
   },
   {
    "duration": 18,
    "start_time": "2022-07-26T12:25:37.096Z"
   },
   {
    "duration": 11,
    "start_time": "2022-07-26T12:25:37.130Z"
   },
   {
    "duration": 13,
    "start_time": "2022-07-26T12:25:37.143Z"
   },
   {
    "duration": 9,
    "start_time": "2022-07-26T12:25:37.158Z"
   },
   {
    "duration": 11,
    "start_time": "2022-07-26T12:25:37.169Z"
   },
   {
    "duration": 5,
    "start_time": "2022-07-26T12:25:37.182Z"
   },
   {
    "duration": 261,
    "start_time": "2022-07-26T12:25:37.189Z"
   },
   {
    "duration": 180,
    "start_time": "2022-07-26T12:25:37.454Z"
   },
   {
    "duration": 20,
    "start_time": "2022-07-26T12:25:37.641Z"
   },
   {
    "duration": 376,
    "start_time": "2022-07-26T12:25:37.663Z"
   },
   {
    "duration": 241,
    "start_time": "2022-07-26T12:25:38.040Z"
   },
   {
    "duration": 405,
    "start_time": "2022-07-26T12:25:38.284Z"
   },
   {
    "duration": 255,
    "start_time": "2022-07-26T12:25:38.691Z"
   },
   {
    "duration": 342,
    "start_time": "2022-07-26T12:25:38.948Z"
   },
   {
    "duration": 139,
    "start_time": "2022-07-26T12:25:39.292Z"
   },
   {
    "duration": 6,
    "start_time": "2022-07-26T12:25:39.433Z"
   },
   {
    "duration": 125,
    "start_time": "2022-07-26T12:25:39.444Z"
   },
   {
    "duration": 142,
    "start_time": "2022-07-26T12:25:39.571Z"
   },
   {
    "duration": 24,
    "start_time": "2022-07-26T12:25:39.715Z"
   },
   {
    "duration": 238,
    "start_time": "2022-07-26T12:25:39.742Z"
   },
   {
    "duration": 145,
    "start_time": "2022-07-26T12:25:39.982Z"
   },
   {
    "duration": 12,
    "start_time": "2022-07-26T12:25:40.129Z"
   },
   {
    "duration": 18,
    "start_time": "2022-07-26T12:25:40.143Z"
   },
   {
    "duration": 11,
    "start_time": "2022-07-26T12:25:40.162Z"
   },
   {
    "duration": 7,
    "start_time": "2022-07-26T12:25:40.175Z"
   },
   {
    "duration": 13,
    "start_time": "2022-07-26T12:25:40.183Z"
   },
   {
    "duration": 150,
    "start_time": "2022-07-26T12:25:40.198Z"
   },
   {
    "duration": 154,
    "start_time": "2022-07-26T12:25:40.350Z"
   },
   {
    "duration": 7,
    "start_time": "2022-07-26T12:25:40.506Z"
   },
   {
    "duration": 40,
    "start_time": "2022-07-26T12:25:40.514Z"
   },
   {
    "duration": 8,
    "start_time": "2022-07-26T12:27:18.965Z"
   },
   {
    "duration": 9,
    "start_time": "2022-07-26T12:27:21.799Z"
   },
   {
    "duration": 10,
    "start_time": "2022-07-26T12:28:52.057Z"
   },
   {
    "duration": 9,
    "start_time": "2022-07-26T12:29:09.666Z"
   },
   {
    "duration": 8,
    "start_time": "2022-07-26T12:33:42.660Z"
   },
   {
    "duration": 8,
    "start_time": "2022-07-26T12:33:46.939Z"
   },
   {
    "duration": 8,
    "start_time": "2022-07-26T12:35:10.679Z"
   },
   {
    "duration": 1355,
    "start_time": "2022-07-27T10:38:40.598Z"
   },
   {
    "duration": 138,
    "start_time": "2022-07-27T10:38:41.955Z"
   },
   {
    "duration": 14,
    "start_time": "2022-07-27T10:38:42.095Z"
   },
   {
    "duration": 21,
    "start_time": "2022-07-27T10:38:42.111Z"
   },
   {
    "duration": 208,
    "start_time": "2022-07-27T10:38:42.133Z"
   },
   {
    "duration": 13,
    "start_time": "2022-07-27T10:38:42.343Z"
   },
   {
    "duration": 14,
    "start_time": "2022-07-27T10:38:42.357Z"
   },
   {
    "duration": 10,
    "start_time": "2022-07-27T10:38:42.373Z"
   },
   {
    "duration": 9,
    "start_time": "2022-07-27T10:38:42.385Z"
   },
   {
    "duration": 6,
    "start_time": "2022-07-27T10:38:42.398Z"
   },
   {
    "duration": 18,
    "start_time": "2022-07-27T10:38:42.406Z"
   },
   {
    "duration": 16,
    "start_time": "2022-07-27T10:38:42.435Z"
   },
   {
    "duration": 9,
    "start_time": "2022-07-27T10:38:42.453Z"
   },
   {
    "duration": 14,
    "start_time": "2022-07-27T10:38:42.464Z"
   },
   {
    "duration": 10,
    "start_time": "2022-07-27T10:38:42.480Z"
   },
   {
    "duration": 9,
    "start_time": "2022-07-27T10:38:42.492Z"
   },
   {
    "duration": 27,
    "start_time": "2022-07-27T10:38:42.503Z"
   },
   {
    "duration": 208,
    "start_time": "2022-07-27T10:38:42.534Z"
   },
   {
    "duration": 138,
    "start_time": "2022-07-27T10:38:42.743Z"
   },
   {
    "duration": 10,
    "start_time": "2022-07-27T10:38:42.883Z"
   },
   {
    "duration": 337,
    "start_time": "2022-07-27T10:38:42.895Z"
   },
   {
    "duration": 229,
    "start_time": "2022-07-27T10:38:43.236Z"
   },
   {
    "duration": 393,
    "start_time": "2022-07-27T10:38:43.467Z"
   },
   {
    "duration": 244,
    "start_time": "2022-07-27T10:38:43.861Z"
   },
   {
    "duration": 374,
    "start_time": "2022-07-27T10:38:44.108Z"
   },
   {
    "duration": 210,
    "start_time": "2022-07-27T10:38:44.484Z"
   },
   {
    "duration": 5,
    "start_time": "2022-07-27T10:38:44.696Z"
   },
   {
    "duration": 163,
    "start_time": "2022-07-27T10:38:44.706Z"
   },
   {
    "duration": 172,
    "start_time": "2022-07-27T10:38:44.871Z"
   },
   {
    "duration": 5,
    "start_time": "2022-07-27T10:38:45.045Z"
   },
   {
    "duration": 261,
    "start_time": "2022-07-27T10:38:45.052Z"
   },
   {
    "duration": 146,
    "start_time": "2022-07-27T10:38:45.315Z"
   },
   {
    "duration": 9,
    "start_time": "2022-07-27T10:38:45.463Z"
   },
   {
    "duration": 20,
    "start_time": "2022-07-27T10:38:45.474Z"
   },
   {
    "duration": 7,
    "start_time": "2022-07-27T10:38:45.496Z"
   },
   {
    "duration": 44,
    "start_time": "2022-07-27T10:38:45.504Z"
   },
   {
    "duration": 11,
    "start_time": "2022-07-27T10:38:45.549Z"
   },
   {
    "duration": 157,
    "start_time": "2022-07-27T10:38:45.562Z"
   },
   {
    "duration": 160,
    "start_time": "2022-07-27T10:38:45.724Z"
   },
   {
    "duration": 7,
    "start_time": "2022-07-27T10:38:45.886Z"
   },
   {
    "duration": 32,
    "start_time": "2022-07-27T10:38:45.895Z"
   },
   {
    "duration": 4,
    "start_time": "2022-07-27T10:39:40.470Z"
   },
   {
    "duration": 4,
    "start_time": "2022-07-27T10:39:54.113Z"
   },
   {
    "duration": 1164,
    "start_time": "2022-07-27T12:03:50.314Z"
   },
   {
    "duration": 130,
    "start_time": "2022-07-27T12:03:51.480Z"
   },
   {
    "duration": 14,
    "start_time": "2022-07-27T12:03:51.611Z"
   },
   {
    "duration": 12,
    "start_time": "2022-07-27T12:03:51.627Z"
   },
   {
    "duration": 131,
    "start_time": "2022-07-27T12:03:51.640Z"
   },
   {
    "duration": 10,
    "start_time": "2022-07-27T12:03:51.773Z"
   },
   {
    "duration": 10,
    "start_time": "2022-07-27T12:03:51.784Z"
   },
   {
    "duration": 11,
    "start_time": "2022-07-27T12:03:51.796Z"
   },
   {
    "duration": 12,
    "start_time": "2022-07-27T12:03:51.808Z"
   },
   {
    "duration": 12,
    "start_time": "2022-07-27T12:03:51.823Z"
   },
   {
    "duration": 13,
    "start_time": "2022-07-27T12:03:51.837Z"
   },
   {
    "duration": 15,
    "start_time": "2022-07-27T12:03:51.851Z"
   },
   {
    "duration": 14,
    "start_time": "2022-07-27T12:03:51.868Z"
   },
   {
    "duration": 12,
    "start_time": "2022-07-27T12:03:51.883Z"
   },
   {
    "duration": 15,
    "start_time": "2022-07-27T12:03:51.896Z"
   },
   {
    "duration": 14,
    "start_time": "2022-07-27T12:03:51.912Z"
   },
   {
    "duration": 4,
    "start_time": "2022-07-27T12:03:51.928Z"
   },
   {
    "duration": 149,
    "start_time": "2022-07-27T12:03:51.934Z"
   },
   {
    "duration": 109,
    "start_time": "2022-07-27T12:03:52.085Z"
   },
   {
    "duration": 8,
    "start_time": "2022-07-27T12:03:52.196Z"
   },
   {
    "duration": 267,
    "start_time": "2022-07-27T12:03:52.206Z"
   },
   {
    "duration": 195,
    "start_time": "2022-07-27T12:03:52.474Z"
   },
   {
    "duration": 305,
    "start_time": "2022-07-27T12:03:52.670Z"
   },
   {
    "duration": 204,
    "start_time": "2022-07-27T12:03:52.977Z"
   },
   {
    "duration": 294,
    "start_time": "2022-07-27T12:03:53.182Z"
   },
   {
    "duration": 131,
    "start_time": "2022-07-27T12:03:53.478Z"
   },
   {
    "duration": 4,
    "start_time": "2022-07-27T12:03:53.611Z"
   },
   {
    "duration": 124,
    "start_time": "2022-07-27T12:03:53.618Z"
   },
   {
    "duration": 136,
    "start_time": "2022-07-27T12:03:53.744Z"
   },
   {
    "duration": 4,
    "start_time": "2022-07-27T12:03:53.882Z"
   },
   {
    "duration": 221,
    "start_time": "2022-07-27T12:03:53.888Z"
   },
   {
    "duration": 139,
    "start_time": "2022-07-27T12:03:54.110Z"
   },
   {
    "duration": 20,
    "start_time": "2022-07-27T12:03:54.251Z"
   },
   {
    "duration": 9,
    "start_time": "2022-07-27T12:03:54.273Z"
   },
   {
    "duration": 4,
    "start_time": "2022-07-27T12:03:54.284Z"
   },
   {
    "duration": 9,
    "start_time": "2022-07-27T12:03:54.289Z"
   },
   {
    "duration": 34,
    "start_time": "2022-07-27T12:03:54.300Z"
   },
   {
    "duration": 123,
    "start_time": "2022-07-27T12:03:54.336Z"
   },
   {
    "duration": 128,
    "start_time": "2022-07-27T12:03:54.461Z"
   },
   {
    "duration": 20,
    "start_time": "2022-07-27T12:03:54.591Z"
   },
   {
    "duration": 10,
    "start_time": "2022-07-27T12:03:54.631Z"
   },
   {
    "duration": 3,
    "start_time": "2022-07-27T12:05:55.826Z"
   },
   {
    "duration": 39,
    "start_time": "2022-07-27T12:05:55.830Z"
   },
   {
    "duration": 11,
    "start_time": "2022-07-27T12:05:55.871Z"
   },
   {
    "duration": 14,
    "start_time": "2022-07-27T12:05:55.884Z"
   },
   {
    "duration": 59,
    "start_time": "2022-07-27T12:05:55.900Z"
   },
   {
    "duration": 10,
    "start_time": "2022-07-27T12:05:55.960Z"
   },
   {
    "duration": 16,
    "start_time": "2022-07-27T12:05:55.971Z"
   },
   {
    "duration": 10,
    "start_time": "2022-07-27T12:05:55.988Z"
   },
   {
    "duration": 6,
    "start_time": "2022-07-27T12:05:56.000Z"
   },
   {
    "duration": 8,
    "start_time": "2022-07-27T12:05:56.007Z"
   },
   {
    "duration": 10,
    "start_time": "2022-07-27T12:05:56.016Z"
   },
   {
    "duration": 13,
    "start_time": "2022-07-27T12:05:56.028Z"
   },
   {
    "duration": 8,
    "start_time": "2022-07-27T12:05:56.042Z"
   },
   {
    "duration": 11,
    "start_time": "2022-07-27T12:05:56.051Z"
   },
   {
    "duration": 11,
    "start_time": "2022-07-27T12:05:56.063Z"
   },
   {
    "duration": 8,
    "start_time": "2022-07-27T12:05:56.075Z"
   },
   {
    "duration": 5,
    "start_time": "2022-07-27T12:05:56.084Z"
   },
   {
    "duration": 246,
    "start_time": "2022-07-27T12:05:56.091Z"
   },
   {
    "duration": 113,
    "start_time": "2022-07-27T12:05:56.339Z"
   },
   {
    "duration": 9,
    "start_time": "2022-07-27T12:05:56.453Z"
   },
   {
    "duration": 199,
    "start_time": "2022-07-27T12:05:56.464Z"
   },
   {
    "duration": 205,
    "start_time": "2022-07-27T12:05:56.665Z"
   },
   {
    "duration": 275,
    "start_time": "2022-07-27T12:05:56.872Z"
   },
   {
    "duration": 200,
    "start_time": "2022-07-27T12:05:57.150Z"
   },
   {
    "duration": 287,
    "start_time": "2022-07-27T12:05:57.352Z"
   },
   {
    "duration": 127,
    "start_time": "2022-07-27T12:05:57.640Z"
   },
   {
    "duration": 3,
    "start_time": "2022-07-27T12:05:57.769Z"
   },
   {
    "duration": 146,
    "start_time": "2022-07-27T12:05:57.774Z"
   },
   {
    "duration": 142,
    "start_time": "2022-07-27T12:05:57.922Z"
   },
   {
    "duration": 3,
    "start_time": "2022-07-27T12:05:58.066Z"
   },
   {
    "duration": 226,
    "start_time": "2022-07-27T12:05:58.070Z"
   },
   {
    "duration": 113,
    "start_time": "2022-07-27T12:05:58.297Z"
   },
   {
    "duration": 29,
    "start_time": "2022-07-27T12:05:58.411Z"
   },
   {
    "duration": 10,
    "start_time": "2022-07-27T12:05:58.442Z"
   },
   {
    "duration": 4,
    "start_time": "2022-07-27T12:05:58.454Z"
   },
   {
    "duration": 7,
    "start_time": "2022-07-27T12:05:58.460Z"
   },
   {
    "duration": 9,
    "start_time": "2022-07-27T12:05:58.468Z"
   },
   {
    "duration": 153,
    "start_time": "2022-07-27T12:05:58.479Z"
   },
   {
    "duration": 119,
    "start_time": "2022-07-27T12:05:58.634Z"
   },
   {
    "duration": 20,
    "start_time": "2022-07-27T12:05:58.754Z"
   },
   {
    "duration": 9,
    "start_time": "2022-07-27T12:05:58.776Z"
   },
   {
    "duration": 1617,
    "start_time": "2022-07-28T09:57:09.392Z"
   },
   {
    "duration": 161,
    "start_time": "2022-07-28T09:57:11.011Z"
   },
   {
    "duration": 22,
    "start_time": "2022-07-28T09:57:11.174Z"
   },
   {
    "duration": 17,
    "start_time": "2022-07-28T09:57:11.198Z"
   },
   {
    "duration": 154,
    "start_time": "2022-07-28T09:57:11.218Z"
   },
   {
    "duration": 14,
    "start_time": "2022-07-28T09:57:11.374Z"
   },
   {
    "duration": 12,
    "start_time": "2022-07-28T09:57:11.390Z"
   },
   {
    "duration": 15,
    "start_time": "2022-07-28T09:57:11.404Z"
   },
   {
    "duration": 12,
    "start_time": "2022-07-28T09:57:11.421Z"
   },
   {
    "duration": 10,
    "start_time": "2022-07-28T09:57:11.436Z"
   },
   {
    "duration": 10,
    "start_time": "2022-07-28T09:57:11.447Z"
   },
   {
    "duration": 11,
    "start_time": "2022-07-28T09:57:11.459Z"
   },
   {
    "duration": 10,
    "start_time": "2022-07-28T09:57:11.472Z"
   },
   {
    "duration": 13,
    "start_time": "2022-07-28T09:57:11.512Z"
   },
   {
    "duration": 12,
    "start_time": "2022-07-28T09:57:11.527Z"
   },
   {
    "duration": 11,
    "start_time": "2022-07-28T09:57:11.541Z"
   },
   {
    "duration": 7,
    "start_time": "2022-07-28T09:57:11.554Z"
   },
   {
    "duration": 283,
    "start_time": "2022-07-28T09:57:11.564Z"
   },
   {
    "duration": 216,
    "start_time": "2022-07-28T09:57:11.850Z"
   },
   {
    "duration": 14,
    "start_time": "2022-07-28T09:57:12.069Z"
   },
   {
    "duration": 383,
    "start_time": "2022-07-28T09:57:12.086Z"
   },
   {
    "duration": 246,
    "start_time": "2022-07-28T09:57:12.471Z"
   },
   {
    "duration": 401,
    "start_time": "2022-07-28T09:57:12.719Z"
   },
   {
    "duration": 247,
    "start_time": "2022-07-28T09:57:13.121Z"
   },
   {
    "duration": 356,
    "start_time": "2022-07-28T09:57:13.370Z"
   },
   {
    "duration": 150,
    "start_time": "2022-07-28T09:57:13.728Z"
   },
   {
    "duration": 6,
    "start_time": "2022-07-28T09:57:13.879Z"
   },
   {
    "duration": 146,
    "start_time": "2022-07-28T09:57:13.887Z"
   },
   {
    "duration": 159,
    "start_time": "2022-07-28T09:57:14.034Z"
   },
   {
    "duration": 5,
    "start_time": "2022-07-28T09:57:14.195Z"
   },
   {
    "duration": 257,
    "start_time": "2022-07-28T09:57:14.211Z"
   },
   {
    "duration": 161,
    "start_time": "2022-07-28T09:57:14.471Z"
   },
   {
    "duration": 29,
    "start_time": "2022-07-28T09:57:14.634Z"
   },
   {
    "duration": 13,
    "start_time": "2022-07-28T09:57:14.665Z"
   },
   {
    "duration": 8,
    "start_time": "2022-07-28T09:57:14.680Z"
   },
   {
    "duration": 8,
    "start_time": "2022-07-28T09:57:14.711Z"
   },
   {
    "duration": 19,
    "start_time": "2022-07-28T09:57:14.721Z"
   },
   {
    "duration": 157,
    "start_time": "2022-07-28T09:57:14.742Z"
   },
   {
    "duration": 139,
    "start_time": "2022-07-28T09:57:14.901Z"
   },
   {
    "duration": 28,
    "start_time": "2022-07-28T09:57:15.042Z"
   },
   {
    "duration": 36,
    "start_time": "2022-07-28T09:57:15.075Z"
   },
   {
    "duration": 9,
    "start_time": "2023-09-09T13:11:40.127Z"
   },
   {
    "duration": 10,
    "start_time": "2023-09-09T13:16:49.984Z"
   },
   {
    "duration": 132,
    "start_time": "2023-09-09T13:17:00.297Z"
   },
   {
    "duration": 119,
    "start_time": "2023-09-09T13:17:07.048Z"
   }
  ],
  "kernelspec": {
   "display_name": "Python 3 (ipykernel)",
   "language": "python",
   "name": "python3"
  },
  "language_info": {
   "codemirror_mode": {
    "name": "ipython",
    "version": 3
   },
   "file_extension": ".py",
   "mimetype": "text/x-python",
   "name": "python",
   "nbconvert_exporter": "python",
   "pygments_lexer": "ipython3",
   "version": "3.9.7"
  },
  "toc": {
   "base_numbering": 1,
   "nav_menu": {},
   "number_sections": false,
   "sideBar": true,
   "skip_h1_title": false,
   "title_cell": "Table of Contents",
   "title_sidebar": "Contents",
   "toc_cell": false,
   "toc_position": {
    "height": "1104px",
    "left": "28px",
    "top": "111.125px",
    "width": "336.349px"
   },
   "toc_section_display": true,
   "toc_window_display": false
  }
 },
 "nbformat": 4,
 "nbformat_minor": 2
}
